{
  "cells": [
    {
      "cell_type": "markdown",
      "metadata": {
        "id": "view-in-github",
        "colab_type": "text"
      },
      "source": [
        "<a href=\"https://colab.research.google.com/github/rsrupeshsen/-Tree-Species-Classification/blob/main/treeClassifier.ipynb\" target=\"_parent\"><img src=\"https://colab.research.google.com/assets/colab-badge.svg\" alt=\"Open In Colab\"/></a>"
      ]
    },
    {
      "cell_type": "markdown",
      "id": "632460ab-3fc3-4526-b2ff-1fd97004cb3c",
      "metadata": {
        "id": "632460ab-3fc3-4526-b2ff-1fd97004cb3c"
      },
      "source": [
        "This is the initial stage of treeClassifier."
      ]
    },
    {
      "cell_type": "code",
      "source": [
        "!git clone https://github.com/rsrupeshsen/-Tree-Species-Classification.git"
      ],
      "metadata": {
        "colab": {
          "base_uri": "https://localhost:8080/"
        },
        "id": "iJEr8ibEEOjA",
        "outputId": "46dbd6f9-b955-4907-85a3-d8f2e504f0d3"
      },
      "id": "iJEr8ibEEOjA",
      "execution_count": null,
      "outputs": [
        {
          "output_type": "stream",
          "name": "stdout",
          "text": [
            "Cloning into '-Tree-Species-Classification'...\n",
            "warning: You appear to have cloned an empty repository.\n"
          ]
        }
      ]
    },
    {
      "cell_type": "code",
      "execution_count": null,
      "id": "5dadf73c-3cf5-4c5e-8149-c06616d68a16",
      "metadata": {
        "id": "5dadf73c-3cf5-4c5e-8149-c06616d68a16"
      },
      "outputs": [],
      "source": [
        "import pandas as pd\n",
        "import numpy as np\n",
        "from sklearn.model_selection import train_test_split\n",
        "from keras.models import Sequential\n",
        "from keras.layers import Dense\n",
        "from keras.utils import to_categorical\n",
        "from sklearn.preprocessing import OneHotEncoder\n",
        "from sklearn.preprocessing import LabelEncoder"
      ]
    },
    {
      "cell_type": "code",
      "execution_count": null,
      "id": "7196e132-c768-4c94-b284-2f25e82ffff1",
      "metadata": {
        "colab": {
          "base_uri": "https://localhost:8080/",
          "height": 178
        },
        "id": "7196e132-c768-4c94-b284-2f25e82ffff1",
        "outputId": "73aed69f-b0da-4f88-b58a-43872c2b82b1"
      },
      "outputs": [
        {
          "output_type": "display_data",
          "data": {
            "text/plain": [
              "<IPython.core.display.HTML object>"
            ],
            "text/html": [
              "\n",
              "     <input type=\"file\" id=\"files-545b7ca3-616c-4325-9f2a-fb4426311151\" name=\"files[]\" multiple disabled\n",
              "        style=\"border:none\" />\n",
              "     <output id=\"result-545b7ca3-616c-4325-9f2a-fb4426311151\">\n",
              "      Upload widget is only available when the cell has been executed in the\n",
              "      current browser session. Please rerun this cell to enable.\n",
              "      </output>\n",
              "      <script>// Copyright 2017 Google LLC\n",
              "//\n",
              "// Licensed under the Apache License, Version 2.0 (the \"License\");\n",
              "// you may not use this file except in compliance with the License.\n",
              "// You may obtain a copy of the License at\n",
              "//\n",
              "//      http://www.apache.org/licenses/LICENSE-2.0\n",
              "//\n",
              "// Unless required by applicable law or agreed to in writing, software\n",
              "// distributed under the License is distributed on an \"AS IS\" BASIS,\n",
              "// WITHOUT WARRANTIES OR CONDITIONS OF ANY KIND, either express or implied.\n",
              "// See the License for the specific language governing permissions and\n",
              "// limitations under the License.\n",
              "\n",
              "/**\n",
              " * @fileoverview Helpers for google.colab Python module.\n",
              " */\n",
              "(function(scope) {\n",
              "function span(text, styleAttributes = {}) {\n",
              "  const element = document.createElement('span');\n",
              "  element.textContent = text;\n",
              "  for (const key of Object.keys(styleAttributes)) {\n",
              "    element.style[key] = styleAttributes[key];\n",
              "  }\n",
              "  return element;\n",
              "}\n",
              "\n",
              "// Max number of bytes which will be uploaded at a time.\n",
              "const MAX_PAYLOAD_SIZE = 100 * 1024;\n",
              "\n",
              "function _uploadFiles(inputId, outputId) {\n",
              "  const steps = uploadFilesStep(inputId, outputId);\n",
              "  const outputElement = document.getElementById(outputId);\n",
              "  // Cache steps on the outputElement to make it available for the next call\n",
              "  // to uploadFilesContinue from Python.\n",
              "  outputElement.steps = steps;\n",
              "\n",
              "  return _uploadFilesContinue(outputId);\n",
              "}\n",
              "\n",
              "// This is roughly an async generator (not supported in the browser yet),\n",
              "// where there are multiple asynchronous steps and the Python side is going\n",
              "// to poll for completion of each step.\n",
              "// This uses a Promise to block the python side on completion of each step,\n",
              "// then passes the result of the previous step as the input to the next step.\n",
              "function _uploadFilesContinue(outputId) {\n",
              "  const outputElement = document.getElementById(outputId);\n",
              "  const steps = outputElement.steps;\n",
              "\n",
              "  const next = steps.next(outputElement.lastPromiseValue);\n",
              "  return Promise.resolve(next.value.promise).then((value) => {\n",
              "    // Cache the last promise value to make it available to the next\n",
              "    // step of the generator.\n",
              "    outputElement.lastPromiseValue = value;\n",
              "    return next.value.response;\n",
              "  });\n",
              "}\n",
              "\n",
              "/**\n",
              " * Generator function which is called between each async step of the upload\n",
              " * process.\n",
              " * @param {string} inputId Element ID of the input file picker element.\n",
              " * @param {string} outputId Element ID of the output display.\n",
              " * @return {!Iterable<!Object>} Iterable of next steps.\n",
              " */\n",
              "function* uploadFilesStep(inputId, outputId) {\n",
              "  const inputElement = document.getElementById(inputId);\n",
              "  inputElement.disabled = false;\n",
              "\n",
              "  const outputElement = document.getElementById(outputId);\n",
              "  outputElement.innerHTML = '';\n",
              "\n",
              "  const pickedPromise = new Promise((resolve) => {\n",
              "    inputElement.addEventListener('change', (e) => {\n",
              "      resolve(e.target.files);\n",
              "    });\n",
              "  });\n",
              "\n",
              "  const cancel = document.createElement('button');\n",
              "  inputElement.parentElement.appendChild(cancel);\n",
              "  cancel.textContent = 'Cancel upload';\n",
              "  const cancelPromise = new Promise((resolve) => {\n",
              "    cancel.onclick = () => {\n",
              "      resolve(null);\n",
              "    };\n",
              "  });\n",
              "\n",
              "  // Wait for the user to pick the files.\n",
              "  const files = yield {\n",
              "    promise: Promise.race([pickedPromise, cancelPromise]),\n",
              "    response: {\n",
              "      action: 'starting',\n",
              "    }\n",
              "  };\n",
              "\n",
              "  cancel.remove();\n",
              "\n",
              "  // Disable the input element since further picks are not allowed.\n",
              "  inputElement.disabled = true;\n",
              "\n",
              "  if (!files) {\n",
              "    return {\n",
              "      response: {\n",
              "        action: 'complete',\n",
              "      }\n",
              "    };\n",
              "  }\n",
              "\n",
              "  for (const file of files) {\n",
              "    const li = document.createElement('li');\n",
              "    li.append(span(file.name, {fontWeight: 'bold'}));\n",
              "    li.append(span(\n",
              "        `(${file.type || 'n/a'}) - ${file.size} bytes, ` +\n",
              "        `last modified: ${\n",
              "            file.lastModifiedDate ? file.lastModifiedDate.toLocaleDateString() :\n",
              "                                    'n/a'} - `));\n",
              "    const percent = span('0% done');\n",
              "    li.appendChild(percent);\n",
              "\n",
              "    outputElement.appendChild(li);\n",
              "\n",
              "    const fileDataPromise = new Promise((resolve) => {\n",
              "      const reader = new FileReader();\n",
              "      reader.onload = (e) => {\n",
              "        resolve(e.target.result);\n",
              "      };\n",
              "      reader.readAsArrayBuffer(file);\n",
              "    });\n",
              "    // Wait for the data to be ready.\n",
              "    let fileData = yield {\n",
              "      promise: fileDataPromise,\n",
              "      response: {\n",
              "        action: 'continue',\n",
              "      }\n",
              "    };\n",
              "\n",
              "    // Use a chunked sending to avoid message size limits. See b/62115660.\n",
              "    let position = 0;\n",
              "    do {\n",
              "      const length = Math.min(fileData.byteLength - position, MAX_PAYLOAD_SIZE);\n",
              "      const chunk = new Uint8Array(fileData, position, length);\n",
              "      position += length;\n",
              "\n",
              "      const base64 = btoa(String.fromCharCode.apply(null, chunk));\n",
              "      yield {\n",
              "        response: {\n",
              "          action: 'append',\n",
              "          file: file.name,\n",
              "          data: base64,\n",
              "        },\n",
              "      };\n",
              "\n",
              "      let percentDone = fileData.byteLength === 0 ?\n",
              "          100 :\n",
              "          Math.round((position / fileData.byteLength) * 100);\n",
              "      percent.textContent = `${percentDone}% done`;\n",
              "\n",
              "    } while (position < fileData.byteLength);\n",
              "  }\n",
              "\n",
              "  // All done.\n",
              "  yield {\n",
              "    response: {\n",
              "      action: 'complete',\n",
              "    }\n",
              "  };\n",
              "}\n",
              "\n",
              "scope.google = scope.google || {};\n",
              "scope.google.colab = scope.google.colab || {};\n",
              "scope.google.colab._files = {\n",
              "  _uploadFiles,\n",
              "  _uploadFilesContinue,\n",
              "};\n",
              "})(self);\n",
              "</script> "
            ]
          },
          "metadata": {}
        },
        {
          "output_type": "stream",
          "name": "stdout",
          "text": [
            "Saving Madhuca-longifolia.jpg to Madhuca-longifolia (25).jpg\n",
            "          TreeSpecies  Ratio  Angle\n",
            "0  Madhuca Longifolia   3.32     70\n",
            "1  Madhuca Longifolia   3.18     75\n",
            "2  Madhuca Longifolia   3.33     80\n",
            "3  Madhuca Longifolia   3.40     65\n",
            "4  Madhuca Longifolia   3.39     65\n"
          ]
        }
      ],
      "source": [
        "from google.colab import files\n",
        "uploaded = files.upload()\n",
        "import pandas as pd\n",
        "\n",
        "# Replace with exact filename shown in upload\n",
        "data = pd.read_csv('TreeDataSet.csv')\n",
        "print(data.head())\n"
      ]
    },
    {
      "cell_type": "code",
      "execution_count": null,
      "id": "2f746dbc-507a-4220-b40b-e7b36e9c21ad",
      "metadata": {
        "id": "2f746dbc-507a-4220-b40b-e7b36e9c21ad"
      },
      "outputs": [],
      "source": [
        "# Adjust column names\n",
        "data.columns = ['TreeSpecies', 'Ratio', 'Angle']"
      ]
    },
    {
      "cell_type": "code",
      "execution_count": null,
      "id": "a62acdf1-ab9d-4b50-bf9a-451df8e626ea",
      "metadata": {
        "colab": {
          "base_uri": "https://localhost:8080/"
        },
        "id": "a62acdf1-ab9d-4b50-bf9a-451df8e626ea",
        "outputId": "ba571b1e-d7d5-4ba9-d646-9f957b21bfd6"
      },
      "outputs": [
        {
          "output_type": "stream",
          "name": "stdout",
          "text": [
            "Data types in features (X):\n",
            "Ratio    float64\n",
            "Angle      int64\n",
            "dtype: object\n",
            "Data type in labels (y):\n",
            "object\n"
          ]
        }
      ],
      "source": [
        "# Check for data types in features and labels (for debugging)\n",
        "print(\"Data types in features (X):\")\n",
        "print(data[[ 'Ratio', 'Angle']].dtypes)\n",
        "print(\"Data type in labels (y):\")\n",
        "print(data['TreeSpecies'].dtype)"
      ]
    },
    {
      "cell_type": "code",
      "execution_count": null,
      "id": "b7d25682-e89c-4e5b-9481-bc296d7a9a7c",
      "metadata": {
        "id": "b7d25682-e89c-4e5b-9481-bc296d7a9a7c"
      },
      "outputs": [],
      "source": [
        "# Prepare features and labels\n",
        "# Select features excluding column names\n",
        "X = data[['Ratio', 'Angle']]"
      ]
    },
    {
      "cell_type": "code",
      "execution_count": null,
      "id": "cf50cc54-5d22-4be1-adfa-e69b64c9c861",
      "metadata": {
        "id": "cf50cc54-5d22-4be1-adfa-e69b64c9c861"
      },
      "outputs": [],
      "source": [
        "# Attempt to convert features to numerics (assuming numerical data)\n",
        "X = X.apply(pd.to_numeric, errors='coerce').values"
      ]
    },
    {
      "cell_type": "code",
      "execution_count": null,
      "id": "27148341-eee3-4657-b55b-3ed5a16064cb",
      "metadata": {
        "id": "27148341-eee3-4657-b55b-3ed5a16064cb"
      },
      "outputs": [],
      "source": [
        "# Encode labels into integers (assuming categorical labels)\n",
        "label_encoder = LabelEncoder()\n",
        "y = label_encoder.fit_transform(data['TreeSpecies'].values)"
      ]
    },
    {
      "cell_type": "code",
      "execution_count": null,
      "id": "7fea174d-8c0b-43c3-9529-19593ea312e7",
      "metadata": {
        "colab": {
          "base_uri": "https://localhost:8080/"
        },
        "id": "7fea174d-8c0b-43c3-9529-19593ea312e7",
        "outputId": "4c5368e8-5f9b-4a6a-96d4-f2c682dae7b5"
      },
      "outputs": [
        {
          "output_type": "stream",
          "name": "stdout",
          "text": [
            "Number of unique classes after label encoding: 3\n"
          ]
        }
      ],
      "source": [
        "# Check the number of unique classes after label encoding (for debugging)\n",
        "print(\"Number of unique classes after label encoding:\", len(label_encoder.classes_))"
      ]
    },
    {
      "cell_type": "code",
      "execution_count": null,
      "id": "c4b40da3-da91-49f2-9f3d-f7e3c20d4637",
      "metadata": {
        "id": "c4b40da3-da91-49f2-9f3d-f7e3c20d4637"
      },
      "outputs": [],
      "source": [
        "# Convert labels to categorical (one-hot encoding)\n",
        "encoder = OneHotEncoder(sparse_output=False)\n",
        "y = encoder.fit_transform(y.reshape(-1, 1))  # Reshape for compatibility"
      ]
    },
    {
      "cell_type": "code",
      "execution_count": null,
      "id": "e7cbf8b6-b029-4685-938c-4013d42a5428",
      "metadata": {
        "colab": {
          "base_uri": "https://localhost:8080/"
        },
        "id": "e7cbf8b6-b029-4685-938c-4013d42a5428",
        "outputId": "fb5d244e-eda1-4828-b8f6-8a19cd0e08f0"
      },
      "outputs": [
        {
          "output_type": "stream",
          "name": "stdout",
          "text": [
            "Shape of encoded labels (y): (90, 3)\n"
          ]
        }
      ],
      "source": [
        "# Check the shape of the encoded labels (for debugging)\n",
        "print(\"Shape of encoded labels (y):\", y.shape)"
      ]
    },
    {
      "cell_type": "code",
      "execution_count": null,
      "id": "409a9cbb-0f73-47d1-b7f3-62cbd8dd4845",
      "metadata": {
        "id": "409a9cbb-0f73-47d1-b7f3-62cbd8dd4845"
      },
      "outputs": [],
      "source": [
        "# Split data into training and testing sets\n",
        "X_train, X_test, y_train, y_test = train_test_split(X, y, test_size=0.2, random_state=3)"
      ]
    },
    {
      "cell_type": "code",
      "execution_count": null,
      "id": "d448147e-1bc7-4a48-923a-54c5b39f89b7",
      "metadata": {
        "colab": {
          "base_uri": "https://localhost:8080/"
        },
        "id": "d448147e-1bc7-4a48-923a-54c5b39f89b7",
        "outputId": "0fda3e2f-535a-429f-930a-37148ec93f7e"
      },
      "outputs": [
        {
          "output_type": "stream",
          "name": "stdout",
          "text": [
            "Shape of training features (X_train): (72, 2)\n"
          ]
        }
      ],
      "source": [
        "# Print the shape of training features (for debugging)\n",
        "print(\"Shape of training features (X_train):\", X_train.shape)"
      ]
    },
    {
      "cell_type": "code",
      "execution_count": null,
      "id": "ed3a01d2-1e57-45b9-8535-df2acbeafd5d",
      "metadata": {
        "id": "ed3a01d2-1e57-45b9-8535-df2acbeafd5d"
      },
      "outputs": [],
      "source": [
        "from keras.models import Model\n",
        "from keras.layers import Input, Dense\n",
        "\n",
        "# Define the input layer with shape (2,)\n",
        "input_layer = Input(shape=(2,))\n",
        "\n",
        "# Define the layers of the model\n",
        "hidden_layer1 = Dense(units=30, activation='relu')(input_layer) # First hidden layer with 30 units and ReLU activation\n",
        "hidden_layer2 = Dense(units=30, activation='relu')(hidden_layer1) # Second hidden layer with 30 units and ReLU activation\n",
        "output_layer = Dense(units=3, activation='softmax')(hidden_layer2) # Output layer with 5 units and softmax activation\n",
        "\n",
        "# Define the model\n",
        "custom_model = Model(inputs=input_layer, outputs=output_layer) # Creating a model with specified input and output layers"
      ]
    },
    {
      "cell_type": "code",
      "execution_count": null,
      "id": "c9320cf5-572e-405c-bd05-10e7f500723e",
      "metadata": {
        "id": "c9320cf5-572e-405c-bd05-10e7f500723e"
      },
      "outputs": [],
      "source": [
        "# Compile the model\n",
        "custom_model.compile(optimizer='adam',\n",
        "                     loss='categorical_crossentropy',\n",
        "                     metrics=['accuracy'])"
      ]
    },
    {
      "cell_type": "code",
      "execution_count": null,
      "id": "e7c065f8-0661-4956-9e91-d25ca6d2d0be",
      "metadata": {
        "colab": {
          "base_uri": "https://localhost:8080/"
        },
        "id": "e7c065f8-0661-4956-9e91-d25ca6d2d0be",
        "outputId": "d3573d3f-fd16-430d-8bc3-7dff13da61f3"
      },
      "outputs": [
        {
          "output_type": "stream",
          "name": "stdout",
          "text": [
            "Epoch 1/5\n",
            "\u001b[1m3/3\u001b[0m \u001b[32m━━━━━━━━━━━━━━━━━━━━\u001b[0m\u001b[37m\u001b[0m \u001b[1m2s\u001b[0m 17ms/step - accuracy: 0.5931 - loss: 2.7024\n",
            "Epoch 2/5\n",
            "\u001b[1m3/3\u001b[0m \u001b[32m━━━━━━━━━━━━━━━━━━━━\u001b[0m\u001b[37m\u001b[0m \u001b[1m0s\u001b[0m 17ms/step - accuracy: 0.6264 - loss: 0.9719\n",
            "Epoch 3/5\n",
            "\u001b[1m3/3\u001b[0m \u001b[32m━━━━━━━━━━━━━━━━━━━━\u001b[0m\u001b[37m\u001b[0m \u001b[1m0s\u001b[0m 18ms/step - accuracy: 0.5319 - loss: 1.2410\n",
            "Epoch 4/5\n",
            "\u001b[1m3/3\u001b[0m \u001b[32m━━━━━━━━━━━━━━━━━━━━\u001b[0m\u001b[37m\u001b[0m \u001b[1m0s\u001b[0m 19ms/step - accuracy: 0.6750 - loss: 1.0586\n",
            "Epoch 5/5\n",
            "\u001b[1m3/3\u001b[0m \u001b[32m━━━━━━━━━━━━━━━━━━━━\u001b[0m\u001b[37m\u001b[0m \u001b[1m0s\u001b[0m 19ms/step - accuracy: 0.6556 - loss: 0.8351\n"
          ]
        },
        {
          "output_type": "execute_result",
          "data": {
            "text/plain": [
              "<keras.src.callbacks.history.History at 0x7d40f65375d0>"
            ]
          },
          "metadata": {},
          "execution_count": 146
        }
      ],
      "source": [
        "# Train the model with the reshaped input data\n",
        "custom_model.fit(X_train, y_train, epochs=5, batch_size=30)"
      ]
    },
    {
      "cell_type": "code",
      "execution_count": null,
      "id": "0356928b-0fa0-447e-bece-adc5626c3ed6",
      "metadata": {
        "colab": {
          "base_uri": "https://localhost:8080/"
        },
        "id": "0356928b-0fa0-447e-bece-adc5626c3ed6",
        "outputId": "8241ad02-400e-49e6-bbeb-af52c4d29841"
      },
      "outputs": [
        {
          "output_type": "stream",
          "name": "stdout",
          "text": [
            "\u001b[1m1/1\u001b[0m \u001b[32m━━━━━━━━━━━━━━━━━━━━\u001b[0m\u001b[37m\u001b[0m \u001b[1m0s\u001b[0m 90ms/step\n"
          ]
        }
      ],
      "source": [
        "# Make predictions on the testing set\n",
        "y_pred = custom_model.predict(X_test)\n",
        "\n",
        "# Convert one-hot encoded predictions to class labels (optional)\n",
        "y_pred_classes = np.argmax(y_pred, axis=1)"
      ]
    },
    {
      "cell_type": "code",
      "execution_count": null,
      "id": "24f9055f-b4d1-4ec7-bbd1-783b549df995",
      "metadata": {
        "colab": {
          "base_uri": "https://localhost:8080/"
        },
        "id": "24f9055f-b4d1-4ec7-bbd1-783b549df995",
        "outputId": "cf9a39d0-7474-499a-c11b-477af75fb50c"
      },
      "outputs": [
        {
          "output_type": "stream",
          "name": "stdout",
          "text": [
            "\u001b[1m1/1\u001b[0m \u001b[32m━━━━━━━━━━━━━━━━━━━━\u001b[0m\u001b[37m\u001b[0m \u001b[1m0s\u001b[0m 268ms/step - accuracy: 0.5556 - loss: 1.1175\n",
            "Test accuracy: 0.5555555820465088\n"
          ]
        }
      ],
      "source": [
        "# Evaluate the model\n",
        "test_loss, test_acc = custom_model.evaluate(X_test, y_test)\n",
        "print('Test accuracy:', test_acc)"
      ]
    },
    {
      "cell_type": "markdown",
      "id": "3ec78087-44e4-483c-964c-5b5da8f995d8",
      "metadata": {
        "id": "3ec78087-44e4-483c-964c-5b5da8f995d8"
      },
      "source": [
        "\n",
        "Now we get \"0.3\" as accuracy, so we change the optimizer as \"rmsprop\" and observe the change.\n",
        "\n",
        "we start the procedure from beginning."
      ]
    },
    {
      "cell_type": "code",
      "execution_count": null,
      "id": "8ca27f92-6d9a-4908-b971-ca449aced287",
      "metadata": {
        "id": "8ca27f92-6d9a-4908-b971-ca449aced287"
      },
      "outputs": [],
      "source": [
        "import pandas as pd\n",
        "import numpy as np\n",
        "from sklearn.model_selection import train_test_split\n",
        "from keras.models import Sequential\n",
        "from keras.layers import Dense\n",
        "from keras.utils import to_categorical\n",
        "from sklearn.preprocessing import OneHotEncoder\n",
        "from sklearn.preprocessing import LabelEncoder"
      ]
    },
    {
      "cell_type": "code",
      "execution_count": null,
      "id": "50d302b1-4f88-4406-ad0c-0e305db6ae13",
      "metadata": {
        "colab": {
          "base_uri": "https://localhost:8080/",
          "height": 74
        },
        "id": "50d302b1-4f88-4406-ad0c-0e305db6ae13",
        "outputId": "705ec4bc-ca96-4c9a-e237-086a5de41048"
      },
      "outputs": [
        {
          "output_type": "display_data",
          "data": {
            "text/plain": [
              "<IPython.core.display.HTML object>"
            ],
            "text/html": [
              "\n",
              "     <input type=\"file\" id=\"files-e3bf5e94-5f7a-4b95-a4b4-107a402fa367\" name=\"files[]\" multiple disabled\n",
              "        style=\"border:none\" />\n",
              "     <output id=\"result-e3bf5e94-5f7a-4b95-a4b4-107a402fa367\">\n",
              "      Upload widget is only available when the cell has been executed in the\n",
              "      current browser session. Please rerun this cell to enable.\n",
              "      </output>\n",
              "      <script>// Copyright 2017 Google LLC\n",
              "//\n",
              "// Licensed under the Apache License, Version 2.0 (the \"License\");\n",
              "// you may not use this file except in compliance with the License.\n",
              "// You may obtain a copy of the License at\n",
              "//\n",
              "//      http://www.apache.org/licenses/LICENSE-2.0\n",
              "//\n",
              "// Unless required by applicable law or agreed to in writing, software\n",
              "// distributed under the License is distributed on an \"AS IS\" BASIS,\n",
              "// WITHOUT WARRANTIES OR CONDITIONS OF ANY KIND, either express or implied.\n",
              "// See the License for the specific language governing permissions and\n",
              "// limitations under the License.\n",
              "\n",
              "/**\n",
              " * @fileoverview Helpers for google.colab Python module.\n",
              " */\n",
              "(function(scope) {\n",
              "function span(text, styleAttributes = {}) {\n",
              "  const element = document.createElement('span');\n",
              "  element.textContent = text;\n",
              "  for (const key of Object.keys(styleAttributes)) {\n",
              "    element.style[key] = styleAttributes[key];\n",
              "  }\n",
              "  return element;\n",
              "}\n",
              "\n",
              "// Max number of bytes which will be uploaded at a time.\n",
              "const MAX_PAYLOAD_SIZE = 100 * 1024;\n",
              "\n",
              "function _uploadFiles(inputId, outputId) {\n",
              "  const steps = uploadFilesStep(inputId, outputId);\n",
              "  const outputElement = document.getElementById(outputId);\n",
              "  // Cache steps on the outputElement to make it available for the next call\n",
              "  // to uploadFilesContinue from Python.\n",
              "  outputElement.steps = steps;\n",
              "\n",
              "  return _uploadFilesContinue(outputId);\n",
              "}\n",
              "\n",
              "// This is roughly an async generator (not supported in the browser yet),\n",
              "// where there are multiple asynchronous steps and the Python side is going\n",
              "// to poll for completion of each step.\n",
              "// This uses a Promise to block the python side on completion of each step,\n",
              "// then passes the result of the previous step as the input to the next step.\n",
              "function _uploadFilesContinue(outputId) {\n",
              "  const outputElement = document.getElementById(outputId);\n",
              "  const steps = outputElement.steps;\n",
              "\n",
              "  const next = steps.next(outputElement.lastPromiseValue);\n",
              "  return Promise.resolve(next.value.promise).then((value) => {\n",
              "    // Cache the last promise value to make it available to the next\n",
              "    // step of the generator.\n",
              "    outputElement.lastPromiseValue = value;\n",
              "    return next.value.response;\n",
              "  });\n",
              "}\n",
              "\n",
              "/**\n",
              " * Generator function which is called between each async step of the upload\n",
              " * process.\n",
              " * @param {string} inputId Element ID of the input file picker element.\n",
              " * @param {string} outputId Element ID of the output display.\n",
              " * @return {!Iterable<!Object>} Iterable of next steps.\n",
              " */\n",
              "function* uploadFilesStep(inputId, outputId) {\n",
              "  const inputElement = document.getElementById(inputId);\n",
              "  inputElement.disabled = false;\n",
              "\n",
              "  const outputElement = document.getElementById(outputId);\n",
              "  outputElement.innerHTML = '';\n",
              "\n",
              "  const pickedPromise = new Promise((resolve) => {\n",
              "    inputElement.addEventListener('change', (e) => {\n",
              "      resolve(e.target.files);\n",
              "    });\n",
              "  });\n",
              "\n",
              "  const cancel = document.createElement('button');\n",
              "  inputElement.parentElement.appendChild(cancel);\n",
              "  cancel.textContent = 'Cancel upload';\n",
              "  const cancelPromise = new Promise((resolve) => {\n",
              "    cancel.onclick = () => {\n",
              "      resolve(null);\n",
              "    };\n",
              "  });\n",
              "\n",
              "  // Wait for the user to pick the files.\n",
              "  const files = yield {\n",
              "    promise: Promise.race([pickedPromise, cancelPromise]),\n",
              "    response: {\n",
              "      action: 'starting',\n",
              "    }\n",
              "  };\n",
              "\n",
              "  cancel.remove();\n",
              "\n",
              "  // Disable the input element since further picks are not allowed.\n",
              "  inputElement.disabled = true;\n",
              "\n",
              "  if (!files) {\n",
              "    return {\n",
              "      response: {\n",
              "        action: 'complete',\n",
              "      }\n",
              "    };\n",
              "  }\n",
              "\n",
              "  for (const file of files) {\n",
              "    const li = document.createElement('li');\n",
              "    li.append(span(file.name, {fontWeight: 'bold'}));\n",
              "    li.append(span(\n",
              "        `(${file.type || 'n/a'}) - ${file.size} bytes, ` +\n",
              "        `last modified: ${\n",
              "            file.lastModifiedDate ? file.lastModifiedDate.toLocaleDateString() :\n",
              "                                    'n/a'} - `));\n",
              "    const percent = span('0% done');\n",
              "    li.appendChild(percent);\n",
              "\n",
              "    outputElement.appendChild(li);\n",
              "\n",
              "    const fileDataPromise = new Promise((resolve) => {\n",
              "      const reader = new FileReader();\n",
              "      reader.onload = (e) => {\n",
              "        resolve(e.target.result);\n",
              "      };\n",
              "      reader.readAsArrayBuffer(file);\n",
              "    });\n",
              "    // Wait for the data to be ready.\n",
              "    let fileData = yield {\n",
              "      promise: fileDataPromise,\n",
              "      response: {\n",
              "        action: 'continue',\n",
              "      }\n",
              "    };\n",
              "\n",
              "    // Use a chunked sending to avoid message size limits. See b/62115660.\n",
              "    let position = 0;\n",
              "    do {\n",
              "      const length = Math.min(fileData.byteLength - position, MAX_PAYLOAD_SIZE);\n",
              "      const chunk = new Uint8Array(fileData, position, length);\n",
              "      position += length;\n",
              "\n",
              "      const base64 = btoa(String.fromCharCode.apply(null, chunk));\n",
              "      yield {\n",
              "        response: {\n",
              "          action: 'append',\n",
              "          file: file.name,\n",
              "          data: base64,\n",
              "        },\n",
              "      };\n",
              "\n",
              "      let percentDone = fileData.byteLength === 0 ?\n",
              "          100 :\n",
              "          Math.round((position / fileData.byteLength) * 100);\n",
              "      percent.textContent = `${percentDone}% done`;\n",
              "\n",
              "    } while (position < fileData.byteLength);\n",
              "  }\n",
              "\n",
              "  // All done.\n",
              "  yield {\n",
              "    response: {\n",
              "      action: 'complete',\n",
              "    }\n",
              "  };\n",
              "}\n",
              "\n",
              "scope.google = scope.google || {};\n",
              "scope.google.colab = scope.google.colab || {};\n",
              "scope.google.colab._files = {\n",
              "  _uploadFiles,\n",
              "  _uploadFilesContinue,\n",
              "};\n",
              "})(self);\n",
              "</script> "
            ]
          },
          "metadata": {}
        },
        {
          "output_type": "stream",
          "name": "stdout",
          "text": [
            "Saving R.jpg to R (4).jpg\n"
          ]
        }
      ],
      "source": [
        "from google.colab import files\n",
        "uploaded = files.upload()\n",
        "import pandas as pd\n",
        "data = pd.read_csv('TreeDataSet.csv')\n"
      ]
    },
    {
      "cell_type": "code",
      "execution_count": null,
      "id": "53456dc9-30a3-4b8a-ba34-d6c77aea443a",
      "metadata": {
        "id": "53456dc9-30a3-4b8a-ba34-d6c77aea443a"
      },
      "outputs": [],
      "source": [
        "# Adjust column names\n",
        "data.columns = ['TreeSpecies', 'Ratio', 'Angle']"
      ]
    },
    {
      "cell_type": "code",
      "execution_count": null,
      "id": "62221b15-95b0-4809-8cf1-ebba8b863a37",
      "metadata": {
        "colab": {
          "base_uri": "https://localhost:8080/"
        },
        "id": "62221b15-95b0-4809-8cf1-ebba8b863a37",
        "outputId": "11612daf-79f6-4d6c-c3f0-9ab2c843ee36"
      },
      "outputs": [
        {
          "output_type": "stream",
          "name": "stdout",
          "text": [
            "Data types in features (X):\n",
            "Ratio    float64\n",
            "Angle      int64\n",
            "dtype: object\n",
            "Data type in labels (y):\n",
            "object\n"
          ]
        }
      ],
      "source": [
        "# Check for data types in features and labels (for debugging)\n",
        "print(\"Data types in features (X):\")\n",
        "print(data[[ 'Ratio', 'Angle']].dtypes)\n",
        "print(\"Data type in labels (y):\")\n",
        "print(data['TreeSpecies'].dtype)"
      ]
    },
    {
      "cell_type": "code",
      "execution_count": null,
      "id": "0c51b972-5852-408c-b99c-8c4badb36173",
      "metadata": {
        "id": "0c51b972-5852-408c-b99c-8c4badb36173"
      },
      "outputs": [],
      "source": [
        "# Prepare features and labels\n",
        "# Select features excluding column names\n",
        "X = data[['Ratio', 'Angle']]"
      ]
    },
    {
      "cell_type": "code",
      "execution_count": null,
      "id": "16514a1e-889b-4c10-90a7-7218a63cced7",
      "metadata": {
        "id": "16514a1e-889b-4c10-90a7-7218a63cced7"
      },
      "outputs": [],
      "source": [
        "# Attempt to convert features to numerics (assuming numerical data)\n",
        "X = X.apply(pd.to_numeric, errors='coerce').values"
      ]
    },
    {
      "cell_type": "code",
      "execution_count": null,
      "id": "3c854295-53e6-449e-b9d0-4e47540fdad8",
      "metadata": {
        "id": "3c854295-53e6-449e-b9d0-4e47540fdad8"
      },
      "outputs": [],
      "source": [
        "# Encode labels into integers (assuming categorical labels)\n",
        "label_encoder = LabelEncoder()\n",
        "y = label_encoder.fit_transform(data['TreeSpecies'].values)"
      ]
    },
    {
      "cell_type": "code",
      "execution_count": null,
      "id": "bdc10aa9-2720-4550-8b1c-ec35f381eb07",
      "metadata": {
        "colab": {
          "base_uri": "https://localhost:8080/"
        },
        "id": "bdc10aa9-2720-4550-8b1c-ec35f381eb07",
        "outputId": "5724d59d-2cb1-4a20-dd62-93e05580324d"
      },
      "outputs": [
        {
          "output_type": "stream",
          "name": "stdout",
          "text": [
            "Number of unique classes after label encoding: 3\n"
          ]
        }
      ],
      "source": [
        "# Check the number of unique classes after label encoding (for debugging)\n",
        "print(\"Number of unique classes after label encoding:\", len(label_encoder.classes_))"
      ]
    },
    {
      "cell_type": "code",
      "execution_count": null,
      "id": "5b6005d4-9494-442f-ba49-c75e6df772a3",
      "metadata": {
        "id": "5b6005d4-9494-442f-ba49-c75e6df772a3"
      },
      "outputs": [],
      "source": [
        "# Convert labels to categorical (one-hot encoding)\n",
        "encoder = OneHotEncoder(sparse_output=False)\n",
        "y = encoder.fit_transform(y.reshape(-1, 1))  # Reshape for compatibility"
      ]
    },
    {
      "cell_type": "code",
      "execution_count": null,
      "id": "6f0a2799-b3d7-4ed1-a383-a91b948354d0",
      "metadata": {
        "colab": {
          "base_uri": "https://localhost:8080/"
        },
        "id": "6f0a2799-b3d7-4ed1-a383-a91b948354d0",
        "outputId": "d86c5b72-7938-44fc-f0af-c1b934ca1204"
      },
      "outputs": [
        {
          "output_type": "stream",
          "name": "stdout",
          "text": [
            "Shape of encoded labels (y): (90, 3)\n"
          ]
        }
      ],
      "source": [
        "# Check the shape of the encoded labels (for debugging)\n",
        "print(\"Shape of encoded labels (y):\", y.shape)"
      ]
    },
    {
      "cell_type": "code",
      "execution_count": null,
      "id": "6b528639-7f15-420b-a564-91cb73038a86",
      "metadata": {
        "id": "6b528639-7f15-420b-a564-91cb73038a86"
      },
      "outputs": [],
      "source": [
        "# Split data into training and testing sets\n",
        "X_train, X_test, y_train, y_test = train_test_split(X, y, test_size=0.2, random_state=3)"
      ]
    },
    {
      "cell_type": "code",
      "execution_count": null,
      "id": "e9b49ee1-ca32-4a70-b97a-5d30d5309e20",
      "metadata": {
        "colab": {
          "base_uri": "https://localhost:8080/"
        },
        "id": "e9b49ee1-ca32-4a70-b97a-5d30d5309e20",
        "outputId": "cb2b41b9-6bc7-4578-86c9-61c810150027"
      },
      "outputs": [
        {
          "output_type": "stream",
          "name": "stdout",
          "text": [
            "Shape of training features (X_train): (72, 2)\n"
          ]
        }
      ],
      "source": [
        "# Print the shape of training features (for debugging)\n",
        "print(\"Shape of training features (X_train):\", X_train.shape)"
      ]
    },
    {
      "cell_type": "code",
      "execution_count": null,
      "id": "8d0e8cea-cba7-412e-b33c-7d28089b1f74",
      "metadata": {
        "id": "8d0e8cea-cba7-412e-b33c-7d28089b1f74"
      },
      "outputs": [],
      "source": [
        "from keras.models import Model\n",
        "from keras.layers import Input, Dense\n",
        "\n",
        "# Define the input layer with shape (2,)\n",
        "input_layer = Input(shape=(2,))\n",
        "\n",
        "# Define the layers of the model\n",
        "hidden_layer1 = Dense(units=30, activation='relu')(input_layer) # First hidden layer with 30 units and ReLU activation\n",
        "hidden_layer2 = Dense(units=30, activation='relu')(hidden_layer1) # Second hidden layer with 30 units and ReLU activation\n",
        "output_layer = Dense(units=3, activation='softmax')(hidden_layer2) # Output layer with 5 units and softmax activation\n",
        "\n",
        "# Define the model\n",
        "custom_model = Model(inputs=input_layer, outputs=output_layer) # Creating a model with specified input and output layers"
      ]
    },
    {
      "cell_type": "code",
      "execution_count": null,
      "id": "8f6e9bb7-9f97-4dc1-86be-5fc48f6411ba",
      "metadata": {
        "id": "8f6e9bb7-9f97-4dc1-86be-5fc48f6411ba"
      },
      "outputs": [],
      "source": [
        "# Compile the model\n",
        "custom_model.compile(optimizer='rmsprop',\n",
        "                     loss='categorical_crossentropy',\n",
        "                     metrics=['accuracy'])"
      ]
    },
    {
      "cell_type": "code",
      "execution_count": null,
      "id": "1a25412a-5625-4bc8-830d-ed7729714676",
      "metadata": {
        "colab": {
          "base_uri": "https://localhost:8080/"
        },
        "id": "1a25412a-5625-4bc8-830d-ed7729714676",
        "outputId": "faf30430-44fa-41b9-aae4-d04ca9add4b1"
      },
      "outputs": [
        {
          "output_type": "stream",
          "name": "stdout",
          "text": [
            "Epoch 1/5\n",
            "\u001b[1m3/3\u001b[0m \u001b[32m━━━━━━━━━━━━━━━━━━━━\u001b[0m\u001b[37m\u001b[0m \u001b[1m1s\u001b[0m 17ms/step - accuracy: 0.2986 - loss: 12.0226\n",
            "Epoch 2/5\n",
            "\u001b[1m3/3\u001b[0m \u001b[32m━━━━━━━━━━━━━━━━━━━━\u001b[0m\u001b[37m\u001b[0m \u001b[1m0s\u001b[0m 18ms/step - accuracy: 0.2653 - loss: 7.9220 \n",
            "Epoch 3/5\n",
            "\u001b[1m3/3\u001b[0m \u001b[32m━━━━━━━━━━━━━━━━━━━━\u001b[0m\u001b[37m\u001b[0m \u001b[1m0s\u001b[0m 18ms/step - accuracy: 0.3403 - loss: 4.7814\n",
            "Epoch 4/5\n",
            "\u001b[1m3/3\u001b[0m \u001b[32m━━━━━━━━━━━━━━━━━━━━\u001b[0m\u001b[37m\u001b[0m \u001b[1m0s\u001b[0m 18ms/step - accuracy: 0.3361 - loss: 2.9404\n",
            "Epoch 5/5\n",
            "\u001b[1m3/3\u001b[0m \u001b[32m━━━━━━━━━━━━━━━━━━━━\u001b[0m\u001b[37m\u001b[0m \u001b[1m0s\u001b[0m 16ms/step - accuracy: 0.4278 - loss: 2.7257\n"
          ]
        },
        {
          "output_type": "execute_result",
          "data": {
            "text/plain": [
              "<keras.src.callbacks.history.History at 0x7d40fd8cf350>"
            ]
          },
          "metadata": {},
          "execution_count": 163
        }
      ],
      "source": [
        "# Train the model with the reshaped input data\n",
        "custom_model.fit(X_train, y_train, epochs=5, batch_size=30)"
      ]
    },
    {
      "cell_type": "code",
      "execution_count": null,
      "id": "49596fdf-78a5-41f9-bccf-a83b17994526",
      "metadata": {
        "colab": {
          "base_uri": "https://localhost:8080/"
        },
        "id": "49596fdf-78a5-41f9-bccf-a83b17994526",
        "outputId": "0ed43db3-060b-4b86-ec8a-00aa9fe2dd4f"
      },
      "outputs": [
        {
          "output_type": "stream",
          "name": "stdout",
          "text": [
            "\u001b[1m1/1\u001b[0m \u001b[32m━━━━━━━━━━━━━━━━━━━━\u001b[0m\u001b[37m\u001b[0m \u001b[1m0s\u001b[0m 90ms/step\n"
          ]
        }
      ],
      "source": [
        "# Make predictions on the testing set\n",
        "y_pred = custom_model.predict(X_test)\n",
        "\n",
        "# Convert one-hot encoded predictions to class labels (optional)\n",
        "y_pred_classes = np.argmax(y_pred, axis=1)"
      ]
    },
    {
      "cell_type": "code",
      "execution_count": null,
      "id": "e7302232-5032-4d8b-b993-fb866b825b66",
      "metadata": {
        "colab": {
          "base_uri": "https://localhost:8080/"
        },
        "id": "e7302232-5032-4d8b-b993-fb866b825b66",
        "outputId": "7bf338a8-271a-4af9-ce0c-b66ef3907ea0"
      },
      "outputs": [
        {
          "output_type": "stream",
          "name": "stdout",
          "text": [
            "\u001b[1m1/1\u001b[0m \u001b[32m━━━━━━━━━━━━━━━━━━━━\u001b[0m\u001b[37m\u001b[0m \u001b[1m1s\u001b[0m 757ms/step - accuracy: 0.3333 - loss: 2.0135\n",
            "Test accuracy: 0.3333333432674408\n"
          ]
        }
      ],
      "source": [
        "# Evaluate the model\n",
        "test_loss, test_acc = custom_model.evaluate(X_test, y_test)\n",
        "print('Test accuracy:', test_acc)"
      ]
    },
    {
      "cell_type": "markdown",
      "id": "12903467-1eb9-419d-8ff4-035f85f46db3",
      "metadata": {
        "id": "12903467-1eb9-419d-8ff4-035f85f46db3"
      },
      "source": [
        "\n",
        "We get the positive result model accuracy Now it was increased as \"0.6\".\n",
        "\n",
        "So we keep the optimizer as \"rmsprop\".\n",
        "\n",
        "Now we change the \"activation='softmax'\" as \"activation='sigmoid'\" and observe the change.\n",
        "\n",
        "we start the procedure from beginning."
      ]
    },
    {
      "cell_type": "code",
      "execution_count": null,
      "id": "969f9ce2-f4c1-44de-85f3-d3fc62f9f348",
      "metadata": {
        "id": "969f9ce2-f4c1-44de-85f3-d3fc62f9f348"
      },
      "outputs": [],
      "source": [
        "import pandas as pd\n",
        "import numpy as np\n",
        "from sklearn.model_selection import train_test_split\n",
        "from keras.models import Sequential\n",
        "from keras.layers import Dense\n",
        "from keras.utils import to_categorical\n",
        "from sklearn.preprocessing import OneHotEncoder\n",
        "from sklearn.preprocessing import LabelEncoder"
      ]
    },
    {
      "cell_type": "code",
      "execution_count": null,
      "id": "a544024e-5a0e-49cb-901d-7f2107acd4bd",
      "metadata": {
        "colab": {
          "base_uri": "https://localhost:8080/",
          "height": 74
        },
        "id": "a544024e-5a0e-49cb-901d-7f2107acd4bd",
        "outputId": "cb473790-3ccd-4fea-e897-8a8d40a5769b"
      },
      "outputs": [
        {
          "output_type": "display_data",
          "data": {
            "text/plain": [
              "<IPython.core.display.HTML object>"
            ],
            "text/html": [
              "\n",
              "     <input type=\"file\" id=\"files-f3170ae1-c828-4c44-98d9-a98f0df36791\" name=\"files[]\" multiple disabled\n",
              "        style=\"border:none\" />\n",
              "     <output id=\"result-f3170ae1-c828-4c44-98d9-a98f0df36791\">\n",
              "      Upload widget is only available when the cell has been executed in the\n",
              "      current browser session. Please rerun this cell to enable.\n",
              "      </output>\n",
              "      <script>// Copyright 2017 Google LLC\n",
              "//\n",
              "// Licensed under the Apache License, Version 2.0 (the \"License\");\n",
              "// you may not use this file except in compliance with the License.\n",
              "// You may obtain a copy of the License at\n",
              "//\n",
              "//      http://www.apache.org/licenses/LICENSE-2.0\n",
              "//\n",
              "// Unless required by applicable law or agreed to in writing, software\n",
              "// distributed under the License is distributed on an \"AS IS\" BASIS,\n",
              "// WITHOUT WARRANTIES OR CONDITIONS OF ANY KIND, either express or implied.\n",
              "// See the License for the specific language governing permissions and\n",
              "// limitations under the License.\n",
              "\n",
              "/**\n",
              " * @fileoverview Helpers for google.colab Python module.\n",
              " */\n",
              "(function(scope) {\n",
              "function span(text, styleAttributes = {}) {\n",
              "  const element = document.createElement('span');\n",
              "  element.textContent = text;\n",
              "  for (const key of Object.keys(styleAttributes)) {\n",
              "    element.style[key] = styleAttributes[key];\n",
              "  }\n",
              "  return element;\n",
              "}\n",
              "\n",
              "// Max number of bytes which will be uploaded at a time.\n",
              "const MAX_PAYLOAD_SIZE = 100 * 1024;\n",
              "\n",
              "function _uploadFiles(inputId, outputId) {\n",
              "  const steps = uploadFilesStep(inputId, outputId);\n",
              "  const outputElement = document.getElementById(outputId);\n",
              "  // Cache steps on the outputElement to make it available for the next call\n",
              "  // to uploadFilesContinue from Python.\n",
              "  outputElement.steps = steps;\n",
              "\n",
              "  return _uploadFilesContinue(outputId);\n",
              "}\n",
              "\n",
              "// This is roughly an async generator (not supported in the browser yet),\n",
              "// where there are multiple asynchronous steps and the Python side is going\n",
              "// to poll for completion of each step.\n",
              "// This uses a Promise to block the python side on completion of each step,\n",
              "// then passes the result of the previous step as the input to the next step.\n",
              "function _uploadFilesContinue(outputId) {\n",
              "  const outputElement = document.getElementById(outputId);\n",
              "  const steps = outputElement.steps;\n",
              "\n",
              "  const next = steps.next(outputElement.lastPromiseValue);\n",
              "  return Promise.resolve(next.value.promise).then((value) => {\n",
              "    // Cache the last promise value to make it available to the next\n",
              "    // step of the generator.\n",
              "    outputElement.lastPromiseValue = value;\n",
              "    return next.value.response;\n",
              "  });\n",
              "}\n",
              "\n",
              "/**\n",
              " * Generator function which is called between each async step of the upload\n",
              " * process.\n",
              " * @param {string} inputId Element ID of the input file picker element.\n",
              " * @param {string} outputId Element ID of the output display.\n",
              " * @return {!Iterable<!Object>} Iterable of next steps.\n",
              " */\n",
              "function* uploadFilesStep(inputId, outputId) {\n",
              "  const inputElement = document.getElementById(inputId);\n",
              "  inputElement.disabled = false;\n",
              "\n",
              "  const outputElement = document.getElementById(outputId);\n",
              "  outputElement.innerHTML = '';\n",
              "\n",
              "  const pickedPromise = new Promise((resolve) => {\n",
              "    inputElement.addEventListener('change', (e) => {\n",
              "      resolve(e.target.files);\n",
              "    });\n",
              "  });\n",
              "\n",
              "  const cancel = document.createElement('button');\n",
              "  inputElement.parentElement.appendChild(cancel);\n",
              "  cancel.textContent = 'Cancel upload';\n",
              "  const cancelPromise = new Promise((resolve) => {\n",
              "    cancel.onclick = () => {\n",
              "      resolve(null);\n",
              "    };\n",
              "  });\n",
              "\n",
              "  // Wait for the user to pick the files.\n",
              "  const files = yield {\n",
              "    promise: Promise.race([pickedPromise, cancelPromise]),\n",
              "    response: {\n",
              "      action: 'starting',\n",
              "    }\n",
              "  };\n",
              "\n",
              "  cancel.remove();\n",
              "\n",
              "  // Disable the input element since further picks are not allowed.\n",
              "  inputElement.disabled = true;\n",
              "\n",
              "  if (!files) {\n",
              "    return {\n",
              "      response: {\n",
              "        action: 'complete',\n",
              "      }\n",
              "    };\n",
              "  }\n",
              "\n",
              "  for (const file of files) {\n",
              "    const li = document.createElement('li');\n",
              "    li.append(span(file.name, {fontWeight: 'bold'}));\n",
              "    li.append(span(\n",
              "        `(${file.type || 'n/a'}) - ${file.size} bytes, ` +\n",
              "        `last modified: ${\n",
              "            file.lastModifiedDate ? file.lastModifiedDate.toLocaleDateString() :\n",
              "                                    'n/a'} - `));\n",
              "    const percent = span('0% done');\n",
              "    li.appendChild(percent);\n",
              "\n",
              "    outputElement.appendChild(li);\n",
              "\n",
              "    const fileDataPromise = new Promise((resolve) => {\n",
              "      const reader = new FileReader();\n",
              "      reader.onload = (e) => {\n",
              "        resolve(e.target.result);\n",
              "      };\n",
              "      reader.readAsArrayBuffer(file);\n",
              "    });\n",
              "    // Wait for the data to be ready.\n",
              "    let fileData = yield {\n",
              "      promise: fileDataPromise,\n",
              "      response: {\n",
              "        action: 'continue',\n",
              "      }\n",
              "    };\n",
              "\n",
              "    // Use a chunked sending to avoid message size limits. See b/62115660.\n",
              "    let position = 0;\n",
              "    do {\n",
              "      const length = Math.min(fileData.byteLength - position, MAX_PAYLOAD_SIZE);\n",
              "      const chunk = new Uint8Array(fileData, position, length);\n",
              "      position += length;\n",
              "\n",
              "      const base64 = btoa(String.fromCharCode.apply(null, chunk));\n",
              "      yield {\n",
              "        response: {\n",
              "          action: 'append',\n",
              "          file: file.name,\n",
              "          data: base64,\n",
              "        },\n",
              "      };\n",
              "\n",
              "      let percentDone = fileData.byteLength === 0 ?\n",
              "          100 :\n",
              "          Math.round((position / fileData.byteLength) * 100);\n",
              "      percent.textContent = `${percentDone}% done`;\n",
              "\n",
              "    } while (position < fileData.byteLength);\n",
              "  }\n",
              "\n",
              "  // All done.\n",
              "  yield {\n",
              "    response: {\n",
              "      action: 'complete',\n",
              "    }\n",
              "  };\n",
              "}\n",
              "\n",
              "scope.google = scope.google || {};\n",
              "scope.google.colab = scope.google.colab || {};\n",
              "scope.google.colab._files = {\n",
              "  _uploadFiles,\n",
              "  _uploadFilesContinue,\n",
              "};\n",
              "})(self);\n",
              "</script> "
            ]
          },
          "metadata": {}
        },
        {
          "output_type": "stream",
          "name": "stdout",
          "text": [
            "Saving Madhuca-longifolia.jpg to Madhuca-longifolia (26).jpg\n"
          ]
        }
      ],
      "source": [
        "from google.colab import files\n",
        "uploaded = files.upload()\n",
        "import pandas as pd\n",
        "\n",
        "# Load data from CSV file\n",
        "# file_path = r'C:\\Users\\spthe\\OneDrive\\Desktop\\TreeDataSet.csv'  # Update with the correct file path\n",
        "data = pd.read_csv('TreeDataSet.csv')"
      ]
    },
    {
      "cell_type": "code",
      "execution_count": null,
      "id": "96f9062d-bcc5-413d-8c71-ff23af5212ee",
      "metadata": {
        "id": "96f9062d-bcc5-413d-8c71-ff23af5212ee"
      },
      "outputs": [],
      "source": [
        "# Adjust column names\n",
        "data.columns = ['TreeSpecies', 'Ratio', 'Angle']"
      ]
    },
    {
      "cell_type": "code",
      "execution_count": null,
      "id": "13ec90b3-49b6-4817-a845-66b936896092",
      "metadata": {
        "colab": {
          "base_uri": "https://localhost:8080/"
        },
        "id": "13ec90b3-49b6-4817-a845-66b936896092",
        "outputId": "cd82ea13-dd94-41ba-be3d-906e2ef56503"
      },
      "outputs": [
        {
          "output_type": "stream",
          "name": "stdout",
          "text": [
            "Data types in features (X):\n",
            "Ratio    float64\n",
            "Angle      int64\n",
            "dtype: object\n",
            "Data type in labels (y):\n",
            "object\n"
          ]
        }
      ],
      "source": [
        "# Check for data types in features and labels (for debugging)\n",
        "print(\"Data types in features (X):\")\n",
        "print(data[[ 'Ratio', 'Angle']].dtypes)\n",
        "print(\"Data type in labels (y):\")\n",
        "print(data['TreeSpecies'].dtype)"
      ]
    },
    {
      "cell_type": "code",
      "execution_count": null,
      "id": "df3faa24-ce3a-443f-b6b2-021b7d0affb2",
      "metadata": {
        "id": "df3faa24-ce3a-443f-b6b2-021b7d0affb2"
      },
      "outputs": [],
      "source": [
        "# Prepare features and labels\n",
        "# Select features excluding column names\n",
        "X = data[['Ratio', 'Angle']]"
      ]
    },
    {
      "cell_type": "code",
      "execution_count": null,
      "id": "e2508655-7549-4fa5-971f-b5b68f0e6c1f",
      "metadata": {
        "id": "e2508655-7549-4fa5-971f-b5b68f0e6c1f"
      },
      "outputs": [],
      "source": [
        "# Attempt to convert features to numerics (assuming numerical data)\n",
        "X = X.apply(pd.to_numeric, errors='coerce').values"
      ]
    },
    {
      "cell_type": "code",
      "execution_count": null,
      "id": "8c0634be-f0c8-4723-ae59-492f703cc6a6",
      "metadata": {
        "id": "8c0634be-f0c8-4723-ae59-492f703cc6a6"
      },
      "outputs": [],
      "source": [
        "# Encode labels into integers (assuming categorical labels)\n",
        "label_encoder = LabelEncoder()\n",
        "y = label_encoder.fit_transform(data['TreeSpecies'].values)"
      ]
    },
    {
      "cell_type": "code",
      "execution_count": null,
      "id": "edf2eace-2925-4c76-a704-d6245e28e1d2",
      "metadata": {
        "colab": {
          "base_uri": "https://localhost:8080/"
        },
        "id": "edf2eace-2925-4c76-a704-d6245e28e1d2",
        "outputId": "e6d04ac8-fd8f-4ae6-f144-6eb88afc0775"
      },
      "outputs": [
        {
          "output_type": "stream",
          "name": "stdout",
          "text": [
            "Number of unique classes after label encoding: 3\n"
          ]
        }
      ],
      "source": [
        "# Check the number of unique classes after label encoding (for debugging)\n",
        "print(\"Number of unique classes after label encoding:\", len(label_encoder.classes_))"
      ]
    },
    {
      "cell_type": "code",
      "execution_count": null,
      "id": "2f0308a3-634b-42c3-b248-a526f8c54397",
      "metadata": {
        "id": "2f0308a3-634b-42c3-b248-a526f8c54397"
      },
      "outputs": [],
      "source": [
        "# Convert labels to categorical (one-hot encoding)\n",
        "encoder = OneHotEncoder(sparse_output=False)\n",
        "y = encoder.fit_transform(y.reshape(-1, 1))  # Reshape for compatibility"
      ]
    },
    {
      "cell_type": "code",
      "execution_count": null,
      "id": "203a25e3-fc85-4ef0-a687-3f4daf26dd05",
      "metadata": {
        "colab": {
          "base_uri": "https://localhost:8080/"
        },
        "id": "203a25e3-fc85-4ef0-a687-3f4daf26dd05",
        "outputId": "ca5243ad-76ed-49cd-8453-f9d35c0e1045"
      },
      "outputs": [
        {
          "output_type": "stream",
          "name": "stdout",
          "text": [
            "Shape of encoded labels (y): (90, 3)\n"
          ]
        }
      ],
      "source": [
        "# Check the shape of the encoded labels (for debugging)\n",
        "print(\"Shape of encoded labels (y):\", y.shape)"
      ]
    },
    {
      "cell_type": "code",
      "execution_count": null,
      "id": "73ec328a-bb05-4d37-b153-b7c3980b0b55",
      "metadata": {
        "id": "73ec328a-bb05-4d37-b153-b7c3980b0b55"
      },
      "outputs": [],
      "source": [
        "# Split data into training and testing sets\n",
        "X_train, X_test, y_train, y_test = train_test_split(X, y, test_size=0.2, random_state=3)"
      ]
    },
    {
      "cell_type": "code",
      "execution_count": null,
      "id": "4aa136c1-dbb5-4708-9c90-b9d0cedda123",
      "metadata": {
        "colab": {
          "base_uri": "https://localhost:8080/"
        },
        "id": "4aa136c1-dbb5-4708-9c90-b9d0cedda123",
        "outputId": "5107517c-307e-4ad7-946c-9508d7bd9c40"
      },
      "outputs": [
        {
          "output_type": "stream",
          "name": "stdout",
          "text": [
            "Shape of training features (X_train): (72, 2)\n"
          ]
        }
      ],
      "source": [
        "# Print the shape of training features (for debugging)\n",
        "print(\"Shape of training features (X_train):\", X_train.shape)"
      ]
    },
    {
      "cell_type": "code",
      "execution_count": null,
      "id": "247f94c2-7a31-45c7-ad6d-6cefba7d6eba",
      "metadata": {
        "id": "247f94c2-7a31-45c7-ad6d-6cefba7d6eba"
      },
      "outputs": [],
      "source": [
        "from keras.models import Model\n",
        "from keras.layers import Input, Dense\n",
        "\n",
        "# Define the input layer with shape (2,)\n",
        "input_layer = Input(shape=(2,))\n",
        "\n",
        "# Define the layers of the model\n",
        "hidden_layer1 = Dense(units=30, activation='relu')(input_layer) # First hidden layer with 30 units and ReLU activation\n",
        "hidden_layer2 = Dense(units=30, activation='relu')(hidden_layer1) # Second hidden layer with 30 units and ReLU activation\n",
        "output_layer = Dense(units=3, activation='sigmoid')(hidden_layer2) # Output layer with 5 units and softmax activation\n",
        "\n",
        "# Define the model\n",
        "custom_model = Model(inputs=input_layer, outputs=output_layer) # Creating a model with specified input and output layers"
      ]
    },
    {
      "cell_type": "code",
      "execution_count": null,
      "id": "f3198094-fffc-4ef6-8c99-043e85dbc4b7",
      "metadata": {
        "id": "f3198094-fffc-4ef6-8c99-043e85dbc4b7"
      },
      "outputs": [],
      "source": [
        "# Compile the model\n",
        "custom_model.compile(optimizer='rmsprop',\n",
        "                     loss='categorical_crossentropy',\n",
        "                     metrics=['accuracy'])"
      ]
    },
    {
      "cell_type": "code",
      "execution_count": null,
      "id": "e2f8c4b9-e801-4177-a04c-f42c997ede68",
      "metadata": {
        "colab": {
          "base_uri": "https://localhost:8080/"
        },
        "id": "e2f8c4b9-e801-4177-a04c-f42c997ede68",
        "outputId": "50dc8b91-5258-4629-e6c1-7e4db4ec367c"
      },
      "outputs": [
        {
          "output_type": "stream",
          "name": "stdout",
          "text": [
            "Epoch 1/5\n",
            "\u001b[1m3/3\u001b[0m \u001b[32m━━━━━━━━━━━━━━━━━━━━\u001b[0m\u001b[37m\u001b[0m \u001b[1m1s\u001b[0m 17ms/step - accuracy: 0.3250 - loss: 9.0247  \n",
            "Epoch 2/5\n",
            "\u001b[1m3/3\u001b[0m \u001b[32m━━━━━━━━━━━━━━━━━━━━\u001b[0m\u001b[37m\u001b[0m \u001b[1m0s\u001b[0m 18ms/step - accuracy: 0.3208 - loss: 4.7637\n",
            "Epoch 3/5\n",
            "\u001b[1m3/3\u001b[0m \u001b[32m━━━━━━━━━━━━━━━━━━━━\u001b[0m\u001b[37m\u001b[0m \u001b[1m0s\u001b[0m 17ms/step - accuracy: 0.2069 - loss: 3.0882\n",
            "Epoch 4/5\n",
            "\u001b[1m3/3\u001b[0m \u001b[32m━━━━━━━━━━━━━━━━━━━━\u001b[0m\u001b[37m\u001b[0m \u001b[1m0s\u001b[0m 22ms/step - accuracy: 0.2972 - loss: 2.6983 \n",
            "Epoch 5/5\n",
            "\u001b[1m3/3\u001b[0m \u001b[32m━━━━━━━━━━━━━━━━━━━━\u001b[0m\u001b[37m\u001b[0m \u001b[1m0s\u001b[0m 16ms/step - accuracy: 0.3153 - loss: 2.1323\n"
          ]
        },
        {
          "output_type": "execute_result",
          "data": {
            "text/plain": [
              "<keras.src.callbacks.history.History at 0x7d40fc88a210>"
            ]
          },
          "metadata": {},
          "execution_count": 180
        }
      ],
      "source": [
        "# Train the model with the reshaped input data\n",
        "custom_model.fit(X_train, y_train, epochs=5, batch_size=30)"
      ]
    },
    {
      "cell_type": "code",
      "execution_count": null,
      "id": "4d84c632-a375-4256-aa5b-4e10414b5cff",
      "metadata": {
        "colab": {
          "base_uri": "https://localhost:8080/"
        },
        "id": "4d84c632-a375-4256-aa5b-4e10414b5cff",
        "outputId": "5464e92c-fd59-4f22-a66a-9e02d9351770"
      },
      "outputs": [
        {
          "output_type": "stream",
          "name": "stdout",
          "text": [
            "\u001b[1m1/1\u001b[0m \u001b[32m━━━━━━━━━━━━━━━━━━━━\u001b[0m\u001b[37m\u001b[0m \u001b[1m0s\u001b[0m 94ms/step\n"
          ]
        }
      ],
      "source": [
        "# Make predictions on the testing set\n",
        "y_pred = custom_model.predict(X_test)\n",
        "\n",
        "# Convert one-hot encoded predictions to class labels (optional)\n",
        "y_pred_classes = np.argmax(y_pred, axis=1)"
      ]
    },
    {
      "cell_type": "code",
      "execution_count": null,
      "id": "8131aa1c-7a3b-4075-a82c-40d2707f3287",
      "metadata": {
        "colab": {
          "base_uri": "https://localhost:8080/"
        },
        "id": "8131aa1c-7a3b-4075-a82c-40d2707f3287",
        "outputId": "c4b63b7f-20d9-448f-d1bc-503637255b87"
      },
      "outputs": [
        {
          "output_type": "stream",
          "name": "stdout",
          "text": [
            "\u001b[1m1/1\u001b[0m \u001b[32m━━━━━━━━━━━━━━━━━━━━\u001b[0m\u001b[37m\u001b[0m \u001b[1m0s\u001b[0m 247ms/step - accuracy: 0.3333 - loss: 1.5768\n",
            "Test accuracy: 0.3333333432674408\n"
          ]
        }
      ],
      "source": [
        "# Evaluate the model\n",
        "test_loss, test_acc = custom_model.evaluate(X_test, y_test)\n",
        "print('Test accuracy:', test_acc)"
      ]
    },
    {
      "cell_type": "markdown",
      "id": "98a6f881-8471-4eaf-a92a-66f7d417797a",
      "metadata": {
        "id": "98a6f881-8471-4eaf-a92a-66f7d417797a"
      },
      "source": [
        "\n",
        "Now we get the Negative result, the model accuracy was decreased as \"0.3\"\n",
        "\n",
        "So we keep the \"activation='softmax'\"\n",
        "\n",
        "we change the \"hidden_layer1 = Dense(units=30\" as \"hidden_layer1 = Dense(units=60,\" and observe the changes."
      ]
    },
    {
      "cell_type": "code",
      "execution_count": null,
      "id": "f531d431-4202-4ae6-87e9-37b6a22fc80a",
      "metadata": {
        "id": "f531d431-4202-4ae6-87e9-37b6a22fc80a"
      },
      "outputs": [],
      "source": [
        "import pandas as pd\n",
        "import numpy as np\n",
        "from sklearn.model_selection import train_test_split\n",
        "from keras.models import Sequential\n",
        "from keras.layers import Dense\n",
        "from keras.utils import to_categorical\n",
        "from sklearn.preprocessing import OneHotEncoder\n",
        "from sklearn.preprocessing import LabelEncoder"
      ]
    },
    {
      "cell_type": "code",
      "execution_count": null,
      "id": "29851b63-796c-4cf7-938b-60ee2940a7ee",
      "metadata": {
        "colab": {
          "base_uri": "https://localhost:8080/",
          "height": 74
        },
        "id": "29851b63-796c-4cf7-938b-60ee2940a7ee",
        "outputId": "57a3bd72-803c-4c42-c032-0528020c4e11"
      },
      "outputs": [
        {
          "output_type": "display_data",
          "data": {
            "text/plain": [
              "<IPython.core.display.HTML object>"
            ],
            "text/html": [
              "\n",
              "     <input type=\"file\" id=\"files-4836f936-7eb3-421f-80a7-63bb32d67b80\" name=\"files[]\" multiple disabled\n",
              "        style=\"border:none\" />\n",
              "     <output id=\"result-4836f936-7eb3-421f-80a7-63bb32d67b80\">\n",
              "      Upload widget is only available when the cell has been executed in the\n",
              "      current browser session. Please rerun this cell to enable.\n",
              "      </output>\n",
              "      <script>// Copyright 2017 Google LLC\n",
              "//\n",
              "// Licensed under the Apache License, Version 2.0 (the \"License\");\n",
              "// you may not use this file except in compliance with the License.\n",
              "// You may obtain a copy of the License at\n",
              "//\n",
              "//      http://www.apache.org/licenses/LICENSE-2.0\n",
              "//\n",
              "// Unless required by applicable law or agreed to in writing, software\n",
              "// distributed under the License is distributed on an \"AS IS\" BASIS,\n",
              "// WITHOUT WARRANTIES OR CONDITIONS OF ANY KIND, either express or implied.\n",
              "// See the License for the specific language governing permissions and\n",
              "// limitations under the License.\n",
              "\n",
              "/**\n",
              " * @fileoverview Helpers for google.colab Python module.\n",
              " */\n",
              "(function(scope) {\n",
              "function span(text, styleAttributes = {}) {\n",
              "  const element = document.createElement('span');\n",
              "  element.textContent = text;\n",
              "  for (const key of Object.keys(styleAttributes)) {\n",
              "    element.style[key] = styleAttributes[key];\n",
              "  }\n",
              "  return element;\n",
              "}\n",
              "\n",
              "// Max number of bytes which will be uploaded at a time.\n",
              "const MAX_PAYLOAD_SIZE = 100 * 1024;\n",
              "\n",
              "function _uploadFiles(inputId, outputId) {\n",
              "  const steps = uploadFilesStep(inputId, outputId);\n",
              "  const outputElement = document.getElementById(outputId);\n",
              "  // Cache steps on the outputElement to make it available for the next call\n",
              "  // to uploadFilesContinue from Python.\n",
              "  outputElement.steps = steps;\n",
              "\n",
              "  return _uploadFilesContinue(outputId);\n",
              "}\n",
              "\n",
              "// This is roughly an async generator (not supported in the browser yet),\n",
              "// where there are multiple asynchronous steps and the Python side is going\n",
              "// to poll for completion of each step.\n",
              "// This uses a Promise to block the python side on completion of each step,\n",
              "// then passes the result of the previous step as the input to the next step.\n",
              "function _uploadFilesContinue(outputId) {\n",
              "  const outputElement = document.getElementById(outputId);\n",
              "  const steps = outputElement.steps;\n",
              "\n",
              "  const next = steps.next(outputElement.lastPromiseValue);\n",
              "  return Promise.resolve(next.value.promise).then((value) => {\n",
              "    // Cache the last promise value to make it available to the next\n",
              "    // step of the generator.\n",
              "    outputElement.lastPromiseValue = value;\n",
              "    return next.value.response;\n",
              "  });\n",
              "}\n",
              "\n",
              "/**\n",
              " * Generator function which is called between each async step of the upload\n",
              " * process.\n",
              " * @param {string} inputId Element ID of the input file picker element.\n",
              " * @param {string} outputId Element ID of the output display.\n",
              " * @return {!Iterable<!Object>} Iterable of next steps.\n",
              " */\n",
              "function* uploadFilesStep(inputId, outputId) {\n",
              "  const inputElement = document.getElementById(inputId);\n",
              "  inputElement.disabled = false;\n",
              "\n",
              "  const outputElement = document.getElementById(outputId);\n",
              "  outputElement.innerHTML = '';\n",
              "\n",
              "  const pickedPromise = new Promise((resolve) => {\n",
              "    inputElement.addEventListener('change', (e) => {\n",
              "      resolve(e.target.files);\n",
              "    });\n",
              "  });\n",
              "\n",
              "  const cancel = document.createElement('button');\n",
              "  inputElement.parentElement.appendChild(cancel);\n",
              "  cancel.textContent = 'Cancel upload';\n",
              "  const cancelPromise = new Promise((resolve) => {\n",
              "    cancel.onclick = () => {\n",
              "      resolve(null);\n",
              "    };\n",
              "  });\n",
              "\n",
              "  // Wait for the user to pick the files.\n",
              "  const files = yield {\n",
              "    promise: Promise.race([pickedPromise, cancelPromise]),\n",
              "    response: {\n",
              "      action: 'starting',\n",
              "    }\n",
              "  };\n",
              "\n",
              "  cancel.remove();\n",
              "\n",
              "  // Disable the input element since further picks are not allowed.\n",
              "  inputElement.disabled = true;\n",
              "\n",
              "  if (!files) {\n",
              "    return {\n",
              "      response: {\n",
              "        action: 'complete',\n",
              "      }\n",
              "    };\n",
              "  }\n",
              "\n",
              "  for (const file of files) {\n",
              "    const li = document.createElement('li');\n",
              "    li.append(span(file.name, {fontWeight: 'bold'}));\n",
              "    li.append(span(\n",
              "        `(${file.type || 'n/a'}) - ${file.size} bytes, ` +\n",
              "        `last modified: ${\n",
              "            file.lastModifiedDate ? file.lastModifiedDate.toLocaleDateString() :\n",
              "                                    'n/a'} - `));\n",
              "    const percent = span('0% done');\n",
              "    li.appendChild(percent);\n",
              "\n",
              "    outputElement.appendChild(li);\n",
              "\n",
              "    const fileDataPromise = new Promise((resolve) => {\n",
              "      const reader = new FileReader();\n",
              "      reader.onload = (e) => {\n",
              "        resolve(e.target.result);\n",
              "      };\n",
              "      reader.readAsArrayBuffer(file);\n",
              "    });\n",
              "    // Wait for the data to be ready.\n",
              "    let fileData = yield {\n",
              "      promise: fileDataPromise,\n",
              "      response: {\n",
              "        action: 'continue',\n",
              "      }\n",
              "    };\n",
              "\n",
              "    // Use a chunked sending to avoid message size limits. See b/62115660.\n",
              "    let position = 0;\n",
              "    do {\n",
              "      const length = Math.min(fileData.byteLength - position, MAX_PAYLOAD_SIZE);\n",
              "      const chunk = new Uint8Array(fileData, position, length);\n",
              "      position += length;\n",
              "\n",
              "      const base64 = btoa(String.fromCharCode.apply(null, chunk));\n",
              "      yield {\n",
              "        response: {\n",
              "          action: 'append',\n",
              "          file: file.name,\n",
              "          data: base64,\n",
              "        },\n",
              "      };\n",
              "\n",
              "      let percentDone = fileData.byteLength === 0 ?\n",
              "          100 :\n",
              "          Math.round((position / fileData.byteLength) * 100);\n",
              "      percent.textContent = `${percentDone}% done`;\n",
              "\n",
              "    } while (position < fileData.byteLength);\n",
              "  }\n",
              "\n",
              "  // All done.\n",
              "  yield {\n",
              "    response: {\n",
              "      action: 'complete',\n",
              "    }\n",
              "  };\n",
              "}\n",
              "\n",
              "scope.google = scope.google || {};\n",
              "scope.google.colab = scope.google.colab || {};\n",
              "scope.google.colab._files = {\n",
              "  _uploadFiles,\n",
              "  _uploadFilesContinue,\n",
              "};\n",
              "})(self);\n",
              "</script> "
            ]
          },
          "metadata": {}
        },
        {
          "output_type": "stream",
          "name": "stdout",
          "text": [
            "Saving R.jpg to R (5).jpg\n"
          ]
        }
      ],
      "source": [
        "from google.colab import files\n",
        "uploaded = files.upload()\n",
        "import pandas as pd\n",
        "\n",
        "# Load data from CSV file\n",
        "# file_path = r'C:\\Users\\spthe\\OneDrive\\Desktop\\TreeDataSet.csv'  # Update with the correct file path\n",
        "data = pd.read_csv('TreeDataSet.csv')"
      ]
    },
    {
      "cell_type": "code",
      "execution_count": null,
      "id": "e332a34c-79da-4bc2-b5ea-3720a452ed6c",
      "metadata": {
        "id": "e332a34c-79da-4bc2-b5ea-3720a452ed6c"
      },
      "outputs": [],
      "source": [
        "# Adjust column names\n",
        "data.columns = ['TreeSpecies', 'Ratio', 'Angle']"
      ]
    },
    {
      "cell_type": "code",
      "execution_count": null,
      "id": "a3d509bc-7ea5-48ec-a35d-a70dac91d953",
      "metadata": {
        "colab": {
          "base_uri": "https://localhost:8080/"
        },
        "id": "a3d509bc-7ea5-48ec-a35d-a70dac91d953",
        "outputId": "3522e970-8364-4648-ffe8-55646a1045fa"
      },
      "outputs": [
        {
          "output_type": "stream",
          "name": "stdout",
          "text": [
            "Data types in features (X):\n",
            "Ratio    float64\n",
            "Angle      int64\n",
            "dtype: object\n",
            "Data type in labels (y):\n",
            "object\n"
          ]
        }
      ],
      "source": [
        "# Check for data types in features and labels (for debugging)\n",
        "print(\"Data types in features (X):\")\n",
        "print(data[[ 'Ratio', 'Angle']].dtypes)\n",
        "print(\"Data type in labels (y):\")\n",
        "print(data['TreeSpecies'].dtype)"
      ]
    },
    {
      "cell_type": "code",
      "execution_count": null,
      "id": "7ff59e24-0ae7-4dee-96d1-a52741c96895",
      "metadata": {
        "id": "7ff59e24-0ae7-4dee-96d1-a52741c96895"
      },
      "outputs": [],
      "source": [
        "# Prepare features and labels\n",
        "# Select features excluding column names\n",
        "X = data[['Ratio', 'Angle']]"
      ]
    },
    {
      "cell_type": "code",
      "execution_count": null,
      "id": "460c8abb-3bd9-428b-904b-2aa895260c1f",
      "metadata": {
        "id": "460c8abb-3bd9-428b-904b-2aa895260c1f"
      },
      "outputs": [],
      "source": [
        "# Attempt to convert features to numerics (assuming numerical data)\n",
        "X = X.apply(pd.to_numeric, errors='coerce').values"
      ]
    },
    {
      "cell_type": "code",
      "execution_count": null,
      "id": "34abcd9b-1025-4107-847a-5354dd7f3ebf",
      "metadata": {
        "id": "34abcd9b-1025-4107-847a-5354dd7f3ebf"
      },
      "outputs": [],
      "source": [
        "# Encode labels into integers (assuming categorical labels)\n",
        "label_encoder = LabelEncoder()\n",
        "y = label_encoder.fit_transform(data['TreeSpecies'].values)"
      ]
    },
    {
      "cell_type": "code",
      "execution_count": null,
      "id": "7db5cb0a-00bc-4526-9db4-ed1480deb6b3",
      "metadata": {
        "colab": {
          "base_uri": "https://localhost:8080/"
        },
        "id": "7db5cb0a-00bc-4526-9db4-ed1480deb6b3",
        "outputId": "424896f7-d5cb-4284-8bc4-c0d1e6256fc7"
      },
      "outputs": [
        {
          "output_type": "stream",
          "name": "stdout",
          "text": [
            "Number of unique classes after label encoding: 3\n"
          ]
        }
      ],
      "source": [
        "# Check the number of unique classes after label encoding (for debugging)\n",
        "print(\"Number of unique classes after label encoding:\", len(label_encoder.classes_))"
      ]
    },
    {
      "cell_type": "code",
      "execution_count": null,
      "id": "81691ac5-d307-4476-a2bd-60c2c8e5a74a",
      "metadata": {
        "id": "81691ac5-d307-4476-a2bd-60c2c8e5a74a"
      },
      "outputs": [],
      "source": [
        "# Convert labels to categorical (one-hot encoding)\n",
        "encoder = OneHotEncoder(sparse_output=False)\n",
        "y = encoder.fit_transform(y.reshape(-1, 1))  # Reshape for compatibility"
      ]
    },
    {
      "cell_type": "code",
      "execution_count": null,
      "id": "f098bc9e-e3da-4dc8-a64e-055d18312881",
      "metadata": {
        "colab": {
          "base_uri": "https://localhost:8080/"
        },
        "id": "f098bc9e-e3da-4dc8-a64e-055d18312881",
        "outputId": "99f43743-3e0e-40f2-db57-7c378499bc13"
      },
      "outputs": [
        {
          "output_type": "stream",
          "name": "stdout",
          "text": [
            "Shape of encoded labels (y): (90, 3)\n"
          ]
        }
      ],
      "source": [
        "# Check the shape of the encoded labels (for debugging)\n",
        "print(\"Shape of encoded labels (y):\", y.shape)"
      ]
    },
    {
      "cell_type": "code",
      "execution_count": null,
      "id": "2419b65d-b83e-4f9f-8f66-17b84f87bbc0",
      "metadata": {
        "id": "2419b65d-b83e-4f9f-8f66-17b84f87bbc0"
      },
      "outputs": [],
      "source": [
        "# Split data into training and testing sets\n",
        "X_train, X_test, y_train, y_test = train_test_split(X, y, test_size=0.2, random_state=3)"
      ]
    },
    {
      "cell_type": "code",
      "execution_count": null,
      "id": "3d62594a-d302-419c-b755-002664c7619a",
      "metadata": {
        "colab": {
          "base_uri": "https://localhost:8080/"
        },
        "id": "3d62594a-d302-419c-b755-002664c7619a",
        "outputId": "69d9966f-eb06-4b9e-b25e-396bc32028bb"
      },
      "outputs": [
        {
          "output_type": "stream",
          "name": "stdout",
          "text": [
            "Shape of training features (X_train): (72, 2)\n"
          ]
        }
      ],
      "source": [
        "# Print the shape of training features (for debugging)\n",
        "print(\"Shape of training features (X_train):\", X_train.shape)"
      ]
    },
    {
      "cell_type": "code",
      "execution_count": null,
      "id": "d762473f-f7ac-4682-a647-0eca9b211af3",
      "metadata": {
        "id": "d762473f-f7ac-4682-a647-0eca9b211af3"
      },
      "outputs": [],
      "source": [
        "from keras.models import Model\n",
        "from keras.layers import Input, Dense\n",
        "\n",
        "# Define the input layer with shape (2,)\n",
        "input_layer = Input(shape=(2,))\n",
        "\n",
        "# Define the layers of the model\n",
        "hidden_layer1 = Dense(units=60, activation='relu')(input_layer) # First hidden layer with 30 units and ReLU activation\n",
        "hidden_layer2 = Dense(units=30, activation='relu')(hidden_layer1) # Second hidden layer with 30 units and ReLU activation\n",
        "output_layer = Dense(units=3, activation='softmax')(hidden_layer2) # Output layer with 5 units and softmax activation\n",
        "\n",
        "# Define the model\n",
        "custom_model = Model(inputs=input_layer, outputs=output_layer) # Creating a model with specified input and output layers"
      ]
    },
    {
      "cell_type": "code",
      "execution_count": null,
      "id": "6e32e1da-0cb7-450e-9778-0bc0b0518831",
      "metadata": {
        "id": "6e32e1da-0cb7-450e-9778-0bc0b0518831"
      },
      "outputs": [],
      "source": [
        "# Compile the model\n",
        "custom_model.compile(optimizer='rmsprop',\n",
        "                     loss='categorical_crossentropy',\n",
        "                     metrics=['accuracy'])"
      ]
    },
    {
      "cell_type": "code",
      "execution_count": null,
      "id": "c66b7a17-fdbe-4d0d-8841-da14f29f766f",
      "metadata": {
        "colab": {
          "base_uri": "https://localhost:8080/"
        },
        "id": "c66b7a17-fdbe-4d0d-8841-da14f29f766f",
        "outputId": "f823386d-ebe7-46d7-c03e-a94a03d40c81"
      },
      "outputs": [
        {
          "output_type": "stream",
          "name": "stdout",
          "text": [
            "Epoch 1/5\n",
            "\u001b[1m3/3\u001b[0m \u001b[32m━━━━━━━━━━━━━━━━━━━━\u001b[0m\u001b[37m\u001b[0m \u001b[1m1s\u001b[0m 16ms/step - accuracy: 0.4278 - loss: 1.8798 \n",
            "Epoch 2/5\n",
            "\u001b[1m3/3\u001b[0m \u001b[32m━━━━━━━━━━━━━━━━━━━━\u001b[0m\u001b[37m\u001b[0m \u001b[1m0s\u001b[0m 16ms/step - accuracy: 0.4792 - loss: 1.2031\n",
            "Epoch 3/5\n",
            "\u001b[1m3/3\u001b[0m \u001b[32m━━━━━━━━━━━━━━━━━━━━\u001b[0m\u001b[37m\u001b[0m \u001b[1m0s\u001b[0m 16ms/step - accuracy: 0.5319 - loss: 0.7295\n",
            "Epoch 4/5\n",
            "\u001b[1m3/3\u001b[0m \u001b[32m━━━━━━━━━━━━━━━━━━━━\u001b[0m\u001b[37m\u001b[0m \u001b[1m0s\u001b[0m 18ms/step - accuracy: 0.5542 - loss: 1.1412\n",
            "Epoch 5/5\n",
            "\u001b[1m3/3\u001b[0m \u001b[32m━━━━━━━━━━━━━━━━━━━━\u001b[0m\u001b[37m\u001b[0m \u001b[1m0s\u001b[0m 17ms/step - accuracy: 0.5653 - loss: 1.2166 \n"
          ]
        },
        {
          "output_type": "execute_result",
          "data": {
            "text/plain": [
              "<keras.src.callbacks.history.History at 0x7d40f5c29350>"
            ]
          },
          "metadata": {},
          "execution_count": 197
        }
      ],
      "source": [
        "# Train the model with the reshaped input data\n",
        "custom_model.fit(X_train, y_train, epochs=5, batch_size=30)"
      ]
    },
    {
      "cell_type": "code",
      "execution_count": null,
      "id": "0dc0aa0e-b8d0-4aa9-91e7-3dd5e5dd2a6f",
      "metadata": {
        "colab": {
          "base_uri": "https://localhost:8080/"
        },
        "id": "0dc0aa0e-b8d0-4aa9-91e7-3dd5e5dd2a6f",
        "outputId": "e5b6bcf0-0e7e-4e58-b160-b8e81ed638ba"
      },
      "outputs": [
        {
          "output_type": "stream",
          "name": "stdout",
          "text": [
            "\u001b[1m1/1\u001b[0m \u001b[32m━━━━━━━━━━━━━━━━━━━━\u001b[0m\u001b[37m\u001b[0m \u001b[1m0s\u001b[0m 82ms/step\n"
          ]
        }
      ],
      "source": [
        "# Make predictions on the testing set\n",
        "y_pred = custom_model.predict(X_test)\n",
        "\n",
        "# Convert one-hot encoded predictions to class labels (optional)\n",
        "y_pred_classes = np.argmax(y_pred, axis=1)"
      ]
    },
    {
      "cell_type": "code",
      "execution_count": null,
      "id": "af7640c8-8b2b-4374-93e6-e2d8cb8eab32",
      "metadata": {
        "colab": {
          "base_uri": "https://localhost:8080/"
        },
        "id": "af7640c8-8b2b-4374-93e6-e2d8cb8eab32",
        "outputId": "f07876f0-59bb-45ce-f9d5-7f78d7559224"
      },
      "outputs": [
        {
          "output_type": "stream",
          "name": "stdout",
          "text": [
            "\u001b[1m1/1\u001b[0m \u001b[32m━━━━━━━━━━━━━━━━━━━━\u001b[0m\u001b[37m\u001b[0m \u001b[1m0s\u001b[0m 245ms/step - accuracy: 0.6111 - loss: 0.7356\n",
            "Test accuracy: 0.6111111044883728\n"
          ]
        }
      ],
      "source": [
        "# Evaluate the model\n",
        "test_loss, test_acc = custom_model.evaluate(X_test, y_test)\n",
        "print('Test accuracy:', test_acc)"
      ]
    },
    {
      "cell_type": "markdown",
      "id": "cc42647a-8dc8-4f44-8735-3103d6fd8bc5",
      "metadata": {
        "id": "cc42647a-8dc8-4f44-8735-3103d6fd8bc5"
      },
      "source": [
        "\n",
        "Now we get the positive result but not as same because in the previous procedure accuracy was\"0.66\".\n",
        "\n",
        "Now the accuracy was \"0.38\".\n",
        "\n",
        "we change the \"hidden_layer1 = Dense(units=60\" as \"hidden_layer1 = Dense(units=90,\" and observe the changes."
      ]
    },
    {
      "cell_type": "code",
      "execution_count": null,
      "id": "d0c30647-8f40-4505-a53d-71886b722f18",
      "metadata": {
        "id": "d0c30647-8f40-4505-a53d-71886b722f18"
      },
      "outputs": [],
      "source": [
        "import pandas as pd\n",
        "import numpy as np\n",
        "from sklearn.model_selection import train_test_split\n",
        "from keras.models import Sequential\n",
        "from keras.layers import Dense\n",
        "from keras.utils import to_categorical\n",
        "from sklearn.preprocessing import OneHotEncoder\n",
        "from sklearn.preprocessing import LabelEncoder"
      ]
    },
    {
      "cell_type": "code",
      "execution_count": null,
      "id": "b6aca034-a709-4eb3-8ca0-0fb9eddaa3cc",
      "metadata": {
        "colab": {
          "base_uri": "https://localhost:8080/",
          "height": 74
        },
        "id": "b6aca034-a709-4eb3-8ca0-0fb9eddaa3cc",
        "outputId": "c92aa728-b206-4d71-9576-8a294a9c258a"
      },
      "outputs": [
        {
          "output_type": "display_data",
          "data": {
            "text/plain": [
              "<IPython.core.display.HTML object>"
            ],
            "text/html": [
              "\n",
              "     <input type=\"file\" id=\"files-3f4edd22-9492-4801-bf47-fe18b958f71a\" name=\"files[]\" multiple disabled\n",
              "        style=\"border:none\" />\n",
              "     <output id=\"result-3f4edd22-9492-4801-bf47-fe18b958f71a\">\n",
              "      Upload widget is only available when the cell has been executed in the\n",
              "      current browser session. Please rerun this cell to enable.\n",
              "      </output>\n",
              "      <script>// Copyright 2017 Google LLC\n",
              "//\n",
              "// Licensed under the Apache License, Version 2.0 (the \"License\");\n",
              "// you may not use this file except in compliance with the License.\n",
              "// You may obtain a copy of the License at\n",
              "//\n",
              "//      http://www.apache.org/licenses/LICENSE-2.0\n",
              "//\n",
              "// Unless required by applicable law or agreed to in writing, software\n",
              "// distributed under the License is distributed on an \"AS IS\" BASIS,\n",
              "// WITHOUT WARRANTIES OR CONDITIONS OF ANY KIND, either express or implied.\n",
              "// See the License for the specific language governing permissions and\n",
              "// limitations under the License.\n",
              "\n",
              "/**\n",
              " * @fileoverview Helpers for google.colab Python module.\n",
              " */\n",
              "(function(scope) {\n",
              "function span(text, styleAttributes = {}) {\n",
              "  const element = document.createElement('span');\n",
              "  element.textContent = text;\n",
              "  for (const key of Object.keys(styleAttributes)) {\n",
              "    element.style[key] = styleAttributes[key];\n",
              "  }\n",
              "  return element;\n",
              "}\n",
              "\n",
              "// Max number of bytes which will be uploaded at a time.\n",
              "const MAX_PAYLOAD_SIZE = 100 * 1024;\n",
              "\n",
              "function _uploadFiles(inputId, outputId) {\n",
              "  const steps = uploadFilesStep(inputId, outputId);\n",
              "  const outputElement = document.getElementById(outputId);\n",
              "  // Cache steps on the outputElement to make it available for the next call\n",
              "  // to uploadFilesContinue from Python.\n",
              "  outputElement.steps = steps;\n",
              "\n",
              "  return _uploadFilesContinue(outputId);\n",
              "}\n",
              "\n",
              "// This is roughly an async generator (not supported in the browser yet),\n",
              "// where there are multiple asynchronous steps and the Python side is going\n",
              "// to poll for completion of each step.\n",
              "// This uses a Promise to block the python side on completion of each step,\n",
              "// then passes the result of the previous step as the input to the next step.\n",
              "function _uploadFilesContinue(outputId) {\n",
              "  const outputElement = document.getElementById(outputId);\n",
              "  const steps = outputElement.steps;\n",
              "\n",
              "  const next = steps.next(outputElement.lastPromiseValue);\n",
              "  return Promise.resolve(next.value.promise).then((value) => {\n",
              "    // Cache the last promise value to make it available to the next\n",
              "    // step of the generator.\n",
              "    outputElement.lastPromiseValue = value;\n",
              "    return next.value.response;\n",
              "  });\n",
              "}\n",
              "\n",
              "/**\n",
              " * Generator function which is called between each async step of the upload\n",
              " * process.\n",
              " * @param {string} inputId Element ID of the input file picker element.\n",
              " * @param {string} outputId Element ID of the output display.\n",
              " * @return {!Iterable<!Object>} Iterable of next steps.\n",
              " */\n",
              "function* uploadFilesStep(inputId, outputId) {\n",
              "  const inputElement = document.getElementById(inputId);\n",
              "  inputElement.disabled = false;\n",
              "\n",
              "  const outputElement = document.getElementById(outputId);\n",
              "  outputElement.innerHTML = '';\n",
              "\n",
              "  const pickedPromise = new Promise((resolve) => {\n",
              "    inputElement.addEventListener('change', (e) => {\n",
              "      resolve(e.target.files);\n",
              "    });\n",
              "  });\n",
              "\n",
              "  const cancel = document.createElement('button');\n",
              "  inputElement.parentElement.appendChild(cancel);\n",
              "  cancel.textContent = 'Cancel upload';\n",
              "  const cancelPromise = new Promise((resolve) => {\n",
              "    cancel.onclick = () => {\n",
              "      resolve(null);\n",
              "    };\n",
              "  });\n",
              "\n",
              "  // Wait for the user to pick the files.\n",
              "  const files = yield {\n",
              "    promise: Promise.race([pickedPromise, cancelPromise]),\n",
              "    response: {\n",
              "      action: 'starting',\n",
              "    }\n",
              "  };\n",
              "\n",
              "  cancel.remove();\n",
              "\n",
              "  // Disable the input element since further picks are not allowed.\n",
              "  inputElement.disabled = true;\n",
              "\n",
              "  if (!files) {\n",
              "    return {\n",
              "      response: {\n",
              "        action: 'complete',\n",
              "      }\n",
              "    };\n",
              "  }\n",
              "\n",
              "  for (const file of files) {\n",
              "    const li = document.createElement('li');\n",
              "    li.append(span(file.name, {fontWeight: 'bold'}));\n",
              "    li.append(span(\n",
              "        `(${file.type || 'n/a'}) - ${file.size} bytes, ` +\n",
              "        `last modified: ${\n",
              "            file.lastModifiedDate ? file.lastModifiedDate.toLocaleDateString() :\n",
              "                                    'n/a'} - `));\n",
              "    const percent = span('0% done');\n",
              "    li.appendChild(percent);\n",
              "\n",
              "    outputElement.appendChild(li);\n",
              "\n",
              "    const fileDataPromise = new Promise((resolve) => {\n",
              "      const reader = new FileReader();\n",
              "      reader.onload = (e) => {\n",
              "        resolve(e.target.result);\n",
              "      };\n",
              "      reader.readAsArrayBuffer(file);\n",
              "    });\n",
              "    // Wait for the data to be ready.\n",
              "    let fileData = yield {\n",
              "      promise: fileDataPromise,\n",
              "      response: {\n",
              "        action: 'continue',\n",
              "      }\n",
              "    };\n",
              "\n",
              "    // Use a chunked sending to avoid message size limits. See b/62115660.\n",
              "    let position = 0;\n",
              "    do {\n",
              "      const length = Math.min(fileData.byteLength - position, MAX_PAYLOAD_SIZE);\n",
              "      const chunk = new Uint8Array(fileData, position, length);\n",
              "      position += length;\n",
              "\n",
              "      const base64 = btoa(String.fromCharCode.apply(null, chunk));\n",
              "      yield {\n",
              "        response: {\n",
              "          action: 'append',\n",
              "          file: file.name,\n",
              "          data: base64,\n",
              "        },\n",
              "      };\n",
              "\n",
              "      let percentDone = fileData.byteLength === 0 ?\n",
              "          100 :\n",
              "          Math.round((position / fileData.byteLength) * 100);\n",
              "      percent.textContent = `${percentDone}% done`;\n",
              "\n",
              "    } while (position < fileData.byteLength);\n",
              "  }\n",
              "\n",
              "  // All done.\n",
              "  yield {\n",
              "    response: {\n",
              "      action: 'complete',\n",
              "    }\n",
              "  };\n",
              "}\n",
              "\n",
              "scope.google = scope.google || {};\n",
              "scope.google.colab = scope.google.colab || {};\n",
              "scope.google.colab._files = {\n",
              "  _uploadFiles,\n",
              "  _uploadFilesContinue,\n",
              "};\n",
              "})(self);\n",
              "</script> "
            ]
          },
          "metadata": {}
        },
        {
          "output_type": "stream",
          "name": "stdout",
          "text": [
            "Saving Madhuca-longifolia.jpg to Madhuca-longifolia (27).jpg\n"
          ]
        }
      ],
      "source": [
        "from google.colab import files\n",
        "uploaded = files.upload()\n",
        "import pandas as pd\n",
        "\n",
        "# Load data from CSV file\n",
        "# file_path = r'C:\\Users\\spthe\\OneDrive\\Desktop\\TreeDataSet.csv'  # Update with the correct file path\n",
        "data = pd.read_csv('TreeDataSet.csv')"
      ]
    },
    {
      "cell_type": "code",
      "execution_count": null,
      "id": "932662c3-c784-4057-bb7a-f5443193be8f",
      "metadata": {
        "id": "932662c3-c784-4057-bb7a-f5443193be8f"
      },
      "outputs": [],
      "source": [
        "# Adjust column names\n",
        "data.columns = ['TreeSpecies', 'Ratio', 'Angle']"
      ]
    },
    {
      "cell_type": "code",
      "execution_count": null,
      "id": "ad795405-a97d-4dbf-843f-0d3772227d98",
      "metadata": {
        "colab": {
          "base_uri": "https://localhost:8080/"
        },
        "id": "ad795405-a97d-4dbf-843f-0d3772227d98",
        "outputId": "5df06e7b-5928-4731-9f3b-33de324fec17"
      },
      "outputs": [
        {
          "output_type": "stream",
          "name": "stdout",
          "text": [
            "Data types in features (X):\n",
            "Ratio    float64\n",
            "Angle      int64\n",
            "dtype: object\n",
            "Data type in labels (y):\n",
            "object\n"
          ]
        }
      ],
      "source": [
        "# Check for data types in features and labels (for debugging)\n",
        "print(\"Data types in features (X):\")\n",
        "print(data[[ 'Ratio', 'Angle']].dtypes)\n",
        "print(\"Data type in labels (y):\")\n",
        "print(data['TreeSpecies'].dtype)"
      ]
    },
    {
      "cell_type": "code",
      "execution_count": null,
      "id": "af56c8c5-8aac-4e9c-8ac9-c7ae02e4fa88",
      "metadata": {
        "id": "af56c8c5-8aac-4e9c-8ac9-c7ae02e4fa88"
      },
      "outputs": [],
      "source": [
        "# Prepare features and labels\n",
        "# Select features excluding column names\n",
        "X = data[['Ratio', 'Angle']]"
      ]
    },
    {
      "cell_type": "code",
      "execution_count": null,
      "id": "38177bcc-6831-4cd9-b100-417db1f63dd9",
      "metadata": {
        "id": "38177bcc-6831-4cd9-b100-417db1f63dd9"
      },
      "outputs": [],
      "source": [
        "# Attempt to convert features to numerics (assuming numerical data)\n",
        "X = X.apply(pd.to_numeric, errors='coerce').values"
      ]
    },
    {
      "cell_type": "code",
      "execution_count": null,
      "id": "427a1f49-45ca-406f-9bdb-c4bb9b82b90b",
      "metadata": {
        "id": "427a1f49-45ca-406f-9bdb-c4bb9b82b90b"
      },
      "outputs": [],
      "source": [
        "# Encode labels into integers (assuming categorical labels)\n",
        "label_encoder = LabelEncoder()\n",
        "y = label_encoder.fit_transform(data['TreeSpecies'].values)"
      ]
    },
    {
      "cell_type": "code",
      "execution_count": null,
      "id": "b7028609-a46d-48e5-86d9-03c0588a5f78",
      "metadata": {
        "colab": {
          "base_uri": "https://localhost:8080/"
        },
        "id": "b7028609-a46d-48e5-86d9-03c0588a5f78",
        "outputId": "b783fa55-7246-4940-a565-a1a005423fa6"
      },
      "outputs": [
        {
          "output_type": "stream",
          "name": "stdout",
          "text": [
            "Number of unique classes after label encoding: 3\n"
          ]
        }
      ],
      "source": [
        "# Check the number of unique classes after label encoding (for debugging)\n",
        "print(\"Number of unique classes after label encoding:\", len(label_encoder.classes_))"
      ]
    },
    {
      "cell_type": "code",
      "execution_count": null,
      "id": "776c385d-074d-4b97-9f80-7fb460d44338",
      "metadata": {
        "id": "776c385d-074d-4b97-9f80-7fb460d44338"
      },
      "outputs": [],
      "source": [
        "# Convert labels to categorical (one-hot encoding)\n",
        "OneHotEncoder(sparse_output=False)\n",
        "y = encoder.fit_transform(y.reshape(-1, 1))  # Reshape for compatibility"
      ]
    },
    {
      "cell_type": "code",
      "execution_count": null,
      "id": "50ba9fb5-e7af-4857-b62b-954aab9aee15",
      "metadata": {
        "colab": {
          "base_uri": "https://localhost:8080/"
        },
        "id": "50ba9fb5-e7af-4857-b62b-954aab9aee15",
        "outputId": "03d54cd3-773c-40e7-8c46-9c854af31db2"
      },
      "outputs": [
        {
          "output_type": "stream",
          "name": "stdout",
          "text": [
            "Shape of encoded labels (y): (90, 3)\n"
          ]
        }
      ],
      "source": [
        "# Check the shape of the encoded labels (for debugging)\n",
        "print(\"Shape of encoded labels (y):\", y.shape)"
      ]
    },
    {
      "cell_type": "code",
      "execution_count": null,
      "id": "ae931bb1-f800-4723-a2af-bb673f7a55a4",
      "metadata": {
        "id": "ae931bb1-f800-4723-a2af-bb673f7a55a4"
      },
      "outputs": [],
      "source": [
        "# Split data into training and testing sets\n",
        "X_train, X_test, y_train, y_test = train_test_split(X, y, test_size=0.2, random_state=3)"
      ]
    },
    {
      "cell_type": "code",
      "execution_count": null,
      "id": "55ae329d-6ba3-4700-8db4-db8cb916ee51",
      "metadata": {
        "colab": {
          "base_uri": "https://localhost:8080/"
        },
        "id": "55ae329d-6ba3-4700-8db4-db8cb916ee51",
        "outputId": "7750256a-be52-4bb6-e668-7d190523619e"
      },
      "outputs": [
        {
          "output_type": "stream",
          "name": "stdout",
          "text": [
            "Shape of training features (X_train): (72, 2)\n"
          ]
        }
      ],
      "source": [
        "# Print the shape of training features (for debugging)\n",
        "print(\"Shape of training features (X_train):\", X_train.shape)"
      ]
    },
    {
      "cell_type": "code",
      "execution_count": null,
      "id": "0eec726c-f145-4b44-a74e-9d394c7edfb0",
      "metadata": {
        "id": "0eec726c-f145-4b44-a74e-9d394c7edfb0"
      },
      "outputs": [],
      "source": [
        "from keras.models import Model\n",
        "from keras.layers import Input, Dense\n",
        "\n",
        "# Define the input layer with shape (2,)\n",
        "input_layer = Input(shape=(2,))\n",
        "\n",
        "# Define the layers of the model\n",
        "hidden_layer1 = Dense(units=90, activation='relu')(input_layer) # First hidden layer with 30 units and ReLU activation\n",
        "hidden_layer2 = Dense(units=30, activation='relu')(hidden_layer1) # Second hidden layer with 30 units and ReLU activation\n",
        "output_layer = Dense(units=3, activation='softmax')(hidden_layer2) # Output layer with 5 units and softmax activation\n",
        "\n",
        "# Define the model\n",
        "custom_model = Model(inputs=input_layer, outputs=output_layer) # Creating a model with specified input and output layers"
      ]
    },
    {
      "cell_type": "code",
      "execution_count": null,
      "id": "5e8e9fcc-a4b9-45eb-9d99-d3e82a6b81fc",
      "metadata": {
        "id": "5e8e9fcc-a4b9-45eb-9d99-d3e82a6b81fc"
      },
      "outputs": [],
      "source": [
        "# Compile the model\n",
        "custom_model.compile(optimizer='rmsprop',\n",
        "                     loss='categorical_crossentropy',\n",
        "                     metrics=['accuracy'])"
      ]
    },
    {
      "cell_type": "code",
      "execution_count": null,
      "id": "8d46712c-eee5-4948-bf1b-44fccc8711ff",
      "metadata": {
        "colab": {
          "base_uri": "https://localhost:8080/"
        },
        "id": "8d46712c-eee5-4948-bf1b-44fccc8711ff",
        "outputId": "dba547a3-f50b-4df5-bd46-c01e30914824"
      },
      "outputs": [
        {
          "output_type": "stream",
          "name": "stdout",
          "text": [
            "Epoch 1/5\n",
            "\u001b[1m3/3\u001b[0m \u001b[32m━━━━━━━━━━━━━━━━━━━━\u001b[0m\u001b[37m\u001b[0m \u001b[1m1s\u001b[0m 16ms/step - accuracy: 0.4000 - loss: 4.4282 \n",
            "Epoch 2/5\n",
            "\u001b[1m3/3\u001b[0m \u001b[32m━━━━━━━━━━━━━━━━━━━━\u001b[0m\u001b[37m\u001b[0m \u001b[1m0s\u001b[0m 17ms/step - accuracy: 0.2722 - loss: 2.8391\n",
            "Epoch 3/5\n",
            "\u001b[1m3/3\u001b[0m \u001b[32m━━━━━━━━━━━━━━━━━━━━\u001b[0m\u001b[37m\u001b[0m \u001b[1m0s\u001b[0m 16ms/step - accuracy: 0.5306 - loss: 1.5399\n",
            "Epoch 4/5\n",
            "\u001b[1m3/3\u001b[0m \u001b[32m━━━━━━━━━━━━━━━━━━━━\u001b[0m\u001b[37m\u001b[0m \u001b[1m0s\u001b[0m 16ms/step - accuracy: 0.5194 - loss: 1.0497\n",
            "Epoch 5/5\n",
            "\u001b[1m3/3\u001b[0m \u001b[32m━━━━━━━━━━━━━━━━━━━━\u001b[0m\u001b[37m\u001b[0m \u001b[1m0s\u001b[0m 20ms/step - accuracy: 0.3042 - loss: 1.0216\n"
          ]
        },
        {
          "output_type": "execute_result",
          "data": {
            "text/plain": [
              "<keras.src.callbacks.history.History at 0x7d40e8da7010>"
            ]
          },
          "metadata": {},
          "execution_count": 214
        }
      ],
      "source": [
        "# Train the model with the reshaped input data\n",
        "custom_model.fit(X_train, y_train, epochs=5, batch_size=30)"
      ]
    },
    {
      "cell_type": "code",
      "execution_count": null,
      "id": "5a1719f3-56d7-4f73-acb1-b2ec6b3e1923",
      "metadata": {
        "colab": {
          "base_uri": "https://localhost:8080/"
        },
        "id": "5a1719f3-56d7-4f73-acb1-b2ec6b3e1923",
        "outputId": "7e68704f-f949-4832-a63c-8c6b5254660b"
      },
      "outputs": [
        {
          "output_type": "stream",
          "name": "stdout",
          "text": [
            "\u001b[1m1/1\u001b[0m \u001b[32m━━━━━━━━━━━━━━━━━━━━\u001b[0m\u001b[37m\u001b[0m \u001b[1m0s\u001b[0m 85ms/step\n"
          ]
        }
      ],
      "source": [
        "# Make predictions on the testing set\n",
        "y_pred = custom_model.predict(X_test)\n",
        "\n",
        "# Convert one-hot encoded predictions to class labels (optional)\n",
        "y_pred_classes = np.argmax(y_pred, axis=1)"
      ]
    },
    {
      "cell_type": "code",
      "execution_count": null,
      "id": "6f545a5d-6bae-44e6-bbad-1e0b3c158fdd",
      "metadata": {
        "colab": {
          "base_uri": "https://localhost:8080/"
        },
        "id": "6f545a5d-6bae-44e6-bbad-1e0b3c158fdd",
        "outputId": "5cdce7a5-6eca-46ef-9fa4-acbae7d624e5"
      },
      "outputs": [
        {
          "output_type": "stream",
          "name": "stdout",
          "text": [
            "\u001b[1m1/1\u001b[0m \u001b[32m━━━━━━━━━━━━━━━━━━━━\u001b[0m\u001b[37m\u001b[0m \u001b[1m0s\u001b[0m 240ms/step - accuracy: 0.6111 - loss: 0.9228\n",
            "Test accuracy: 0.6111111044883728\n"
          ]
        }
      ],
      "source": [
        "# Evaluate the model\n",
        "test_loss, test_acc = custom_model.evaluate(X_test, y_test)\n",
        "print('Test accuracy:', test_acc)"
      ]
    },
    {
      "cell_type": "markdown",
      "id": "91c8acd1-bc29-455c-bcd7-1b4a3c58f9b9",
      "metadata": {
        "id": "91c8acd1-bc29-455c-bcd7-1b4a3c58f9b9"
      },
      "source": [
        "\n",
        "Now we get the positive result, the model accuracy was slightly increased as \"0.44\" so we keep the change.\n",
        "\n",
        "Now we change the \"hidden_layer2 = Dense(units=30,\" as \"hidden_layer2 = Dense(units=15,\" and observe the changes."
      ]
    },
    {
      "cell_type": "code",
      "execution_count": null,
      "id": "f67811ec-127f-47a0-af2a-b1c3304a084c",
      "metadata": {
        "id": "f67811ec-127f-47a0-af2a-b1c3304a084c"
      },
      "outputs": [],
      "source": [
        "import pandas as pd\n",
        "import numpy as np\n",
        "from sklearn.model_selection import train_test_split\n",
        "from keras.models import Sequential\n",
        "from keras.layers import Dense\n",
        "from keras.utils import to_categorical\n",
        "from sklearn.preprocessing import OneHotEncoder\n",
        "from sklearn.preprocessing import LabelEncoder"
      ]
    },
    {
      "cell_type": "code",
      "execution_count": null,
      "id": "f07cf9ca-67cd-491b-bdaf-054d3416ac22",
      "metadata": {
        "colab": {
          "base_uri": "https://localhost:8080/",
          "height": 74
        },
        "id": "f07cf9ca-67cd-491b-bdaf-054d3416ac22",
        "outputId": "70c16952-99d5-4342-a901-3c77df142b88"
      },
      "outputs": [
        {
          "output_type": "display_data",
          "data": {
            "text/plain": [
              "<IPython.core.display.HTML object>"
            ],
            "text/html": [
              "\n",
              "     <input type=\"file\" id=\"files-c46e7774-667a-4f58-9752-1faafb9d19c2\" name=\"files[]\" multiple disabled\n",
              "        style=\"border:none\" />\n",
              "     <output id=\"result-c46e7774-667a-4f58-9752-1faafb9d19c2\">\n",
              "      Upload widget is only available when the cell has been executed in the\n",
              "      current browser session. Please rerun this cell to enable.\n",
              "      </output>\n",
              "      <script>// Copyright 2017 Google LLC\n",
              "//\n",
              "// Licensed under the Apache License, Version 2.0 (the \"License\");\n",
              "// you may not use this file except in compliance with the License.\n",
              "// You may obtain a copy of the License at\n",
              "//\n",
              "//      http://www.apache.org/licenses/LICENSE-2.0\n",
              "//\n",
              "// Unless required by applicable law or agreed to in writing, software\n",
              "// distributed under the License is distributed on an \"AS IS\" BASIS,\n",
              "// WITHOUT WARRANTIES OR CONDITIONS OF ANY KIND, either express or implied.\n",
              "// See the License for the specific language governing permissions and\n",
              "// limitations under the License.\n",
              "\n",
              "/**\n",
              " * @fileoverview Helpers for google.colab Python module.\n",
              " */\n",
              "(function(scope) {\n",
              "function span(text, styleAttributes = {}) {\n",
              "  const element = document.createElement('span');\n",
              "  element.textContent = text;\n",
              "  for (const key of Object.keys(styleAttributes)) {\n",
              "    element.style[key] = styleAttributes[key];\n",
              "  }\n",
              "  return element;\n",
              "}\n",
              "\n",
              "// Max number of bytes which will be uploaded at a time.\n",
              "const MAX_PAYLOAD_SIZE = 100 * 1024;\n",
              "\n",
              "function _uploadFiles(inputId, outputId) {\n",
              "  const steps = uploadFilesStep(inputId, outputId);\n",
              "  const outputElement = document.getElementById(outputId);\n",
              "  // Cache steps on the outputElement to make it available for the next call\n",
              "  // to uploadFilesContinue from Python.\n",
              "  outputElement.steps = steps;\n",
              "\n",
              "  return _uploadFilesContinue(outputId);\n",
              "}\n",
              "\n",
              "// This is roughly an async generator (not supported in the browser yet),\n",
              "// where there are multiple asynchronous steps and the Python side is going\n",
              "// to poll for completion of each step.\n",
              "// This uses a Promise to block the python side on completion of each step,\n",
              "// then passes the result of the previous step as the input to the next step.\n",
              "function _uploadFilesContinue(outputId) {\n",
              "  const outputElement = document.getElementById(outputId);\n",
              "  const steps = outputElement.steps;\n",
              "\n",
              "  const next = steps.next(outputElement.lastPromiseValue);\n",
              "  return Promise.resolve(next.value.promise).then((value) => {\n",
              "    // Cache the last promise value to make it available to the next\n",
              "    // step of the generator.\n",
              "    outputElement.lastPromiseValue = value;\n",
              "    return next.value.response;\n",
              "  });\n",
              "}\n",
              "\n",
              "/**\n",
              " * Generator function which is called between each async step of the upload\n",
              " * process.\n",
              " * @param {string} inputId Element ID of the input file picker element.\n",
              " * @param {string} outputId Element ID of the output display.\n",
              " * @return {!Iterable<!Object>} Iterable of next steps.\n",
              " */\n",
              "function* uploadFilesStep(inputId, outputId) {\n",
              "  const inputElement = document.getElementById(inputId);\n",
              "  inputElement.disabled = false;\n",
              "\n",
              "  const outputElement = document.getElementById(outputId);\n",
              "  outputElement.innerHTML = '';\n",
              "\n",
              "  const pickedPromise = new Promise((resolve) => {\n",
              "    inputElement.addEventListener('change', (e) => {\n",
              "      resolve(e.target.files);\n",
              "    });\n",
              "  });\n",
              "\n",
              "  const cancel = document.createElement('button');\n",
              "  inputElement.parentElement.appendChild(cancel);\n",
              "  cancel.textContent = 'Cancel upload';\n",
              "  const cancelPromise = new Promise((resolve) => {\n",
              "    cancel.onclick = () => {\n",
              "      resolve(null);\n",
              "    };\n",
              "  });\n",
              "\n",
              "  // Wait for the user to pick the files.\n",
              "  const files = yield {\n",
              "    promise: Promise.race([pickedPromise, cancelPromise]),\n",
              "    response: {\n",
              "      action: 'starting',\n",
              "    }\n",
              "  };\n",
              "\n",
              "  cancel.remove();\n",
              "\n",
              "  // Disable the input element since further picks are not allowed.\n",
              "  inputElement.disabled = true;\n",
              "\n",
              "  if (!files) {\n",
              "    return {\n",
              "      response: {\n",
              "        action: 'complete',\n",
              "      }\n",
              "    };\n",
              "  }\n",
              "\n",
              "  for (const file of files) {\n",
              "    const li = document.createElement('li');\n",
              "    li.append(span(file.name, {fontWeight: 'bold'}));\n",
              "    li.append(span(\n",
              "        `(${file.type || 'n/a'}) - ${file.size} bytes, ` +\n",
              "        `last modified: ${\n",
              "            file.lastModifiedDate ? file.lastModifiedDate.toLocaleDateString() :\n",
              "                                    'n/a'} - `));\n",
              "    const percent = span('0% done');\n",
              "    li.appendChild(percent);\n",
              "\n",
              "    outputElement.appendChild(li);\n",
              "\n",
              "    const fileDataPromise = new Promise((resolve) => {\n",
              "      const reader = new FileReader();\n",
              "      reader.onload = (e) => {\n",
              "        resolve(e.target.result);\n",
              "      };\n",
              "      reader.readAsArrayBuffer(file);\n",
              "    });\n",
              "    // Wait for the data to be ready.\n",
              "    let fileData = yield {\n",
              "      promise: fileDataPromise,\n",
              "      response: {\n",
              "        action: 'continue',\n",
              "      }\n",
              "    };\n",
              "\n",
              "    // Use a chunked sending to avoid message size limits. See b/62115660.\n",
              "    let position = 0;\n",
              "    do {\n",
              "      const length = Math.min(fileData.byteLength - position, MAX_PAYLOAD_SIZE);\n",
              "      const chunk = new Uint8Array(fileData, position, length);\n",
              "      position += length;\n",
              "\n",
              "      const base64 = btoa(String.fromCharCode.apply(null, chunk));\n",
              "      yield {\n",
              "        response: {\n",
              "          action: 'append',\n",
              "          file: file.name,\n",
              "          data: base64,\n",
              "        },\n",
              "      };\n",
              "\n",
              "      let percentDone = fileData.byteLength === 0 ?\n",
              "          100 :\n",
              "          Math.round((position / fileData.byteLength) * 100);\n",
              "      percent.textContent = `${percentDone}% done`;\n",
              "\n",
              "    } while (position < fileData.byteLength);\n",
              "  }\n",
              "\n",
              "  // All done.\n",
              "  yield {\n",
              "    response: {\n",
              "      action: 'complete',\n",
              "    }\n",
              "  };\n",
              "}\n",
              "\n",
              "scope.google = scope.google || {};\n",
              "scope.google.colab = scope.google.colab || {};\n",
              "scope.google.colab._files = {\n",
              "  _uploadFiles,\n",
              "  _uploadFilesContinue,\n",
              "};\n",
              "})(self);\n",
              "</script> "
            ]
          },
          "metadata": {}
        },
        {
          "output_type": "stream",
          "name": "stdout",
          "text": [
            "Saving R.jpg to R (6).jpg\n"
          ]
        }
      ],
      "source": [
        "from google.colab import files\n",
        "uploaded = files.upload()\n",
        "import pandas as pd\n",
        "\n",
        "# Load data from CSV file\n",
        "# file_path = r'C:\\Users\\spthe\\OneDrive\\Desktop\\TreeDataSet.csv'  # Update with the correct file path\n",
        "data = pd.read_csv('TreeDataSet.csv')"
      ]
    },
    {
      "cell_type": "code",
      "execution_count": null,
      "id": "151cc535-61b7-4912-8d0e-123c40fc0ba8",
      "metadata": {
        "id": "151cc535-61b7-4912-8d0e-123c40fc0ba8"
      },
      "outputs": [],
      "source": [
        "# Adjust column names\n",
        "data.columns = ['TreeSpecies', 'Ratio', 'Angle']"
      ]
    },
    {
      "cell_type": "code",
      "execution_count": null,
      "id": "70063b1a-0206-487a-ba6b-79f133bb77f9",
      "metadata": {
        "colab": {
          "base_uri": "https://localhost:8080/"
        },
        "id": "70063b1a-0206-487a-ba6b-79f133bb77f9",
        "outputId": "0c2cccc8-b0db-4d61-cc57-a8b8a7eec6bd"
      },
      "outputs": [
        {
          "output_type": "stream",
          "name": "stdout",
          "text": [
            "Data types in features (X):\n",
            "Ratio    float64\n",
            "Angle      int64\n",
            "dtype: object\n",
            "Data type in labels (y):\n",
            "object\n"
          ]
        }
      ],
      "source": [
        "# Check for data types in features and labels (for debugging)\n",
        "print(\"Data types in features (X):\")\n",
        "print(data[[ 'Ratio', 'Angle']].dtypes)\n",
        "print(\"Data type in labels (y):\")\n",
        "print(data['TreeSpecies'].dtype)"
      ]
    },
    {
      "cell_type": "code",
      "execution_count": null,
      "id": "5ff59d2e-c9e5-476c-91cd-018691ec5f95",
      "metadata": {
        "id": "5ff59d2e-c9e5-476c-91cd-018691ec5f95"
      },
      "outputs": [],
      "source": [
        "# Prepare features and labels\n",
        "# Select features excluding column names\n",
        "X = data[['Ratio', 'Angle']]"
      ]
    },
    {
      "cell_type": "code",
      "execution_count": null,
      "id": "34564227-d481-487f-87e8-31bb217c1645",
      "metadata": {
        "id": "34564227-d481-487f-87e8-31bb217c1645"
      },
      "outputs": [],
      "source": [
        "# Attempt to convert features to numerics (assuming numerical data)\n",
        "X = X.apply(pd.to_numeric, errors='coerce').values"
      ]
    },
    {
      "cell_type": "code",
      "execution_count": null,
      "id": "2f5d7ed3-9d4b-450a-9214-fd13be9fa945",
      "metadata": {
        "id": "2f5d7ed3-9d4b-450a-9214-fd13be9fa945"
      },
      "outputs": [],
      "source": [
        "# Encode labels into integers (assuming categorical labels)\n",
        "label_encoder = LabelEncoder()\n",
        "y = label_encoder.fit_transform(data['TreeSpecies'].values)"
      ]
    },
    {
      "cell_type": "code",
      "execution_count": null,
      "id": "30dc8186-b5fc-40ae-9c44-1b153b7bb2b5",
      "metadata": {
        "colab": {
          "base_uri": "https://localhost:8080/"
        },
        "id": "30dc8186-b5fc-40ae-9c44-1b153b7bb2b5",
        "outputId": "755617de-987f-4d42-ce10-73818e66b46f"
      },
      "outputs": [
        {
          "output_type": "stream",
          "name": "stdout",
          "text": [
            "Number of unique classes after label encoding: 3\n"
          ]
        }
      ],
      "source": [
        "# Check the number of unique classes after label encoding (for debugging)\n",
        "print(\"Number of unique classes after label encoding:\", len(label_encoder.classes_))"
      ]
    },
    {
      "cell_type": "code",
      "execution_count": null,
      "id": "752a6f29-6fcd-4f1a-9ebd-e46011a1c481",
      "metadata": {
        "id": "752a6f29-6fcd-4f1a-9ebd-e46011a1c481"
      },
      "outputs": [],
      "source": [
        "# Convert labels to categorical (one-hot encoding)\n",
        "encoder = OneHotEncoder(sparse_output=False)\n",
        "y = encoder.fit_transform(y.reshape(-1, 1))  # Reshape for compatibility"
      ]
    },
    {
      "cell_type": "code",
      "execution_count": null,
      "id": "b18d6fc4-11dd-46c8-86f3-3782192f6cf1",
      "metadata": {
        "colab": {
          "base_uri": "https://localhost:8080/"
        },
        "id": "b18d6fc4-11dd-46c8-86f3-3782192f6cf1",
        "outputId": "0512a845-71e5-47c7-8a1a-65be7042a987"
      },
      "outputs": [
        {
          "output_type": "stream",
          "name": "stdout",
          "text": [
            "Shape of encoded labels (y): (90, 3)\n"
          ]
        }
      ],
      "source": [
        "# Check the shape of the encoded labels (for debugging)\n",
        "print(\"Shape of encoded labels (y):\", y.shape)"
      ]
    },
    {
      "cell_type": "code",
      "execution_count": null,
      "id": "92264f53-2f32-4a1d-a948-7b88be78f3b4",
      "metadata": {
        "id": "92264f53-2f32-4a1d-a948-7b88be78f3b4"
      },
      "outputs": [],
      "source": [
        "# Split data into training and testing sets\n",
        "X_train, X_test, y_train, y_test = train_test_split(X, y, test_size=0.2, random_state=3)"
      ]
    },
    {
      "cell_type": "code",
      "execution_count": null,
      "id": "17014386-20ea-4a5a-9193-0984fcb518de",
      "metadata": {
        "colab": {
          "base_uri": "https://localhost:8080/"
        },
        "id": "17014386-20ea-4a5a-9193-0984fcb518de",
        "outputId": "02c0cae1-e844-4f25-f1f8-534bb357fcbb"
      },
      "outputs": [
        {
          "output_type": "stream",
          "name": "stdout",
          "text": [
            "Shape of training features (X_train): (72, 2)\n"
          ]
        }
      ],
      "source": [
        "# Print the shape of training features (for debugging)\n",
        "print(\"Shape of training features (X_train):\", X_train.shape)"
      ]
    },
    {
      "cell_type": "code",
      "execution_count": null,
      "id": "44753ca9-40a0-4586-8848-35124e0d26c3",
      "metadata": {
        "id": "44753ca9-40a0-4586-8848-35124e0d26c3"
      },
      "outputs": [],
      "source": [
        "from keras.models import Model\n",
        "from keras.layers import Input, Dense\n",
        "\n",
        "# Define the input layer with shape (2,)\n",
        "input_layer = Input(shape=(2,))\n",
        "\n",
        "# Define the layers of the model\n",
        "hidden_layer1 = Dense(units=90, activation='relu')(input_layer) # First hidden layer with 30 units and ReLU activation\n",
        "hidden_layer2 = Dense(units=15, activation='relu')(hidden_layer1) # Second hidden layer with 30 units and ReLU activation\n",
        "output_layer = Dense(units=3, activation='softmax')(hidden_layer2) # Output layer with 5 units and softmax activation\n",
        "\n",
        "# Define the model\n",
        "custom_model = Model(inputs=input_layer, outputs=output_layer) # Creating a model with specified input and output layers"
      ]
    },
    {
      "cell_type": "code",
      "execution_count": null,
      "id": "8672eed1-2e26-41a9-a8d9-5aa11fde2ff4",
      "metadata": {
        "id": "8672eed1-2e26-41a9-a8d9-5aa11fde2ff4"
      },
      "outputs": [],
      "source": [
        "# Compile the model\n",
        "custom_model.compile(optimizer='rmsprop',\n",
        "                     loss='categorical_crossentropy',\n",
        "                     metrics=['accuracy'])"
      ]
    },
    {
      "cell_type": "code",
      "execution_count": null,
      "id": "b1291124-2068-4e32-94f3-4e34e3e9ee2b",
      "metadata": {
        "colab": {
          "base_uri": "https://localhost:8080/"
        },
        "id": "b1291124-2068-4e32-94f3-4e34e3e9ee2b",
        "outputId": "8d221f7f-3ed5-4882-d489-e3f95b2d63bf"
      },
      "outputs": [
        {
          "output_type": "stream",
          "name": "stdout",
          "text": [
            "Epoch 1/5\n",
            "\u001b[1m3/3\u001b[0m \u001b[32m━━━━━━━━━━━━━━━━━━━━\u001b[0m\u001b[37m\u001b[0m \u001b[1m1s\u001b[0m 18ms/step - accuracy: 0.4000 - loss: 1.8674\n",
            "Epoch 2/5\n",
            "\u001b[1m3/3\u001b[0m \u001b[32m━━━━━━━━━━━━━━━━━━━━\u001b[0m\u001b[37m\u001b[0m \u001b[1m0s\u001b[0m 17ms/step - accuracy: 0.6056 - loss: 0.9081 \n",
            "Epoch 3/5\n",
            "\u001b[1m3/3\u001b[0m \u001b[32m━━━━━━━━━━━━━━━━━━━━\u001b[0m\u001b[37m\u001b[0m \u001b[1m0s\u001b[0m 17ms/step - accuracy: 0.5806 - loss: 0.8960\n",
            "Epoch 4/5\n",
            "\u001b[1m3/3\u001b[0m \u001b[32m━━━━━━━━━━━━━━━━━━━━\u001b[0m\u001b[37m\u001b[0m \u001b[1m0s\u001b[0m 19ms/step - accuracy: 0.6014 - loss: 0.9585\n",
            "Epoch 5/5\n",
            "\u001b[1m3/3\u001b[0m \u001b[32m━━━━━━━━━━━━━━━━━━━━\u001b[0m\u001b[37m\u001b[0m \u001b[1m0s\u001b[0m 17ms/step - accuracy: 0.6167 - loss: 0.8455\n"
          ]
        },
        {
          "output_type": "execute_result",
          "data": {
            "text/plain": [
              "<keras.src.callbacks.history.History at 0x7d40fca02410>"
            ]
          },
          "metadata": {},
          "execution_count": 231
        }
      ],
      "source": [
        "# Train the model with the reshaped input data\n",
        "custom_model.fit(X_train, y_train, epochs=5, batch_size=30)"
      ]
    },
    {
      "cell_type": "code",
      "execution_count": null,
      "id": "c83f0faf-944f-4f78-8c95-abce961a6226",
      "metadata": {
        "colab": {
          "base_uri": "https://localhost:8080/"
        },
        "id": "c83f0faf-944f-4f78-8c95-abce961a6226",
        "outputId": "da02dfd8-6808-44de-f3cf-e29f90b39b35"
      },
      "outputs": [
        {
          "output_type": "stream",
          "name": "stdout",
          "text": [
            "\u001b[1m1/1\u001b[0m \u001b[32m━━━━━━━━━━━━━━━━━━━━\u001b[0m\u001b[37m\u001b[0m \u001b[1m0s\u001b[0m 103ms/step\n"
          ]
        }
      ],
      "source": [
        "# Make predictions on the testing set\n",
        "y_pred = custom_model.predict(X_test)\n",
        "\n",
        "# Convert one-hot encoded predictions to class labels (optional)\n",
        "y_pred_classes = np.argmax(y_pred, axis=1)"
      ]
    },
    {
      "cell_type": "code",
      "execution_count": null,
      "id": "6f49ed2f-750e-4d2e-a661-a85cc746f7f7",
      "metadata": {
        "colab": {
          "base_uri": "https://localhost:8080/"
        },
        "id": "6f49ed2f-750e-4d2e-a661-a85cc746f7f7",
        "outputId": "55349246-07f8-459c-f5de-0fd14993be18"
      },
      "outputs": [
        {
          "output_type": "stream",
          "name": "stdout",
          "text": [
            "\u001b[1m1/1\u001b[0m \u001b[32m━━━━━━━━━━━━━━━━━━━━\u001b[0m\u001b[37m\u001b[0m \u001b[1m0s\u001b[0m 239ms/step - accuracy: 0.2222 - loss: 1.0514\n",
            "Test accuracy: 0.2222222238779068\n"
          ]
        }
      ],
      "source": [
        "# Evaluate the model\n",
        "test_loss, test_acc = custom_model.evaluate(X_test, y_test)\n",
        "print('Test accuracy:', test_acc)"
      ]
    },
    {
      "cell_type": "markdown",
      "id": "fdc259f1-a8a0-478b-bd9b-d12c06984bf7",
      "metadata": {
        "id": "fdc259f1-a8a0-478b-bd9b-d12c06984bf7"
      },
      "source": [
        "\n",
        "Now we get negative result, model accuracy is reduced so we keep this \"hidden_layer2 = Dense(units=30,\" as same.\n",
        "\n",
        "Now we change the batch size as \"15\" and observe the changes\n"
      ]
    },
    {
      "cell_type": "code",
      "execution_count": null,
      "id": "a3d4f7d7-724f-40db-beb9-59591d5eae8a",
      "metadata": {
        "id": "a3d4f7d7-724f-40db-beb9-59591d5eae8a"
      },
      "outputs": [],
      "source": [
        "import pandas as pd\n",
        "import numpy as np\n",
        "from sklearn.model_selection import train_test_split\n",
        "from keras.models import Sequential\n",
        "from keras.layers import Dense\n",
        "from keras.utils import to_categorical\n",
        "from sklearn.preprocessing import OneHotEncoder\n",
        "from sklearn.preprocessing import LabelEncoder"
      ]
    },
    {
      "cell_type": "code",
      "execution_count": null,
      "id": "936bb5eb-686f-476c-9ffd-0dc8193aa200",
      "metadata": {
        "colab": {
          "base_uri": "https://localhost:8080/",
          "height": 74
        },
        "id": "936bb5eb-686f-476c-9ffd-0dc8193aa200",
        "outputId": "f581501a-b9f0-4232-b41b-b5d24d51c7bf"
      },
      "outputs": [
        {
          "output_type": "display_data",
          "data": {
            "text/plain": [
              "<IPython.core.display.HTML object>"
            ],
            "text/html": [
              "\n",
              "     <input type=\"file\" id=\"files-395c4506-8ced-47ab-be2a-1ab6c038aab5\" name=\"files[]\" multiple disabled\n",
              "        style=\"border:none\" />\n",
              "     <output id=\"result-395c4506-8ced-47ab-be2a-1ab6c038aab5\">\n",
              "      Upload widget is only available when the cell has been executed in the\n",
              "      current browser session. Please rerun this cell to enable.\n",
              "      </output>\n",
              "      <script>// Copyright 2017 Google LLC\n",
              "//\n",
              "// Licensed under the Apache License, Version 2.0 (the \"License\");\n",
              "// you may not use this file except in compliance with the License.\n",
              "// You may obtain a copy of the License at\n",
              "//\n",
              "//      http://www.apache.org/licenses/LICENSE-2.0\n",
              "//\n",
              "// Unless required by applicable law or agreed to in writing, software\n",
              "// distributed under the License is distributed on an \"AS IS\" BASIS,\n",
              "// WITHOUT WARRANTIES OR CONDITIONS OF ANY KIND, either express or implied.\n",
              "// See the License for the specific language governing permissions and\n",
              "// limitations under the License.\n",
              "\n",
              "/**\n",
              " * @fileoverview Helpers for google.colab Python module.\n",
              " */\n",
              "(function(scope) {\n",
              "function span(text, styleAttributes = {}) {\n",
              "  const element = document.createElement('span');\n",
              "  element.textContent = text;\n",
              "  for (const key of Object.keys(styleAttributes)) {\n",
              "    element.style[key] = styleAttributes[key];\n",
              "  }\n",
              "  return element;\n",
              "}\n",
              "\n",
              "// Max number of bytes which will be uploaded at a time.\n",
              "const MAX_PAYLOAD_SIZE = 100 * 1024;\n",
              "\n",
              "function _uploadFiles(inputId, outputId) {\n",
              "  const steps = uploadFilesStep(inputId, outputId);\n",
              "  const outputElement = document.getElementById(outputId);\n",
              "  // Cache steps on the outputElement to make it available for the next call\n",
              "  // to uploadFilesContinue from Python.\n",
              "  outputElement.steps = steps;\n",
              "\n",
              "  return _uploadFilesContinue(outputId);\n",
              "}\n",
              "\n",
              "// This is roughly an async generator (not supported in the browser yet),\n",
              "// where there are multiple asynchronous steps and the Python side is going\n",
              "// to poll for completion of each step.\n",
              "// This uses a Promise to block the python side on completion of each step,\n",
              "// then passes the result of the previous step as the input to the next step.\n",
              "function _uploadFilesContinue(outputId) {\n",
              "  const outputElement = document.getElementById(outputId);\n",
              "  const steps = outputElement.steps;\n",
              "\n",
              "  const next = steps.next(outputElement.lastPromiseValue);\n",
              "  return Promise.resolve(next.value.promise).then((value) => {\n",
              "    // Cache the last promise value to make it available to the next\n",
              "    // step of the generator.\n",
              "    outputElement.lastPromiseValue = value;\n",
              "    return next.value.response;\n",
              "  });\n",
              "}\n",
              "\n",
              "/**\n",
              " * Generator function which is called between each async step of the upload\n",
              " * process.\n",
              " * @param {string} inputId Element ID of the input file picker element.\n",
              " * @param {string} outputId Element ID of the output display.\n",
              " * @return {!Iterable<!Object>} Iterable of next steps.\n",
              " */\n",
              "function* uploadFilesStep(inputId, outputId) {\n",
              "  const inputElement = document.getElementById(inputId);\n",
              "  inputElement.disabled = false;\n",
              "\n",
              "  const outputElement = document.getElementById(outputId);\n",
              "  outputElement.innerHTML = '';\n",
              "\n",
              "  const pickedPromise = new Promise((resolve) => {\n",
              "    inputElement.addEventListener('change', (e) => {\n",
              "      resolve(e.target.files);\n",
              "    });\n",
              "  });\n",
              "\n",
              "  const cancel = document.createElement('button');\n",
              "  inputElement.parentElement.appendChild(cancel);\n",
              "  cancel.textContent = 'Cancel upload';\n",
              "  const cancelPromise = new Promise((resolve) => {\n",
              "    cancel.onclick = () => {\n",
              "      resolve(null);\n",
              "    };\n",
              "  });\n",
              "\n",
              "  // Wait for the user to pick the files.\n",
              "  const files = yield {\n",
              "    promise: Promise.race([pickedPromise, cancelPromise]),\n",
              "    response: {\n",
              "      action: 'starting',\n",
              "    }\n",
              "  };\n",
              "\n",
              "  cancel.remove();\n",
              "\n",
              "  // Disable the input element since further picks are not allowed.\n",
              "  inputElement.disabled = true;\n",
              "\n",
              "  if (!files) {\n",
              "    return {\n",
              "      response: {\n",
              "        action: 'complete',\n",
              "      }\n",
              "    };\n",
              "  }\n",
              "\n",
              "  for (const file of files) {\n",
              "    const li = document.createElement('li');\n",
              "    li.append(span(file.name, {fontWeight: 'bold'}));\n",
              "    li.append(span(\n",
              "        `(${file.type || 'n/a'}) - ${file.size} bytes, ` +\n",
              "        `last modified: ${\n",
              "            file.lastModifiedDate ? file.lastModifiedDate.toLocaleDateString() :\n",
              "                                    'n/a'} - `));\n",
              "    const percent = span('0% done');\n",
              "    li.appendChild(percent);\n",
              "\n",
              "    outputElement.appendChild(li);\n",
              "\n",
              "    const fileDataPromise = new Promise((resolve) => {\n",
              "      const reader = new FileReader();\n",
              "      reader.onload = (e) => {\n",
              "        resolve(e.target.result);\n",
              "      };\n",
              "      reader.readAsArrayBuffer(file);\n",
              "    });\n",
              "    // Wait for the data to be ready.\n",
              "    let fileData = yield {\n",
              "      promise: fileDataPromise,\n",
              "      response: {\n",
              "        action: 'continue',\n",
              "      }\n",
              "    };\n",
              "\n",
              "    // Use a chunked sending to avoid message size limits. See b/62115660.\n",
              "    let position = 0;\n",
              "    do {\n",
              "      const length = Math.min(fileData.byteLength - position, MAX_PAYLOAD_SIZE);\n",
              "      const chunk = new Uint8Array(fileData, position, length);\n",
              "      position += length;\n",
              "\n",
              "      const base64 = btoa(String.fromCharCode.apply(null, chunk));\n",
              "      yield {\n",
              "        response: {\n",
              "          action: 'append',\n",
              "          file: file.name,\n",
              "          data: base64,\n",
              "        },\n",
              "      };\n",
              "\n",
              "      let percentDone = fileData.byteLength === 0 ?\n",
              "          100 :\n",
              "          Math.round((position / fileData.byteLength) * 100);\n",
              "      percent.textContent = `${percentDone}% done`;\n",
              "\n",
              "    } while (position < fileData.byteLength);\n",
              "  }\n",
              "\n",
              "  // All done.\n",
              "  yield {\n",
              "    response: {\n",
              "      action: 'complete',\n",
              "    }\n",
              "  };\n",
              "}\n",
              "\n",
              "scope.google = scope.google || {};\n",
              "scope.google.colab = scope.google.colab || {};\n",
              "scope.google.colab._files = {\n",
              "  _uploadFiles,\n",
              "  _uploadFilesContinue,\n",
              "};\n",
              "})(self);\n",
              "</script> "
            ]
          },
          "metadata": {}
        },
        {
          "output_type": "stream",
          "name": "stdout",
          "text": [
            "Saving Madhuca-longifolia.jpg to Madhuca-longifolia (28).jpg\n"
          ]
        }
      ],
      "source": [
        "from google.colab import files\n",
        "uploaded = files.upload()\n",
        "import pandas as pd\n",
        "\n",
        "# Load data from CSV file\n",
        "# file_path = r'C:\\Users\\spthe\\OneDrive\\Desktop\\TreeDataSet.csv'  # Update with the correct file path\n",
        "data = pd.read_csv('TreeDataSet.csv')"
      ]
    },
    {
      "cell_type": "code",
      "source": [],
      "metadata": {
        "id": "i8S3kJgwEKbQ"
      },
      "id": "i8S3kJgwEKbQ",
      "execution_count": null,
      "outputs": []
    },
    {
      "cell_type": "code",
      "execution_count": null,
      "id": "5054a5a1-bcb3-49ee-9fe8-4f303f19f2c9",
      "metadata": {
        "id": "5054a5a1-bcb3-49ee-9fe8-4f303f19f2c9"
      },
      "outputs": [],
      "source": [
        "# Adjust column names\n",
        "data.columns = ['TreeSpecies', 'Ratio', 'Angle']"
      ]
    },
    {
      "cell_type": "code",
      "execution_count": null,
      "id": "88b69181-71a3-4c83-a303-980e5391d97f",
      "metadata": {
        "colab": {
          "base_uri": "https://localhost:8080/"
        },
        "id": "88b69181-71a3-4c83-a303-980e5391d97f",
        "outputId": "bf968ef8-570e-40ec-b813-3d2db17ee175"
      },
      "outputs": [
        {
          "output_type": "stream",
          "name": "stdout",
          "text": [
            "Data types in features (X):\n",
            "Ratio    float64\n",
            "Angle      int64\n",
            "dtype: object\n",
            "Data type in labels (y):\n",
            "object\n"
          ]
        }
      ],
      "source": [
        "# Check for data types in features and labels (for debugging)\n",
        "print(\"Data types in features (X):\")\n",
        "print(data[[ 'Ratio', 'Angle']].dtypes)\n",
        "print(\"Data type in labels (y):\")\n",
        "print(data['TreeSpecies'].dtype)"
      ]
    },
    {
      "cell_type": "code",
      "execution_count": null,
      "id": "f761e278-1e96-4a1d-b2bf-587b81248054",
      "metadata": {
        "id": "f761e278-1e96-4a1d-b2bf-587b81248054"
      },
      "outputs": [],
      "source": [
        "# Prepare features and labels\n",
        "# Select features excluding column names\n",
        "X = data[['Ratio', 'Angle']]"
      ]
    },
    {
      "cell_type": "code",
      "execution_count": null,
      "id": "cc3e3805-2b90-4b6c-a8fd-402905fdd0f4",
      "metadata": {
        "id": "cc3e3805-2b90-4b6c-a8fd-402905fdd0f4"
      },
      "outputs": [],
      "source": [
        "# Attempt to convert features to numerics (assuming numerical data)\n",
        "X = X.apply(pd.to_numeric, errors='coerce').values"
      ]
    },
    {
      "cell_type": "code",
      "execution_count": null,
      "id": "9a318255-f81b-4608-9d97-a1a435dbdce8",
      "metadata": {
        "id": "9a318255-f81b-4608-9d97-a1a435dbdce8"
      },
      "outputs": [],
      "source": [
        "# Encode labels into integers (assuming categorical labels)\n",
        "label_encoder = LabelEncoder()\n",
        "y = label_encoder.fit_transform(data['TreeSpecies'].values)"
      ]
    },
    {
      "cell_type": "code",
      "execution_count": null,
      "id": "eab20dc6-5aae-4367-8d55-a7729dbd8143",
      "metadata": {
        "colab": {
          "base_uri": "https://localhost:8080/"
        },
        "id": "eab20dc6-5aae-4367-8d55-a7729dbd8143",
        "outputId": "6cc0a212-c0fc-4acc-b805-3926e2f76928"
      },
      "outputs": [
        {
          "output_type": "stream",
          "name": "stdout",
          "text": [
            "Number of unique classes after label encoding: 3\n"
          ]
        }
      ],
      "source": [
        "# Check the number of unique classes after label encoding (for debugging)\n",
        "print(\"Number of unique classes after label encoding:\", len(label_encoder.classes_))"
      ]
    },
    {
      "cell_type": "code",
      "execution_count": null,
      "id": "f6894944-48e8-4a84-bdbd-6f75d182748a",
      "metadata": {
        "id": "f6894944-48e8-4a84-bdbd-6f75d182748a"
      },
      "outputs": [],
      "source": [
        "# Convert labels to categorical (one-hot encoding)\n",
        "encoder = OneHotEncoder(sparse_output=False)\n",
        "y = encoder.fit_transform(y.reshape(-1, 1))  # Reshape for compatibility"
      ]
    },
    {
      "cell_type": "code",
      "execution_count": null,
      "id": "1b6b1f82-a960-400a-8393-e6472fa5f698",
      "metadata": {
        "colab": {
          "base_uri": "https://localhost:8080/"
        },
        "id": "1b6b1f82-a960-400a-8393-e6472fa5f698",
        "outputId": "4ee8518a-bde2-46d0-d5a7-c9360490b652"
      },
      "outputs": [
        {
          "output_type": "stream",
          "name": "stdout",
          "text": [
            "Shape of encoded labels (y): (90, 3)\n"
          ]
        }
      ],
      "source": [
        "# Check the shape of the encoded labels (for debugging)\n",
        "print(\"Shape of encoded labels (y):\", y.shape)"
      ]
    },
    {
      "cell_type": "code",
      "execution_count": null,
      "id": "bf5c3ecd-f022-4d6d-bcb5-0cc22bb24305",
      "metadata": {
        "id": "bf5c3ecd-f022-4d6d-bcb5-0cc22bb24305"
      },
      "outputs": [],
      "source": [
        "# Split data into training and testing sets\n",
        "X_train, X_test, y_train, y_test = train_test_split(X, y, test_size=0.2, random_state=3)"
      ]
    },
    {
      "cell_type": "code",
      "execution_count": null,
      "id": "011fefa0-d0b3-44bb-af6f-13cc7f59b4dc",
      "metadata": {
        "colab": {
          "base_uri": "https://localhost:8080/"
        },
        "id": "011fefa0-d0b3-44bb-af6f-13cc7f59b4dc",
        "outputId": "3c9bf8bd-9cc7-4c65-ccdb-36d56892b641"
      },
      "outputs": [
        {
          "output_type": "stream",
          "name": "stdout",
          "text": [
            "Shape of training features (X_train): (72, 2)\n"
          ]
        }
      ],
      "source": [
        "# Print the shape of training features (for debugging)\n",
        "print(\"Shape of training features (X_train):\", X_train.shape)"
      ]
    },
    {
      "cell_type": "code",
      "execution_count": null,
      "id": "eb4c4032-1489-48bb-ac63-d4c7bce8ee3c",
      "metadata": {
        "id": "eb4c4032-1489-48bb-ac63-d4c7bce8ee3c"
      },
      "outputs": [],
      "source": [
        "from keras.models import Model\n",
        "from keras.layers import Input, Dense\n",
        "\n",
        "# Define the input layer with shape (2,)\n",
        "input_layer = Input(shape=(2,))\n",
        "\n",
        "# Define the layers of the model\n",
        "hidden_layer1 = Dense(units=90, activation='relu')(input_layer) # First hidden layer with 30 units and ReLU activation\n",
        "hidden_layer2 = Dense(units=30, activation='relu')(hidden_layer1) # Second hidden layer with 30 units and ReLU activation\n",
        "output_layer = Dense(units=3, activation='softmax')(hidden_layer2) # Output layer with 5 units and softmax activation\n",
        "\n",
        "# Define the model\n",
        "custom_model = Model(inputs=input_layer, outputs=output_layer) # Creating a model with specified input and output layers"
      ]
    },
    {
      "cell_type": "code",
      "execution_count": null,
      "id": "f07f5b15-e32a-4b65-92fb-1d73aee8c331",
      "metadata": {
        "id": "f07f5b15-e32a-4b65-92fb-1d73aee8c331"
      },
      "outputs": [],
      "source": [
        "# Compile the model\n",
        "custom_model.compile(optimizer='rmsprop',\n",
        "                     loss='categorical_crossentropy',\n",
        "                     metrics=['accuracy'])"
      ]
    },
    {
      "cell_type": "code",
      "execution_count": null,
      "id": "822f4fa5-fbf6-45f0-8458-5baa800ff8e0",
      "metadata": {
        "colab": {
          "base_uri": "https://localhost:8080/"
        },
        "id": "822f4fa5-fbf6-45f0-8458-5baa800ff8e0",
        "outputId": "060b2b55-47ae-4d60-9c2e-4295198b1ac8"
      },
      "outputs": [
        {
          "output_type": "stream",
          "name": "stdout",
          "text": [
            "Epoch 1/5\n",
            "\u001b[1m5/5\u001b[0m \u001b[32m━━━━━━━━━━━━━━━━━━━━\u001b[0m\u001b[37m\u001b[0m \u001b[1m1s\u001b[0m 12ms/step - accuracy: 0.2731 - loss: 2.1732\n",
            "Epoch 2/5\n",
            "\u001b[1m5/5\u001b[0m \u001b[32m━━━━━━━━━━━━━━━━━━━━\u001b[0m\u001b[37m\u001b[0m \u001b[1m0s\u001b[0m 11ms/step - accuracy: 0.4796 - loss: 1.1363\n",
            "Epoch 3/5\n",
            "\u001b[1m5/5\u001b[0m \u001b[32m━━━━━━━━━━━━━━━━━━━━\u001b[0m\u001b[37m\u001b[0m \u001b[1m0s\u001b[0m 10ms/step - accuracy: 0.3602 - loss: 1.0698\n",
            "Epoch 4/5\n",
            "\u001b[1m5/5\u001b[0m \u001b[32m━━━━━━━━━━━━━━━━━━━━\u001b[0m\u001b[37m\u001b[0m \u001b[1m0s\u001b[0m 11ms/step - accuracy: 0.4185 - loss: 1.0687\n",
            "Epoch 5/5\n",
            "\u001b[1m5/5\u001b[0m \u001b[32m━━━━━━━━━━━━━━━━━━━━\u001b[0m\u001b[37m\u001b[0m \u001b[1m0s\u001b[0m 10ms/step - accuracy: 0.4278 - loss: 0.9482\n"
          ]
        },
        {
          "output_type": "execute_result",
          "data": {
            "text/plain": [
              "<keras.src.callbacks.history.History at 0x7d40e8390ad0>"
            ]
          },
          "metadata": {},
          "execution_count": 248
        }
      ],
      "source": [
        "# Train the model with the reshaped input data\n",
        "custom_model.fit(X_train, y_train, epochs=5, batch_size=15)"
      ]
    },
    {
      "cell_type": "code",
      "execution_count": null,
      "id": "51eb54d6-b149-4432-abc5-60623fac5b80",
      "metadata": {
        "colab": {
          "base_uri": "https://localhost:8080/"
        },
        "id": "51eb54d6-b149-4432-abc5-60623fac5b80",
        "outputId": "24368cc7-19e9-4962-cb2e-301946258479"
      },
      "outputs": [
        {
          "output_type": "stream",
          "name": "stdout",
          "text": [
            "\u001b[1m1/1\u001b[0m \u001b[32m━━━━━━━━━━━━━━━━━━━━\u001b[0m\u001b[37m\u001b[0m \u001b[1m0s\u001b[0m 88ms/step\n"
          ]
        }
      ],
      "source": [
        "# Make predictions on the testing set\n",
        "y_pred = custom_model.predict(X_test)\n",
        "\n",
        "# Convert one-hot encoded predictions to class labels (optional)\n",
        "y_pred_classes = np.argmax(y_pred, axis=1)"
      ]
    },
    {
      "cell_type": "code",
      "execution_count": null,
      "id": "93283ad8-51e6-42f5-8a74-3ef25fa6a001",
      "metadata": {
        "colab": {
          "base_uri": "https://localhost:8080/"
        },
        "id": "93283ad8-51e6-42f5-8a74-3ef25fa6a001",
        "outputId": "8360233a-7594-4006-c5e9-dc31cdef7cb4"
      },
      "outputs": [
        {
          "output_type": "stream",
          "name": "stdout",
          "text": [
            "\u001b[1m1/1\u001b[0m \u001b[32m━━━━━━━━━━━━━━━━━━━━\u001b[0m\u001b[37m\u001b[0m \u001b[1m0s\u001b[0m 277ms/step - accuracy: 0.5000 - loss: 1.2916\n",
            "Test accuracy: 0.5\n"
          ]
        }
      ],
      "source": [
        "# Evaluate the model\n",
        "test_loss, test_acc = custom_model.evaluate(X_test, y_test)\n",
        "print('Test accuracy:', test_acc)"
      ]
    },
    {
      "cell_type": "markdown",
      "id": "a4bb8868-7659-49f7-b5dc-981c430d01ef",
      "metadata": {
        "id": "a4bb8868-7659-49f7-b5dc-981c430d01ef"
      },
      "source": [
        "\n",
        "Now we get the positive result model accuracy was increased but not look like same.\n",
        "\n",
        "Now we increase the batch size as \"60\" and observe the changes\n"
      ]
    },
    {
      "cell_type": "code",
      "execution_count": null,
      "id": "96815366-51e7-48da-9c9a-9c3690246e4b",
      "metadata": {
        "colab": {
          "base_uri": "https://localhost:8080/",
          "height": 74
        },
        "id": "96815366-51e7-48da-9c9a-9c3690246e4b",
        "outputId": "3596f17c-791e-4a92-8fca-550bc3b5dec5"
      },
      "outputs": [
        {
          "output_type": "display_data",
          "data": {
            "text/plain": [
              "<IPython.core.display.HTML object>"
            ],
            "text/html": [
              "\n",
              "     <input type=\"file\" id=\"files-ad85b828-633f-4159-962c-a18074cfc6c1\" name=\"files[]\" multiple disabled\n",
              "        style=\"border:none\" />\n",
              "     <output id=\"result-ad85b828-633f-4159-962c-a18074cfc6c1\">\n",
              "      Upload widget is only available when the cell has been executed in the\n",
              "      current browser session. Please rerun this cell to enable.\n",
              "      </output>\n",
              "      <script>// Copyright 2017 Google LLC\n",
              "//\n",
              "// Licensed under the Apache License, Version 2.0 (the \"License\");\n",
              "// you may not use this file except in compliance with the License.\n",
              "// You may obtain a copy of the License at\n",
              "//\n",
              "//      http://www.apache.org/licenses/LICENSE-2.0\n",
              "//\n",
              "// Unless required by applicable law or agreed to in writing, software\n",
              "// distributed under the License is distributed on an \"AS IS\" BASIS,\n",
              "// WITHOUT WARRANTIES OR CONDITIONS OF ANY KIND, either express or implied.\n",
              "// See the License for the specific language governing permissions and\n",
              "// limitations under the License.\n",
              "\n",
              "/**\n",
              " * @fileoverview Helpers for google.colab Python module.\n",
              " */\n",
              "(function(scope) {\n",
              "function span(text, styleAttributes = {}) {\n",
              "  const element = document.createElement('span');\n",
              "  element.textContent = text;\n",
              "  for (const key of Object.keys(styleAttributes)) {\n",
              "    element.style[key] = styleAttributes[key];\n",
              "  }\n",
              "  return element;\n",
              "}\n",
              "\n",
              "// Max number of bytes which will be uploaded at a time.\n",
              "const MAX_PAYLOAD_SIZE = 100 * 1024;\n",
              "\n",
              "function _uploadFiles(inputId, outputId) {\n",
              "  const steps = uploadFilesStep(inputId, outputId);\n",
              "  const outputElement = document.getElementById(outputId);\n",
              "  // Cache steps on the outputElement to make it available for the next call\n",
              "  // to uploadFilesContinue from Python.\n",
              "  outputElement.steps = steps;\n",
              "\n",
              "  return _uploadFilesContinue(outputId);\n",
              "}\n",
              "\n",
              "// This is roughly an async generator (not supported in the browser yet),\n",
              "// where there are multiple asynchronous steps and the Python side is going\n",
              "// to poll for completion of each step.\n",
              "// This uses a Promise to block the python side on completion of each step,\n",
              "// then passes the result of the previous step as the input to the next step.\n",
              "function _uploadFilesContinue(outputId) {\n",
              "  const outputElement = document.getElementById(outputId);\n",
              "  const steps = outputElement.steps;\n",
              "\n",
              "  const next = steps.next(outputElement.lastPromiseValue);\n",
              "  return Promise.resolve(next.value.promise).then((value) => {\n",
              "    // Cache the last promise value to make it available to the next\n",
              "    // step of the generator.\n",
              "    outputElement.lastPromiseValue = value;\n",
              "    return next.value.response;\n",
              "  });\n",
              "}\n",
              "\n",
              "/**\n",
              " * Generator function which is called between each async step of the upload\n",
              " * process.\n",
              " * @param {string} inputId Element ID of the input file picker element.\n",
              " * @param {string} outputId Element ID of the output display.\n",
              " * @return {!Iterable<!Object>} Iterable of next steps.\n",
              " */\n",
              "function* uploadFilesStep(inputId, outputId) {\n",
              "  const inputElement = document.getElementById(inputId);\n",
              "  inputElement.disabled = false;\n",
              "\n",
              "  const outputElement = document.getElementById(outputId);\n",
              "  outputElement.innerHTML = '';\n",
              "\n",
              "  const pickedPromise = new Promise((resolve) => {\n",
              "    inputElement.addEventListener('change', (e) => {\n",
              "      resolve(e.target.files);\n",
              "    });\n",
              "  });\n",
              "\n",
              "  const cancel = document.createElement('button');\n",
              "  inputElement.parentElement.appendChild(cancel);\n",
              "  cancel.textContent = 'Cancel upload';\n",
              "  const cancelPromise = new Promise((resolve) => {\n",
              "    cancel.onclick = () => {\n",
              "      resolve(null);\n",
              "    };\n",
              "  });\n",
              "\n",
              "  // Wait for the user to pick the files.\n",
              "  const files = yield {\n",
              "    promise: Promise.race([pickedPromise, cancelPromise]),\n",
              "    response: {\n",
              "      action: 'starting',\n",
              "    }\n",
              "  };\n",
              "\n",
              "  cancel.remove();\n",
              "\n",
              "  // Disable the input element since further picks are not allowed.\n",
              "  inputElement.disabled = true;\n",
              "\n",
              "  if (!files) {\n",
              "    return {\n",
              "      response: {\n",
              "        action: 'complete',\n",
              "      }\n",
              "    };\n",
              "  }\n",
              "\n",
              "  for (const file of files) {\n",
              "    const li = document.createElement('li');\n",
              "    li.append(span(file.name, {fontWeight: 'bold'}));\n",
              "    li.append(span(\n",
              "        `(${file.type || 'n/a'}) - ${file.size} bytes, ` +\n",
              "        `last modified: ${\n",
              "            file.lastModifiedDate ? file.lastModifiedDate.toLocaleDateString() :\n",
              "                                    'n/a'} - `));\n",
              "    const percent = span('0% done');\n",
              "    li.appendChild(percent);\n",
              "\n",
              "    outputElement.appendChild(li);\n",
              "\n",
              "    const fileDataPromise = new Promise((resolve) => {\n",
              "      const reader = new FileReader();\n",
              "      reader.onload = (e) => {\n",
              "        resolve(e.target.result);\n",
              "      };\n",
              "      reader.readAsArrayBuffer(file);\n",
              "    });\n",
              "    // Wait for the data to be ready.\n",
              "    let fileData = yield {\n",
              "      promise: fileDataPromise,\n",
              "      response: {\n",
              "        action: 'continue',\n",
              "      }\n",
              "    };\n",
              "\n",
              "    // Use a chunked sending to avoid message size limits. See b/62115660.\n",
              "    let position = 0;\n",
              "    do {\n",
              "      const length = Math.min(fileData.byteLength - position, MAX_PAYLOAD_SIZE);\n",
              "      const chunk = new Uint8Array(fileData, position, length);\n",
              "      position += length;\n",
              "\n",
              "      const base64 = btoa(String.fromCharCode.apply(null, chunk));\n",
              "      yield {\n",
              "        response: {\n",
              "          action: 'append',\n",
              "          file: file.name,\n",
              "          data: base64,\n",
              "        },\n",
              "      };\n",
              "\n",
              "      let percentDone = fileData.byteLength === 0 ?\n",
              "          100 :\n",
              "          Math.round((position / fileData.byteLength) * 100);\n",
              "      percent.textContent = `${percentDone}% done`;\n",
              "\n",
              "    } while (position < fileData.byteLength);\n",
              "  }\n",
              "\n",
              "  // All done.\n",
              "  yield {\n",
              "    response: {\n",
              "      action: 'complete',\n",
              "    }\n",
              "  };\n",
              "}\n",
              "\n",
              "scope.google = scope.google || {};\n",
              "scope.google.colab = scope.google.colab || {};\n",
              "scope.google.colab._files = {\n",
              "  _uploadFiles,\n",
              "  _uploadFilesContinue,\n",
              "};\n",
              "})(self);\n",
              "</script> "
            ]
          },
          "metadata": {}
        },
        {
          "output_type": "stream",
          "name": "stdout",
          "text": [
            "Saving R.jpg to R (7).jpg\n"
          ]
        }
      ],
      "source": [
        "from google.colab import files\n",
        "uploaded = files.upload()\n",
        "import pandas as pd\n",
        "\n",
        "# Load data from CSV file\n",
        "# file_path = r'C:\\Users\\spthe\\OneDrive\\Desktop\\TreeDataSet.csv'  # Update with the correct file path\n",
        "data = pd.read_csv('TreeDataSet.csv')"
      ]
    },
    {
      "cell_type": "code",
      "execution_count": null,
      "id": "9fba0d6d-b60a-4347-a1c1-dbfb156bbe2a",
      "metadata": {
        "colab": {
          "base_uri": "https://localhost:8080/",
          "height": 206
        },
        "id": "9fba0d6d-b60a-4347-a1c1-dbfb156bbe2a",
        "outputId": "35999fef-ebb3-4dc6-8b0c-017088ffe872"
      },
      "outputs": [
        {
          "output_type": "execute_result",
          "data": {
            "text/plain": [
              "          TreeSpecies  Ratio  Angle\n",
              "0  Madhuca Longifolia   3.32     70\n",
              "1  Madhuca Longifolia   3.18     75\n",
              "2  Madhuca Longifolia   3.33     80\n",
              "3  Madhuca Longifolia   3.40     65\n",
              "4  Madhuca Longifolia   3.39     65"
            ],
            "text/html": [
              "\n",
              "  <div id=\"df-4a8ce8cb-81c0-495e-b5ca-29e47c8c722b\" class=\"colab-df-container\">\n",
              "    <div>\n",
              "<style scoped>\n",
              "    .dataframe tbody tr th:only-of-type {\n",
              "        vertical-align: middle;\n",
              "    }\n",
              "\n",
              "    .dataframe tbody tr th {\n",
              "        vertical-align: top;\n",
              "    }\n",
              "\n",
              "    .dataframe thead th {\n",
              "        text-align: right;\n",
              "    }\n",
              "</style>\n",
              "<table border=\"1\" class=\"dataframe\">\n",
              "  <thead>\n",
              "    <tr style=\"text-align: right;\">\n",
              "      <th></th>\n",
              "      <th>TreeSpecies</th>\n",
              "      <th>Ratio</th>\n",
              "      <th>Angle</th>\n",
              "    </tr>\n",
              "  </thead>\n",
              "  <tbody>\n",
              "    <tr>\n",
              "      <th>0</th>\n",
              "      <td>Madhuca Longifolia</td>\n",
              "      <td>3.32</td>\n",
              "      <td>70</td>\n",
              "    </tr>\n",
              "    <tr>\n",
              "      <th>1</th>\n",
              "      <td>Madhuca Longifolia</td>\n",
              "      <td>3.18</td>\n",
              "      <td>75</td>\n",
              "    </tr>\n",
              "    <tr>\n",
              "      <th>2</th>\n",
              "      <td>Madhuca Longifolia</td>\n",
              "      <td>3.33</td>\n",
              "      <td>80</td>\n",
              "    </tr>\n",
              "    <tr>\n",
              "      <th>3</th>\n",
              "      <td>Madhuca Longifolia</td>\n",
              "      <td>3.40</td>\n",
              "      <td>65</td>\n",
              "    </tr>\n",
              "    <tr>\n",
              "      <th>4</th>\n",
              "      <td>Madhuca Longifolia</td>\n",
              "      <td>3.39</td>\n",
              "      <td>65</td>\n",
              "    </tr>\n",
              "  </tbody>\n",
              "</table>\n",
              "</div>\n",
              "    <div class=\"colab-df-buttons\">\n",
              "\n",
              "  <div class=\"colab-df-container\">\n",
              "    <button class=\"colab-df-convert\" onclick=\"convertToInteractive('df-4a8ce8cb-81c0-495e-b5ca-29e47c8c722b')\"\n",
              "            title=\"Convert this dataframe to an interactive table.\"\n",
              "            style=\"display:none;\">\n",
              "\n",
              "  <svg xmlns=\"http://www.w3.org/2000/svg\" height=\"24px\" viewBox=\"0 -960 960 960\">\n",
              "    <path d=\"M120-120v-720h720v720H120Zm60-500h600v-160H180v160Zm220 220h160v-160H400v160Zm0 220h160v-160H400v160ZM180-400h160v-160H180v160Zm440 0h160v-160H620v160ZM180-180h160v-160H180v160Zm440 0h160v-160H620v160Z\"/>\n",
              "  </svg>\n",
              "    </button>\n",
              "\n",
              "  <style>\n",
              "    .colab-df-container {\n",
              "      display:flex;\n",
              "      gap: 12px;\n",
              "    }\n",
              "\n",
              "    .colab-df-convert {\n",
              "      background-color: #E8F0FE;\n",
              "      border: none;\n",
              "      border-radius: 50%;\n",
              "      cursor: pointer;\n",
              "      display: none;\n",
              "      fill: #1967D2;\n",
              "      height: 32px;\n",
              "      padding: 0 0 0 0;\n",
              "      width: 32px;\n",
              "    }\n",
              "\n",
              "    .colab-df-convert:hover {\n",
              "      background-color: #E2EBFA;\n",
              "      box-shadow: 0px 1px 2px rgba(60, 64, 67, 0.3), 0px 1px 3px 1px rgba(60, 64, 67, 0.15);\n",
              "      fill: #174EA6;\n",
              "    }\n",
              "\n",
              "    .colab-df-buttons div {\n",
              "      margin-bottom: 4px;\n",
              "    }\n",
              "\n",
              "    [theme=dark] .colab-df-convert {\n",
              "      background-color: #3B4455;\n",
              "      fill: #D2E3FC;\n",
              "    }\n",
              "\n",
              "    [theme=dark] .colab-df-convert:hover {\n",
              "      background-color: #434B5C;\n",
              "      box-shadow: 0px 1px 3px 1px rgba(0, 0, 0, 0.15);\n",
              "      filter: drop-shadow(0px 1px 2px rgba(0, 0, 0, 0.3));\n",
              "      fill: #FFFFFF;\n",
              "    }\n",
              "  </style>\n",
              "\n",
              "    <script>\n",
              "      const buttonEl =\n",
              "        document.querySelector('#df-4a8ce8cb-81c0-495e-b5ca-29e47c8c722b button.colab-df-convert');\n",
              "      buttonEl.style.display =\n",
              "        google.colab.kernel.accessAllowed ? 'block' : 'none';\n",
              "\n",
              "      async function convertToInteractive(key) {\n",
              "        const element = document.querySelector('#df-4a8ce8cb-81c0-495e-b5ca-29e47c8c722b');\n",
              "        const dataTable =\n",
              "          await google.colab.kernel.invokeFunction('convertToInteractive',\n",
              "                                                    [key], {});\n",
              "        if (!dataTable) return;\n",
              "\n",
              "        const docLinkHtml = 'Like what you see? Visit the ' +\n",
              "          '<a target=\"_blank\" href=https://colab.research.google.com/notebooks/data_table.ipynb>data table notebook</a>'\n",
              "          + ' to learn more about interactive tables.';\n",
              "        element.innerHTML = '';\n",
              "        dataTable['output_type'] = 'display_data';\n",
              "        await google.colab.output.renderOutput(dataTable, element);\n",
              "        const docLink = document.createElement('div');\n",
              "        docLink.innerHTML = docLinkHtml;\n",
              "        element.appendChild(docLink);\n",
              "      }\n",
              "    </script>\n",
              "  </div>\n",
              "\n",
              "\n",
              "    <div id=\"df-da9f7f33-c8d3-4272-9f38-72176d20299c\">\n",
              "      <button class=\"colab-df-quickchart\" onclick=\"quickchart('df-da9f7f33-c8d3-4272-9f38-72176d20299c')\"\n",
              "                title=\"Suggest charts\"\n",
              "                style=\"display:none;\">\n",
              "\n",
              "<svg xmlns=\"http://www.w3.org/2000/svg\" height=\"24px\"viewBox=\"0 0 24 24\"\n",
              "     width=\"24px\">\n",
              "    <g>\n",
              "        <path d=\"M19 3H5c-1.1 0-2 .9-2 2v14c0 1.1.9 2 2 2h14c1.1 0 2-.9 2-2V5c0-1.1-.9-2-2-2zM9 17H7v-7h2v7zm4 0h-2V7h2v10zm4 0h-2v-4h2v4z\"/>\n",
              "    </g>\n",
              "</svg>\n",
              "      </button>\n",
              "\n",
              "<style>\n",
              "  .colab-df-quickchart {\n",
              "      --bg-color: #E8F0FE;\n",
              "      --fill-color: #1967D2;\n",
              "      --hover-bg-color: #E2EBFA;\n",
              "      --hover-fill-color: #174EA6;\n",
              "      --disabled-fill-color: #AAA;\n",
              "      --disabled-bg-color: #DDD;\n",
              "  }\n",
              "\n",
              "  [theme=dark] .colab-df-quickchart {\n",
              "      --bg-color: #3B4455;\n",
              "      --fill-color: #D2E3FC;\n",
              "      --hover-bg-color: #434B5C;\n",
              "      --hover-fill-color: #FFFFFF;\n",
              "      --disabled-bg-color: #3B4455;\n",
              "      --disabled-fill-color: #666;\n",
              "  }\n",
              "\n",
              "  .colab-df-quickchart {\n",
              "    background-color: var(--bg-color);\n",
              "    border: none;\n",
              "    border-radius: 50%;\n",
              "    cursor: pointer;\n",
              "    display: none;\n",
              "    fill: var(--fill-color);\n",
              "    height: 32px;\n",
              "    padding: 0;\n",
              "    width: 32px;\n",
              "  }\n",
              "\n",
              "  .colab-df-quickchart:hover {\n",
              "    background-color: var(--hover-bg-color);\n",
              "    box-shadow: 0 1px 2px rgba(60, 64, 67, 0.3), 0 1px 3px 1px rgba(60, 64, 67, 0.15);\n",
              "    fill: var(--button-hover-fill-color);\n",
              "  }\n",
              "\n",
              "  .colab-df-quickchart-complete:disabled,\n",
              "  .colab-df-quickchart-complete:disabled:hover {\n",
              "    background-color: var(--disabled-bg-color);\n",
              "    fill: var(--disabled-fill-color);\n",
              "    box-shadow: none;\n",
              "  }\n",
              "\n",
              "  .colab-df-spinner {\n",
              "    border: 2px solid var(--fill-color);\n",
              "    border-color: transparent;\n",
              "    border-bottom-color: var(--fill-color);\n",
              "    animation:\n",
              "      spin 1s steps(1) infinite;\n",
              "  }\n",
              "\n",
              "  @keyframes spin {\n",
              "    0% {\n",
              "      border-color: transparent;\n",
              "      border-bottom-color: var(--fill-color);\n",
              "      border-left-color: var(--fill-color);\n",
              "    }\n",
              "    20% {\n",
              "      border-color: transparent;\n",
              "      border-left-color: var(--fill-color);\n",
              "      border-top-color: var(--fill-color);\n",
              "    }\n",
              "    30% {\n",
              "      border-color: transparent;\n",
              "      border-left-color: var(--fill-color);\n",
              "      border-top-color: var(--fill-color);\n",
              "      border-right-color: var(--fill-color);\n",
              "    }\n",
              "    40% {\n",
              "      border-color: transparent;\n",
              "      border-right-color: var(--fill-color);\n",
              "      border-top-color: var(--fill-color);\n",
              "    }\n",
              "    60% {\n",
              "      border-color: transparent;\n",
              "      border-right-color: var(--fill-color);\n",
              "    }\n",
              "    80% {\n",
              "      border-color: transparent;\n",
              "      border-right-color: var(--fill-color);\n",
              "      border-bottom-color: var(--fill-color);\n",
              "    }\n",
              "    90% {\n",
              "      border-color: transparent;\n",
              "      border-bottom-color: var(--fill-color);\n",
              "    }\n",
              "  }\n",
              "</style>\n",
              "\n",
              "      <script>\n",
              "        async function quickchart(key) {\n",
              "          const quickchartButtonEl =\n",
              "            document.querySelector('#' + key + ' button');\n",
              "          quickchartButtonEl.disabled = true;  // To prevent multiple clicks.\n",
              "          quickchartButtonEl.classList.add('colab-df-spinner');\n",
              "          try {\n",
              "            const charts = await google.colab.kernel.invokeFunction(\n",
              "                'suggestCharts', [key], {});\n",
              "          } catch (error) {\n",
              "            console.error('Error during call to suggestCharts:', error);\n",
              "          }\n",
              "          quickchartButtonEl.classList.remove('colab-df-spinner');\n",
              "          quickchartButtonEl.classList.add('colab-df-quickchart-complete');\n",
              "        }\n",
              "        (() => {\n",
              "          let quickchartButtonEl =\n",
              "            document.querySelector('#df-da9f7f33-c8d3-4272-9f38-72176d20299c button');\n",
              "          quickchartButtonEl.style.display =\n",
              "            google.colab.kernel.accessAllowed ? 'block' : 'none';\n",
              "        })();\n",
              "      </script>\n",
              "    </div>\n",
              "\n",
              "    </div>\n",
              "  </div>\n"
            ],
            "application/vnd.google.colaboratory.intrinsic+json": {
              "type": "dataframe",
              "variable_name": "data",
              "summary": "{\n  \"name\": \"data\",\n  \"rows\": 90,\n  \"fields\": [\n    {\n      \"column\": \"TreeSpecies\",\n      \"properties\": {\n        \"dtype\": \"category\",\n        \"num_unique_values\": 3,\n        \"samples\": [\n          \"Madhuca Longifolia\",\n          \"Magnifira Indica\",\n          \"Terminalia Arjuna \"\n        ],\n        \"semantic_type\": \"\",\n        \"description\": \"\"\n      }\n    },\n    {\n      \"column\": \"Ratio\",\n      \"properties\": {\n        \"dtype\": \"number\",\n        \"std\": 0.45245239643105517,\n        \"min\": 2.64,\n        \"max\": 4.5,\n        \"num_unique_values\": 70,\n        \"samples\": [\n          3.21,\n          3.32,\n          3.92\n        ],\n        \"semantic_type\": \"\",\n        \"description\": \"\"\n      }\n    },\n    {\n      \"column\": \"Angle\",\n      \"properties\": {\n        \"dtype\": \"number\",\n        \"std\": 27,\n        \"min\": 24,\n        \"max\": 120,\n        \"num_unique_values\": 25,\n        \"samples\": [\n          26,\n          105,\n          70\n        ],\n        \"semantic_type\": \"\",\n        \"description\": \"\"\n      }\n    }\n  ]\n}"
            }
          },
          "metadata": {},
          "execution_count": 252
        }
      ],
      "source": [
        "import pandas as pd\n",
        "\n",
        "data = pd.read_csv('TreeDataSet.csv')\n",
        "data.head()  # optional: view the first few rows\n"
      ]
    },
    {
      "cell_type": "code",
      "execution_count": null,
      "id": "d8e97006-1a89-4733-ab09-f8e35e63e32b",
      "metadata": {
        "id": "d8e97006-1a89-4733-ab09-f8e35e63e32b"
      },
      "outputs": [],
      "source": [
        "# Adjust column names\n",
        "data.columns = ['TreeSpecies', 'Ratio', 'Angle']"
      ]
    },
    {
      "cell_type": "code",
      "execution_count": null,
      "id": "2fdfb2b9-e685-4212-9634-8a5c56e25a55",
      "metadata": {
        "colab": {
          "base_uri": "https://localhost:8080/"
        },
        "id": "2fdfb2b9-e685-4212-9634-8a5c56e25a55",
        "outputId": "b7582614-a6e7-4eae-b843-4f0a04fd1931"
      },
      "outputs": [
        {
          "output_type": "stream",
          "name": "stdout",
          "text": [
            "Data types in features (X):\n",
            "Ratio    float64\n",
            "Angle      int64\n",
            "dtype: object\n",
            "Data type in labels (y):\n",
            "object\n"
          ]
        }
      ],
      "source": [
        "# Check for data types in features and labels (for debugging)\n",
        "print(\"Data types in features (X):\")\n",
        "print(data[[ 'Ratio', 'Angle']].dtypes)\n",
        "print(\"Data type in labels (y):\")\n",
        "print(data['TreeSpecies'].dtype)"
      ]
    },
    {
      "cell_type": "code",
      "execution_count": null,
      "id": "92435f3f-2ffe-4ed9-9232-d6064d570a2a",
      "metadata": {
        "id": "92435f3f-2ffe-4ed9-9232-d6064d570a2a"
      },
      "outputs": [],
      "source": [
        "# Prepare features and labels\n",
        "# Select features excluding column names\n",
        "X = data[['Ratio', 'Angle']]"
      ]
    },
    {
      "cell_type": "code",
      "execution_count": null,
      "id": "0109d361-4bd7-42bf-9f82-5c0dcf08a782",
      "metadata": {
        "id": "0109d361-4bd7-42bf-9f82-5c0dcf08a782"
      },
      "outputs": [],
      "source": [
        "# Attempt to convert features to numerics (assuming numerical data)\n",
        "X = X.apply(pd.to_numeric, errors='coerce').values"
      ]
    },
    {
      "cell_type": "code",
      "execution_count": null,
      "id": "fcdb2c26-b555-4f9a-92ae-68014729e305",
      "metadata": {
        "id": "fcdb2c26-b555-4f9a-92ae-68014729e305"
      },
      "outputs": [],
      "source": [
        "# Encode labels into integers (assuming categorical labels)\n",
        "label_encoder = LabelEncoder()\n",
        "y = label_encoder.fit_transform(data['TreeSpecies'].values)"
      ]
    },
    {
      "cell_type": "code",
      "execution_count": null,
      "id": "05ae7a63-5473-46cb-8949-08a00453bb3c",
      "metadata": {
        "colab": {
          "base_uri": "https://localhost:8080/"
        },
        "id": "05ae7a63-5473-46cb-8949-08a00453bb3c",
        "outputId": "cc273b4f-9369-47f7-f02e-ed6d46845223"
      },
      "outputs": [
        {
          "output_type": "stream",
          "name": "stdout",
          "text": [
            "Number of unique classes after label encoding: 3\n"
          ]
        }
      ],
      "source": [
        "# Check the number of unique classes after label encoding (for debugging)\n",
        "print(\"Number of unique classes after label encoding:\", len(label_encoder.classes_))"
      ]
    },
    {
      "cell_type": "code",
      "execution_count": null,
      "id": "74f81571-c2dc-4888-921d-d8a49e751514",
      "metadata": {
        "id": "74f81571-c2dc-4888-921d-d8a49e751514"
      },
      "outputs": [],
      "source": [
        "# Convert labels to categorical (one-hot encoding)\n",
        "encoder = OneHotEncoder(sparse_output=False)\n",
        "y = encoder.fit_transform(y.reshape(-1, 1))  # Reshape for compatibility"
      ]
    },
    {
      "cell_type": "code",
      "execution_count": null,
      "id": "2629b35e-47cb-49cf-9a38-734ff1419ab7",
      "metadata": {
        "colab": {
          "base_uri": "https://localhost:8080/"
        },
        "id": "2629b35e-47cb-49cf-9a38-734ff1419ab7",
        "outputId": "a76f9a58-3523-417c-b5ff-0fe69fe28462"
      },
      "outputs": [
        {
          "output_type": "stream",
          "name": "stdout",
          "text": [
            "Shape of encoded labels (y): (90, 3)\n"
          ]
        }
      ],
      "source": [
        "# Check the shape of the encoded labels (for debugging)\n",
        "print(\"Shape of encoded labels (y):\", y.shape)"
      ]
    },
    {
      "cell_type": "code",
      "execution_count": null,
      "id": "ecbb0b2f-a625-4963-ba74-ae6ea935f600",
      "metadata": {
        "id": "ecbb0b2f-a625-4963-ba74-ae6ea935f600"
      },
      "outputs": [],
      "source": [
        "# Split data into training and testing sets\n",
        "X_train, X_test, y_train, y_test = train_test_split(X, y, test_size=0.2, random_state=3)"
      ]
    },
    {
      "cell_type": "code",
      "execution_count": null,
      "id": "51397ada-2fdd-4ed9-ba4e-8c24121f27ee",
      "metadata": {
        "colab": {
          "base_uri": "https://localhost:8080/"
        },
        "id": "51397ada-2fdd-4ed9-ba4e-8c24121f27ee",
        "outputId": "e7e415e4-46a1-4779-85a6-e058462b2948"
      },
      "outputs": [
        {
          "output_type": "stream",
          "name": "stdout",
          "text": [
            "Shape of training features (X_train): (72, 2)\n"
          ]
        }
      ],
      "source": [
        "# Print the shape of training features (for debugging)\n",
        "print(\"Shape of training features (X_train):\", X_train.shape)"
      ]
    },
    {
      "cell_type": "code",
      "execution_count": null,
      "id": "aa856659-f781-408d-8b99-a29db5493812",
      "metadata": {
        "id": "aa856659-f781-408d-8b99-a29db5493812"
      },
      "outputs": [],
      "source": [
        "from keras.models import Model\n",
        "from keras.layers import Input, Dense\n",
        "\n",
        "# Define the input layer with shape (2,)\n",
        "input_layer = Input(shape=(2,))\n",
        "\n",
        "# Define the layers of the model\n",
        "hidden_layer1 = Dense(units=90, activation='relu')(input_layer) # First hidden layer with 30 units and ReLU activation\n",
        "hidden_layer2 = Dense(units=30, activation='relu')(hidden_layer1) # Second hidden layer with 30 units and ReLU activation\n",
        "output_layer = Dense(units=3, activation='softmax')(hidden_layer2) # Output layer with 5 units and softmax activation\n",
        "\n",
        "# Define the model\n",
        "custom_model = Model(inputs=input_layer, outputs=output_layer) # Creating a model with specified input and output layers"
      ]
    },
    {
      "cell_type": "code",
      "execution_count": null,
      "id": "96d6bb4e-3353-4df6-8d86-f00f1a9f94af",
      "metadata": {
        "id": "96d6bb4e-3353-4df6-8d86-f00f1a9f94af"
      },
      "outputs": [],
      "source": [
        "# Compile the model\n",
        "custom_model.compile(optimizer='rmsprop',\n",
        "                     loss='categorical_crossentropy',\n",
        "                     metrics=['accuracy'])"
      ]
    },
    {
      "cell_type": "code",
      "execution_count": null,
      "id": "75575b55-dd4e-48da-ba87-a688a6f2bd1c",
      "metadata": {
        "colab": {
          "base_uri": "https://localhost:8080/"
        },
        "id": "75575b55-dd4e-48da-ba87-a688a6f2bd1c",
        "outputId": "a0efedf2-3559-4eb6-bdf4-a39bc751a98f"
      },
      "outputs": [
        {
          "output_type": "stream",
          "name": "stdout",
          "text": [
            "Epoch 1/5\n",
            "\u001b[1m2/2\u001b[0m \u001b[32m━━━━━━━━━━━━━━━━━━━━\u001b[0m\u001b[37m\u001b[0m \u001b[1m1s\u001b[0m 29ms/step - accuracy: 0.3259 - loss: 9.8744\n",
            "Epoch 2/5\n",
            "\u001b[1m2/2\u001b[0m \u001b[32m━━━━━━━━━━━━━━━━━━━━\u001b[0m\u001b[37m\u001b[0m \u001b[1m0s\u001b[0m 37ms/step - accuracy: 0.3204 - loss: 5.9480\n",
            "Epoch 3/5\n",
            "\u001b[1m2/2\u001b[0m \u001b[32m━━━━━━━━━━━━━━━━━━━━\u001b[0m\u001b[37m\u001b[0m \u001b[1m0s\u001b[0m 30ms/step - accuracy: 0.2981 - loss: 3.9640\n",
            "Epoch 4/5\n",
            "\u001b[1m2/2\u001b[0m \u001b[32m━━━━━━━━━━━━━━━━━━━━\u001b[0m\u001b[37m\u001b[0m \u001b[1m0s\u001b[0m 30ms/step - accuracy: 0.2981 - loss: 2.3181\n",
            "Epoch 5/5\n",
            "\u001b[1m2/2\u001b[0m \u001b[32m━━━━━━━━━━━━━━━━━━━━\u001b[0m\u001b[37m\u001b[0m \u001b[1m0s\u001b[0m 33ms/step - accuracy: 0.3093 - loss: 1.0823\n"
          ]
        },
        {
          "output_type": "execute_result",
          "data": {
            "text/plain": [
              "<keras.src.callbacks.history.History at 0x7d40e80cb050>"
            ]
          },
          "metadata": {},
          "execution_count": 265
        }
      ],
      "source": [
        "# Train the model with the reshaped input data\n",
        "custom_model.fit(X_train, y_train, epochs=5, batch_size=60)"
      ]
    },
    {
      "cell_type": "code",
      "execution_count": null,
      "id": "96ee2acd-fc12-49c5-9a0f-0ad1f7376ed3",
      "metadata": {
        "colab": {
          "base_uri": "https://localhost:8080/"
        },
        "id": "96ee2acd-fc12-49c5-9a0f-0ad1f7376ed3",
        "outputId": "37c87a25-bfbb-494f-9448-b927a85a25b1"
      },
      "outputs": [
        {
          "output_type": "stream",
          "name": "stdout",
          "text": [
            "\u001b[1m1/1\u001b[0m \u001b[32m━━━━━━━━━━━━━━━━━━━━\u001b[0m\u001b[37m\u001b[0m \u001b[1m0s\u001b[0m 83ms/step\n"
          ]
        }
      ],
      "source": [
        "# Make predictions on the testing set\n",
        "y_pred = custom_model.predict(X_test)\n",
        "\n",
        "# Convert one-hot encoded predictions to class labels (optional)\n",
        "y_pred_classes = np.argmax(y_pred, axis=1)"
      ]
    },
    {
      "cell_type": "code",
      "execution_count": null,
      "id": "3d424cc8-4932-421e-8961-2b53cc873516",
      "metadata": {
        "colab": {
          "base_uri": "https://localhost:8080/"
        },
        "id": "3d424cc8-4932-421e-8961-2b53cc873516",
        "outputId": "2dbe491b-1ac4-4345-b8fb-6ea8b79e3e19"
      },
      "outputs": [
        {
          "output_type": "stream",
          "name": "stdout",
          "text": [
            "\u001b[1m1/1\u001b[0m \u001b[32m━━━━━━━━━━━━━━━━━━━━\u001b[0m\u001b[37m\u001b[0m \u001b[1m0s\u001b[0m 251ms/step - accuracy: 0.3889 - loss: 0.9526\n",
            "Test accuracy: 0.3888888955116272\n"
          ]
        }
      ],
      "source": [
        "# Evaluate the model\n",
        "test_loss, test_acc = custom_model.evaluate(X_test, y_test)\n",
        "print('Test accuracy:', test_acc)"
      ]
    },
    {
      "cell_type": "markdown",
      "id": "fd16392d-7217-4afb-b9b8-4654206bcaf7",
      "metadata": {
        "id": "fd16392d-7217-4afb-b9b8-4654206bcaf7"
      },
      "source": [
        "\n",
        "Now we get Negative result and we get very low accuracy so we keep the batch size as 15.\n",
        "\n",
        "Now we change the epochs as 3 and observe the changes.\n"
      ]
    },
    {
      "cell_type": "code",
      "execution_count": null,
      "id": "01818a9e-1c98-4227-9745-d60acb9017f8",
      "metadata": {
        "id": "01818a9e-1c98-4227-9745-d60acb9017f8"
      },
      "outputs": [],
      "source": [
        "import pandas as pd\n",
        "import numpy as np\n",
        "from sklearn.model_selection import train_test_split\n",
        "from keras.models import Sequential\n",
        "from keras.layers import Dense\n",
        "from keras.utils import to_categorical\n",
        "from sklearn.preprocessing import OneHotEncoder\n",
        "from sklearn.preprocessing import LabelEncoder"
      ]
    },
    {
      "cell_type": "code",
      "execution_count": null,
      "id": "c267435f-d52d-4a15-b26f-912698fc5e29",
      "metadata": {
        "colab": {
          "base_uri": "https://localhost:8080/",
          "height": 74
        },
        "id": "c267435f-d52d-4a15-b26f-912698fc5e29",
        "outputId": "fa2a84a6-cb0b-4a99-c04a-45658a1731b8"
      },
      "outputs": [
        {
          "output_type": "display_data",
          "data": {
            "text/plain": [
              "<IPython.core.display.HTML object>"
            ],
            "text/html": [
              "\n",
              "     <input type=\"file\" id=\"files-3bf92b53-57a3-48ba-aab7-b1671fc6a49d\" name=\"files[]\" multiple disabled\n",
              "        style=\"border:none\" />\n",
              "     <output id=\"result-3bf92b53-57a3-48ba-aab7-b1671fc6a49d\">\n",
              "      Upload widget is only available when the cell has been executed in the\n",
              "      current browser session. Please rerun this cell to enable.\n",
              "      </output>\n",
              "      <script>// Copyright 2017 Google LLC\n",
              "//\n",
              "// Licensed under the Apache License, Version 2.0 (the \"License\");\n",
              "// you may not use this file except in compliance with the License.\n",
              "// You may obtain a copy of the License at\n",
              "//\n",
              "//      http://www.apache.org/licenses/LICENSE-2.0\n",
              "//\n",
              "// Unless required by applicable law or agreed to in writing, software\n",
              "// distributed under the License is distributed on an \"AS IS\" BASIS,\n",
              "// WITHOUT WARRANTIES OR CONDITIONS OF ANY KIND, either express or implied.\n",
              "// See the License for the specific language governing permissions and\n",
              "// limitations under the License.\n",
              "\n",
              "/**\n",
              " * @fileoverview Helpers for google.colab Python module.\n",
              " */\n",
              "(function(scope) {\n",
              "function span(text, styleAttributes = {}) {\n",
              "  const element = document.createElement('span');\n",
              "  element.textContent = text;\n",
              "  for (const key of Object.keys(styleAttributes)) {\n",
              "    element.style[key] = styleAttributes[key];\n",
              "  }\n",
              "  return element;\n",
              "}\n",
              "\n",
              "// Max number of bytes which will be uploaded at a time.\n",
              "const MAX_PAYLOAD_SIZE = 100 * 1024;\n",
              "\n",
              "function _uploadFiles(inputId, outputId) {\n",
              "  const steps = uploadFilesStep(inputId, outputId);\n",
              "  const outputElement = document.getElementById(outputId);\n",
              "  // Cache steps on the outputElement to make it available for the next call\n",
              "  // to uploadFilesContinue from Python.\n",
              "  outputElement.steps = steps;\n",
              "\n",
              "  return _uploadFilesContinue(outputId);\n",
              "}\n",
              "\n",
              "// This is roughly an async generator (not supported in the browser yet),\n",
              "// where there are multiple asynchronous steps and the Python side is going\n",
              "// to poll for completion of each step.\n",
              "// This uses a Promise to block the python side on completion of each step,\n",
              "// then passes the result of the previous step as the input to the next step.\n",
              "function _uploadFilesContinue(outputId) {\n",
              "  const outputElement = document.getElementById(outputId);\n",
              "  const steps = outputElement.steps;\n",
              "\n",
              "  const next = steps.next(outputElement.lastPromiseValue);\n",
              "  return Promise.resolve(next.value.promise).then((value) => {\n",
              "    // Cache the last promise value to make it available to the next\n",
              "    // step of the generator.\n",
              "    outputElement.lastPromiseValue = value;\n",
              "    return next.value.response;\n",
              "  });\n",
              "}\n",
              "\n",
              "/**\n",
              " * Generator function which is called between each async step of the upload\n",
              " * process.\n",
              " * @param {string} inputId Element ID of the input file picker element.\n",
              " * @param {string} outputId Element ID of the output display.\n",
              " * @return {!Iterable<!Object>} Iterable of next steps.\n",
              " */\n",
              "function* uploadFilesStep(inputId, outputId) {\n",
              "  const inputElement = document.getElementById(inputId);\n",
              "  inputElement.disabled = false;\n",
              "\n",
              "  const outputElement = document.getElementById(outputId);\n",
              "  outputElement.innerHTML = '';\n",
              "\n",
              "  const pickedPromise = new Promise((resolve) => {\n",
              "    inputElement.addEventListener('change', (e) => {\n",
              "      resolve(e.target.files);\n",
              "    });\n",
              "  });\n",
              "\n",
              "  const cancel = document.createElement('button');\n",
              "  inputElement.parentElement.appendChild(cancel);\n",
              "  cancel.textContent = 'Cancel upload';\n",
              "  const cancelPromise = new Promise((resolve) => {\n",
              "    cancel.onclick = () => {\n",
              "      resolve(null);\n",
              "    };\n",
              "  });\n",
              "\n",
              "  // Wait for the user to pick the files.\n",
              "  const files = yield {\n",
              "    promise: Promise.race([pickedPromise, cancelPromise]),\n",
              "    response: {\n",
              "      action: 'starting',\n",
              "    }\n",
              "  };\n",
              "\n",
              "  cancel.remove();\n",
              "\n",
              "  // Disable the input element since further picks are not allowed.\n",
              "  inputElement.disabled = true;\n",
              "\n",
              "  if (!files) {\n",
              "    return {\n",
              "      response: {\n",
              "        action: 'complete',\n",
              "      }\n",
              "    };\n",
              "  }\n",
              "\n",
              "  for (const file of files) {\n",
              "    const li = document.createElement('li');\n",
              "    li.append(span(file.name, {fontWeight: 'bold'}));\n",
              "    li.append(span(\n",
              "        `(${file.type || 'n/a'}) - ${file.size} bytes, ` +\n",
              "        `last modified: ${\n",
              "            file.lastModifiedDate ? file.lastModifiedDate.toLocaleDateString() :\n",
              "                                    'n/a'} - `));\n",
              "    const percent = span('0% done');\n",
              "    li.appendChild(percent);\n",
              "\n",
              "    outputElement.appendChild(li);\n",
              "\n",
              "    const fileDataPromise = new Promise((resolve) => {\n",
              "      const reader = new FileReader();\n",
              "      reader.onload = (e) => {\n",
              "        resolve(e.target.result);\n",
              "      };\n",
              "      reader.readAsArrayBuffer(file);\n",
              "    });\n",
              "    // Wait for the data to be ready.\n",
              "    let fileData = yield {\n",
              "      promise: fileDataPromise,\n",
              "      response: {\n",
              "        action: 'continue',\n",
              "      }\n",
              "    };\n",
              "\n",
              "    // Use a chunked sending to avoid message size limits. See b/62115660.\n",
              "    let position = 0;\n",
              "    do {\n",
              "      const length = Math.min(fileData.byteLength - position, MAX_PAYLOAD_SIZE);\n",
              "      const chunk = new Uint8Array(fileData, position, length);\n",
              "      position += length;\n",
              "\n",
              "      const base64 = btoa(String.fromCharCode.apply(null, chunk));\n",
              "      yield {\n",
              "        response: {\n",
              "          action: 'append',\n",
              "          file: file.name,\n",
              "          data: base64,\n",
              "        },\n",
              "      };\n",
              "\n",
              "      let percentDone = fileData.byteLength === 0 ?\n",
              "          100 :\n",
              "          Math.round((position / fileData.byteLength) * 100);\n",
              "      percent.textContent = `${percentDone}% done`;\n",
              "\n",
              "    } while (position < fileData.byteLength);\n",
              "  }\n",
              "\n",
              "  // All done.\n",
              "  yield {\n",
              "    response: {\n",
              "      action: 'complete',\n",
              "    }\n",
              "  };\n",
              "}\n",
              "\n",
              "scope.google = scope.google || {};\n",
              "scope.google.colab = scope.google.colab || {};\n",
              "scope.google.colab._files = {\n",
              "  _uploadFiles,\n",
              "  _uploadFilesContinue,\n",
              "};\n",
              "})(self);\n",
              "</script> "
            ]
          },
          "metadata": {}
        },
        {
          "output_type": "stream",
          "name": "stdout",
          "text": [
            "Saving Madhuca-longifolia.jpg to Madhuca-longifolia (29).jpg\n"
          ]
        }
      ],
      "source": [
        "from google.colab import files\n",
        "uploaded = files.upload()\n",
        "import pandas as pd\n",
        "\n",
        "# Load data from CSV file\n",
        "# file_path = r'C:\\Users\\spthe\\OneDrive\\Desktop\\TreeDataSet.csv'  # Update with the correct file path\n",
        "data = pd.read_csv('TreeDataSet.csv')"
      ]
    },
    {
      "cell_type": "code",
      "execution_count": null,
      "id": "19690c5c-12a0-4c9a-82fe-9d8a6ff03119",
      "metadata": {
        "id": "19690c5c-12a0-4c9a-82fe-9d8a6ff03119"
      },
      "outputs": [],
      "source": [
        "# Adjust column names\n",
        "data.columns = ['TreeSpecies', 'Ratio', 'Angle']"
      ]
    },
    {
      "cell_type": "code",
      "execution_count": null,
      "id": "841227e1-4837-4c2c-9235-5e39d8defb7e",
      "metadata": {
        "colab": {
          "base_uri": "https://localhost:8080/"
        },
        "id": "841227e1-4837-4c2c-9235-5e39d8defb7e",
        "outputId": "af4ac23a-93fd-4e58-98b5-01b6ab0dac99"
      },
      "outputs": [
        {
          "output_type": "stream",
          "name": "stdout",
          "text": [
            "Data types in features (X):\n",
            "Ratio    float64\n",
            "Angle      int64\n",
            "dtype: object\n",
            "Data type in labels (y):\n",
            "object\n"
          ]
        }
      ],
      "source": [
        "# Check for data types in features and labels (for debugging)\n",
        "print(\"Data types in features (X):\")\n",
        "print(data[[ 'Ratio', 'Angle']].dtypes)\n",
        "print(\"Data type in labels (y):\")\n",
        "print(data['TreeSpecies'].dtype)"
      ]
    },
    {
      "cell_type": "code",
      "execution_count": null,
      "id": "68b4aa1c-1af6-446d-b903-73c27f80c355",
      "metadata": {
        "id": "68b4aa1c-1af6-446d-b903-73c27f80c355"
      },
      "outputs": [],
      "source": [
        "# Prepare features and labels\n",
        "# Select features excluding column names\n",
        "X = data[['Ratio', 'Angle']]"
      ]
    },
    {
      "cell_type": "code",
      "execution_count": null,
      "id": "27c8ad85-8256-4580-a480-2f0db597649d",
      "metadata": {
        "id": "27c8ad85-8256-4580-a480-2f0db597649d"
      },
      "outputs": [],
      "source": [
        "# Attempt to convert features to numerics (assuming numerical data)\n",
        "X = X.apply(pd.to_numeric, errors='coerce').values"
      ]
    },
    {
      "cell_type": "code",
      "execution_count": null,
      "id": "ff776933-032e-4b55-b073-ce53c94d4b9f",
      "metadata": {
        "id": "ff776933-032e-4b55-b073-ce53c94d4b9f"
      },
      "outputs": [],
      "source": [
        "# Encode labels into integers (assuming categorical labels)\n",
        "label_encoder = LabelEncoder()\n",
        "y = label_encoder.fit_transform(data['TreeSpecies'].values)"
      ]
    },
    {
      "cell_type": "code",
      "execution_count": null,
      "id": "087d6bef-a8a0-4ae0-bd46-e2f968a14945",
      "metadata": {
        "colab": {
          "base_uri": "https://localhost:8080/"
        },
        "id": "087d6bef-a8a0-4ae0-bd46-e2f968a14945",
        "outputId": "94cb82e4-ad08-4145-e49b-3573122bbaef"
      },
      "outputs": [
        {
          "output_type": "stream",
          "name": "stdout",
          "text": [
            "Number of unique classes after label encoding: 3\n"
          ]
        }
      ],
      "source": [
        "# Check the number of unique classes after label encoding (for debugging)\n",
        "print(\"Number of unique classes after label encoding:\", len(label_encoder.classes_))"
      ]
    },
    {
      "cell_type": "code",
      "execution_count": null,
      "id": "ee68630c-b95d-41d4-8511-f1c213204f4d",
      "metadata": {
        "id": "ee68630c-b95d-41d4-8511-f1c213204f4d"
      },
      "outputs": [],
      "source": [
        "# Convert labels to categorical (one-hot encoding)\n",
        "encoder = OneHotEncoder(sparse_output=False)\n",
        "y = encoder.fit_transform(y.reshape(-1, 1))  # Reshape for compatibility"
      ]
    },
    {
      "cell_type": "code",
      "execution_count": null,
      "id": "6d17cd79-139f-47fe-a3fb-f3cf65354162",
      "metadata": {
        "colab": {
          "base_uri": "https://localhost:8080/"
        },
        "id": "6d17cd79-139f-47fe-a3fb-f3cf65354162",
        "outputId": "7debc4fb-61d3-49b1-a5af-f8621e5193fb"
      },
      "outputs": [
        {
          "output_type": "stream",
          "name": "stdout",
          "text": [
            "Shape of encoded labels (y): (90, 3)\n"
          ]
        }
      ],
      "source": [
        "# Check the shape of the encoded labels (for debugging)\n",
        "print(\"Shape of encoded labels (y):\", y.shape)"
      ]
    },
    {
      "cell_type": "code",
      "execution_count": null,
      "id": "f550b8f5-c0d5-4bec-8dfb-79381cd867e3",
      "metadata": {
        "id": "f550b8f5-c0d5-4bec-8dfb-79381cd867e3"
      },
      "outputs": [],
      "source": [
        "# Split data into training and testing sets\n",
        "X_train, X_test, y_train, y_test = train_test_split(X, y, test_size=0.2, random_state=3)"
      ]
    },
    {
      "cell_type": "code",
      "execution_count": null,
      "id": "cc29d11d-24bd-4d3e-8f95-b9a8a76ccd6a",
      "metadata": {
        "colab": {
          "base_uri": "https://localhost:8080/"
        },
        "id": "cc29d11d-24bd-4d3e-8f95-b9a8a76ccd6a",
        "outputId": "a4320b24-902c-4f9d-b3f6-1c08fd3a5f3f"
      },
      "outputs": [
        {
          "output_type": "stream",
          "name": "stdout",
          "text": [
            "Shape of training features (X_train): (72, 2)\n"
          ]
        }
      ],
      "source": [
        "# Print the shape of training features (for debugging)\n",
        "print(\"Shape of training features (X_train):\", X_train.shape)"
      ]
    },
    {
      "cell_type": "code",
      "execution_count": null,
      "id": "de785c17-0315-4f3f-9808-ae7f41214ef9",
      "metadata": {
        "id": "de785c17-0315-4f3f-9808-ae7f41214ef9"
      },
      "outputs": [],
      "source": [
        "from keras.models import Model\n",
        "from keras.layers import Input, Dense\n",
        "\n",
        "# Define the input layer with shape (2,)\n",
        "input_layer = Input(shape=(2,))\n",
        "\n",
        "# Define the layers of the model\n",
        "hidden_layer1 = Dense(units=90, activation='relu')(input_layer) # First hidden layer with 30 units and ReLU activation\n",
        "hidden_layer2 = Dense(units=30, activation='relu')(hidden_layer1) # Second hidden layer with 30 units and ReLU activation\n",
        "output_layer = Dense(units=3, activation='softmax')(hidden_layer2) # Output layer with 5 units and softmax activation\n",
        "\n",
        "# Define the model\n",
        "custom_model = Model(inputs=input_layer, outputs=output_layer) # Creating a model with specified input and output layers"
      ]
    },
    {
      "cell_type": "code",
      "execution_count": null,
      "id": "dec2ff77-b4fa-42d0-828f-81c86390753d",
      "metadata": {
        "id": "dec2ff77-b4fa-42d0-828f-81c86390753d"
      },
      "outputs": [],
      "source": [
        "# Compile the model\n",
        "custom_model.compile(optimizer='rmsprop',\n",
        "                     loss='categorical_crossentropy',\n",
        "                     metrics=['accuracy'])"
      ]
    },
    {
      "cell_type": "code",
      "execution_count": null,
      "id": "cf077bab-d02f-42ff-a218-1bec715dc2c8",
      "metadata": {
        "colab": {
          "base_uri": "https://localhost:8080/"
        },
        "id": "cf077bab-d02f-42ff-a218-1bec715dc2c8",
        "outputId": "3e1cf484-a756-49d2-8ddd-b2e93b1c5fdb"
      },
      "outputs": [
        {
          "output_type": "stream",
          "name": "stdout",
          "text": [
            "Epoch 1/3\n",
            "\u001b[1m5/5\u001b[0m \u001b[32m━━━━━━━━━━━━━━━━━━━━\u001b[0m\u001b[37m\u001b[0m \u001b[1m1s\u001b[0m 10ms/step - accuracy: 0.5620 - loss: 1.4552 \n",
            "Epoch 2/3\n",
            "\u001b[1m5/5\u001b[0m \u001b[32m━━━━━━━━━━━━━━━━━━━━\u001b[0m\u001b[37m\u001b[0m \u001b[1m0s\u001b[0m 9ms/step - accuracy: 0.4213 - loss: 1.1021 \n",
            "Epoch 3/3\n",
            "\u001b[1m5/5\u001b[0m \u001b[32m━━━━━━━━━━━━━━━━━━━━\u001b[0m\u001b[37m\u001b[0m \u001b[1m0s\u001b[0m 9ms/step - accuracy: 0.5796 - loss: 0.8916 \n"
          ]
        },
        {
          "output_type": "execute_result",
          "data": {
            "text/plain": [
              "<keras.src.callbacks.history.History at 0x7d40e7f24110>"
            ]
          },
          "metadata": {},
          "execution_count": 282
        }
      ],
      "source": [
        "# Train the model with the reshaped input data\n",
        "custom_model.fit(X_train, y_train, epochs=3, batch_size=15)"
      ]
    },
    {
      "cell_type": "code",
      "execution_count": null,
      "id": "cd024b0c-ae30-4935-b404-94ed9f417cef",
      "metadata": {
        "colab": {
          "base_uri": "https://localhost:8080/"
        },
        "id": "cd024b0c-ae30-4935-b404-94ed9f417cef",
        "outputId": "f091a8d3-a006-456f-b88f-73ac3b26a76b"
      },
      "outputs": [
        {
          "output_type": "stream",
          "name": "stdout",
          "text": [
            "\u001b[1m1/1\u001b[0m \u001b[32m━━━━━━━━━━━━━━━━━━━━\u001b[0m\u001b[37m\u001b[0m \u001b[1m0s\u001b[0m 81ms/step\n"
          ]
        }
      ],
      "source": [
        "# Make predictions on the testing set\n",
        "y_pred = custom_model.predict(X_test)\n",
        "\n",
        "# Convert one-hot encoded predictions to class labels (optional)\n",
        "y_pred_classes = np.argmax(y_pred, axis=1)"
      ]
    },
    {
      "cell_type": "code",
      "execution_count": null,
      "id": "fdf84543-34d9-48e8-a2ce-f8c5d129f0f0",
      "metadata": {
        "colab": {
          "base_uri": "https://localhost:8080/"
        },
        "id": "fdf84543-34d9-48e8-a2ce-f8c5d129f0f0",
        "outputId": "369290f5-b79c-4711-a92a-f81cb5cce116"
      },
      "outputs": [
        {
          "output_type": "stream",
          "name": "stdout",
          "text": [
            "\u001b[1m1/1\u001b[0m \u001b[32m━━━━━━━━━━━━━━━━━━━━\u001b[0m\u001b[37m\u001b[0m \u001b[1m0s\u001b[0m 239ms/step - accuracy: 0.6667 - loss: 0.8132\n",
            "Test accuracy: 0.6666666865348816\n"
          ]
        }
      ],
      "source": [
        "# Evaluate the model\n",
        "test_loss, test_acc = custom_model.evaluate(X_test, y_test)\n",
        "print('Test accuracy:', test_acc)"
      ]
    },
    {
      "cell_type": "markdown",
      "id": "dc685808-ddce-4711-81b3-37c7b92482de",
      "metadata": {
        "id": "dc685808-ddce-4711-81b3-37c7b92482de"
      },
      "source": [
        "\n",
        "Now we get the Positive result. the model accuracy was increased.\n",
        "\n",
        "Now we change the epochs as 10 and observe the changes.\n"
      ]
    },
    {
      "cell_type": "code",
      "execution_count": null,
      "id": "7f1fecff-9908-42ce-b83d-46893c493a59",
      "metadata": {
        "id": "7f1fecff-9908-42ce-b83d-46893c493a59"
      },
      "outputs": [],
      "source": [
        "import pandas as pd\n",
        "import numpy as np\n",
        "from sklearn.model_selection import train_test_split\n",
        "from keras.models import Sequential\n",
        "from keras.layers import Dense\n",
        "from keras.utils import to_categorical\n",
        "from sklearn.preprocessing import OneHotEncoder\n",
        "from sklearn.preprocessing import LabelEncoder"
      ]
    },
    {
      "cell_type": "code",
      "execution_count": null,
      "id": "d448299f-724f-4eb1-8690-35d4bf2580b4",
      "metadata": {
        "colab": {
          "base_uri": "https://localhost:8080/",
          "height": 74
        },
        "id": "d448299f-724f-4eb1-8690-35d4bf2580b4",
        "outputId": "768ff935-ca4d-4722-b7b0-41372f2d24de"
      },
      "outputs": [
        {
          "output_type": "display_data",
          "data": {
            "text/plain": [
              "<IPython.core.display.HTML object>"
            ],
            "text/html": [
              "\n",
              "     <input type=\"file\" id=\"files-f67b59be-4e55-4804-876f-e308cd5178ff\" name=\"files[]\" multiple disabled\n",
              "        style=\"border:none\" />\n",
              "     <output id=\"result-f67b59be-4e55-4804-876f-e308cd5178ff\">\n",
              "      Upload widget is only available when the cell has been executed in the\n",
              "      current browser session. Please rerun this cell to enable.\n",
              "      </output>\n",
              "      <script>// Copyright 2017 Google LLC\n",
              "//\n",
              "// Licensed under the Apache License, Version 2.0 (the \"License\");\n",
              "// you may not use this file except in compliance with the License.\n",
              "// You may obtain a copy of the License at\n",
              "//\n",
              "//      http://www.apache.org/licenses/LICENSE-2.0\n",
              "//\n",
              "// Unless required by applicable law or agreed to in writing, software\n",
              "// distributed under the License is distributed on an \"AS IS\" BASIS,\n",
              "// WITHOUT WARRANTIES OR CONDITIONS OF ANY KIND, either express or implied.\n",
              "// See the License for the specific language governing permissions and\n",
              "// limitations under the License.\n",
              "\n",
              "/**\n",
              " * @fileoverview Helpers for google.colab Python module.\n",
              " */\n",
              "(function(scope) {\n",
              "function span(text, styleAttributes = {}) {\n",
              "  const element = document.createElement('span');\n",
              "  element.textContent = text;\n",
              "  for (const key of Object.keys(styleAttributes)) {\n",
              "    element.style[key] = styleAttributes[key];\n",
              "  }\n",
              "  return element;\n",
              "}\n",
              "\n",
              "// Max number of bytes which will be uploaded at a time.\n",
              "const MAX_PAYLOAD_SIZE = 100 * 1024;\n",
              "\n",
              "function _uploadFiles(inputId, outputId) {\n",
              "  const steps = uploadFilesStep(inputId, outputId);\n",
              "  const outputElement = document.getElementById(outputId);\n",
              "  // Cache steps on the outputElement to make it available for the next call\n",
              "  // to uploadFilesContinue from Python.\n",
              "  outputElement.steps = steps;\n",
              "\n",
              "  return _uploadFilesContinue(outputId);\n",
              "}\n",
              "\n",
              "// This is roughly an async generator (not supported in the browser yet),\n",
              "// where there are multiple asynchronous steps and the Python side is going\n",
              "// to poll for completion of each step.\n",
              "// This uses a Promise to block the python side on completion of each step,\n",
              "// then passes the result of the previous step as the input to the next step.\n",
              "function _uploadFilesContinue(outputId) {\n",
              "  const outputElement = document.getElementById(outputId);\n",
              "  const steps = outputElement.steps;\n",
              "\n",
              "  const next = steps.next(outputElement.lastPromiseValue);\n",
              "  return Promise.resolve(next.value.promise).then((value) => {\n",
              "    // Cache the last promise value to make it available to the next\n",
              "    // step of the generator.\n",
              "    outputElement.lastPromiseValue = value;\n",
              "    return next.value.response;\n",
              "  });\n",
              "}\n",
              "\n",
              "/**\n",
              " * Generator function which is called between each async step of the upload\n",
              " * process.\n",
              " * @param {string} inputId Element ID of the input file picker element.\n",
              " * @param {string} outputId Element ID of the output display.\n",
              " * @return {!Iterable<!Object>} Iterable of next steps.\n",
              " */\n",
              "function* uploadFilesStep(inputId, outputId) {\n",
              "  const inputElement = document.getElementById(inputId);\n",
              "  inputElement.disabled = false;\n",
              "\n",
              "  const outputElement = document.getElementById(outputId);\n",
              "  outputElement.innerHTML = '';\n",
              "\n",
              "  const pickedPromise = new Promise((resolve) => {\n",
              "    inputElement.addEventListener('change', (e) => {\n",
              "      resolve(e.target.files);\n",
              "    });\n",
              "  });\n",
              "\n",
              "  const cancel = document.createElement('button');\n",
              "  inputElement.parentElement.appendChild(cancel);\n",
              "  cancel.textContent = 'Cancel upload';\n",
              "  const cancelPromise = new Promise((resolve) => {\n",
              "    cancel.onclick = () => {\n",
              "      resolve(null);\n",
              "    };\n",
              "  });\n",
              "\n",
              "  // Wait for the user to pick the files.\n",
              "  const files = yield {\n",
              "    promise: Promise.race([pickedPromise, cancelPromise]),\n",
              "    response: {\n",
              "      action: 'starting',\n",
              "    }\n",
              "  };\n",
              "\n",
              "  cancel.remove();\n",
              "\n",
              "  // Disable the input element since further picks are not allowed.\n",
              "  inputElement.disabled = true;\n",
              "\n",
              "  if (!files) {\n",
              "    return {\n",
              "      response: {\n",
              "        action: 'complete',\n",
              "      }\n",
              "    };\n",
              "  }\n",
              "\n",
              "  for (const file of files) {\n",
              "    const li = document.createElement('li');\n",
              "    li.append(span(file.name, {fontWeight: 'bold'}));\n",
              "    li.append(span(\n",
              "        `(${file.type || 'n/a'}) - ${file.size} bytes, ` +\n",
              "        `last modified: ${\n",
              "            file.lastModifiedDate ? file.lastModifiedDate.toLocaleDateString() :\n",
              "                                    'n/a'} - `));\n",
              "    const percent = span('0% done');\n",
              "    li.appendChild(percent);\n",
              "\n",
              "    outputElement.appendChild(li);\n",
              "\n",
              "    const fileDataPromise = new Promise((resolve) => {\n",
              "      const reader = new FileReader();\n",
              "      reader.onload = (e) => {\n",
              "        resolve(e.target.result);\n",
              "      };\n",
              "      reader.readAsArrayBuffer(file);\n",
              "    });\n",
              "    // Wait for the data to be ready.\n",
              "    let fileData = yield {\n",
              "      promise: fileDataPromise,\n",
              "      response: {\n",
              "        action: 'continue',\n",
              "      }\n",
              "    };\n",
              "\n",
              "    // Use a chunked sending to avoid message size limits. See b/62115660.\n",
              "    let position = 0;\n",
              "    do {\n",
              "      const length = Math.min(fileData.byteLength - position, MAX_PAYLOAD_SIZE);\n",
              "      const chunk = new Uint8Array(fileData, position, length);\n",
              "      position += length;\n",
              "\n",
              "      const base64 = btoa(String.fromCharCode.apply(null, chunk));\n",
              "      yield {\n",
              "        response: {\n",
              "          action: 'append',\n",
              "          file: file.name,\n",
              "          data: base64,\n",
              "        },\n",
              "      };\n",
              "\n",
              "      let percentDone = fileData.byteLength === 0 ?\n",
              "          100 :\n",
              "          Math.round((position / fileData.byteLength) * 100);\n",
              "      percent.textContent = `${percentDone}% done`;\n",
              "\n",
              "    } while (position < fileData.byteLength);\n",
              "  }\n",
              "\n",
              "  // All done.\n",
              "  yield {\n",
              "    response: {\n",
              "      action: 'complete',\n",
              "    }\n",
              "  };\n",
              "}\n",
              "\n",
              "scope.google = scope.google || {};\n",
              "scope.google.colab = scope.google.colab || {};\n",
              "scope.google.colab._files = {\n",
              "  _uploadFiles,\n",
              "  _uploadFilesContinue,\n",
              "};\n",
              "})(self);\n",
              "</script> "
            ]
          },
          "metadata": {}
        },
        {
          "output_type": "stream",
          "name": "stdout",
          "text": [
            "Saving R.jpg to R (8).jpg\n"
          ]
        }
      ],
      "source": [
        "from google.colab import files\n",
        "uploaded = files.upload()\n",
        "import pandas as pd\n",
        "\n",
        "# Load data from CSV file\n",
        "# file_path = r'C:\\Users\\spthe\\OneDrive\\Desktop\\TreeDataSet.csv'  # Update with the correct file path\n",
        "data = pd.read_csv('TreeDataSet.csv')"
      ]
    },
    {
      "cell_type": "code",
      "execution_count": null,
      "id": "be5dd8fa-c096-484b-8118-67c86ea3baff",
      "metadata": {
        "id": "be5dd8fa-c096-484b-8118-67c86ea3baff"
      },
      "outputs": [],
      "source": [
        "# Adjust column names\n",
        "data.columns = ['TreeSpecies', 'Ratio', 'Angle']"
      ]
    },
    {
      "cell_type": "code",
      "execution_count": null,
      "id": "195055b4-ff70-4ecb-b99c-8118d65e03b2",
      "metadata": {
        "colab": {
          "base_uri": "https://localhost:8080/"
        },
        "id": "195055b4-ff70-4ecb-b99c-8118d65e03b2",
        "outputId": "edf9e8af-bd9f-407e-e526-1d6d26bd684a"
      },
      "outputs": [
        {
          "output_type": "stream",
          "name": "stdout",
          "text": [
            "Data types in features (X):\n",
            "Ratio    float64\n",
            "Angle      int64\n",
            "dtype: object\n",
            "Data type in labels (y):\n",
            "object\n"
          ]
        }
      ],
      "source": [
        "# Check for data types in features and labels (for debugging)\n",
        "print(\"Data types in features (X):\")\n",
        "print(data[[ 'Ratio', 'Angle']].dtypes)\n",
        "print(\"Data type in labels (y):\")\n",
        "print(data['TreeSpecies'].dtype)"
      ]
    },
    {
      "cell_type": "code",
      "execution_count": null,
      "id": "b1cb9535-1483-4fae-8e27-4f51f785a47f",
      "metadata": {
        "id": "b1cb9535-1483-4fae-8e27-4f51f785a47f"
      },
      "outputs": [],
      "source": [
        "# Prepare features and labels\n",
        "# Select features excluding column names\n",
        "X = data[['Ratio', 'Angle']]"
      ]
    },
    {
      "cell_type": "code",
      "execution_count": null,
      "id": "24882e86-7908-4071-b6c2-e937bb0a5393",
      "metadata": {
        "id": "24882e86-7908-4071-b6c2-e937bb0a5393"
      },
      "outputs": [],
      "source": [
        "# Attempt to convert features to numerics (assuming numerical data)\n",
        "X = X.apply(pd.to_numeric, errors='coerce').values"
      ]
    },
    {
      "cell_type": "code",
      "execution_count": null,
      "id": "18b586fb-a1e2-47f3-a62d-328ac224ebb0",
      "metadata": {
        "id": "18b586fb-a1e2-47f3-a62d-328ac224ebb0"
      },
      "outputs": [],
      "source": [
        "# Encode labels into integers (assuming categorical labels)\n",
        "label_encoder = LabelEncoder()\n",
        "y = label_encoder.fit_transform(data['TreeSpecies'].values)"
      ]
    },
    {
      "cell_type": "code",
      "execution_count": null,
      "id": "fb7731ba-3923-4e6e-959d-4b313b99ed9b",
      "metadata": {
        "colab": {
          "base_uri": "https://localhost:8080/"
        },
        "id": "fb7731ba-3923-4e6e-959d-4b313b99ed9b",
        "outputId": "b476df9e-f66b-4b3c-fa77-ceda2b0851c3"
      },
      "outputs": [
        {
          "output_type": "stream",
          "name": "stdout",
          "text": [
            "Number of unique classes after label encoding: 3\n"
          ]
        }
      ],
      "source": [
        "# Check the number of unique classes after label encoding (for debugging)\n",
        "print(\"Number of unique classes after label encoding:\", len(label_encoder.classes_))"
      ]
    },
    {
      "cell_type": "code",
      "execution_count": null,
      "id": "c1c4a3f3-e911-4770-830f-9bb5b6efa07b",
      "metadata": {
        "id": "c1c4a3f3-e911-4770-830f-9bb5b6efa07b"
      },
      "outputs": [],
      "source": [
        "# Convert labels to categorical (one-hot encoding)\n",
        "encoder = OneHotEncoder(sparse_output=False)\n",
        "y = encoder.fit_transform(y.reshape(-1, 1))  # Reshape for compatibility"
      ]
    },
    {
      "cell_type": "code",
      "execution_count": null,
      "id": "ec0b8576-475d-4b84-8362-24aa2af048d9",
      "metadata": {
        "colab": {
          "base_uri": "https://localhost:8080/"
        },
        "id": "ec0b8576-475d-4b84-8362-24aa2af048d9",
        "outputId": "2a2a69fe-16fe-4999-deb7-d616ac57a151"
      },
      "outputs": [
        {
          "output_type": "stream",
          "name": "stdout",
          "text": [
            "Shape of encoded labels (y): (90, 3)\n"
          ]
        }
      ],
      "source": [
        "# Check the shape of the encoded labels (for debugging)\n",
        "print(\"Shape of encoded labels (y):\", y.shape)"
      ]
    },
    {
      "cell_type": "code",
      "execution_count": null,
      "id": "55ee0609-f127-4da7-a6eb-6ee51b6622c8",
      "metadata": {
        "id": "55ee0609-f127-4da7-a6eb-6ee51b6622c8"
      },
      "outputs": [],
      "source": [
        "# Split data into training and testing sets\n",
        "X_train, X_test, y_train, y_test = train_test_split(X, y, test_size=0.2, random_state=3)"
      ]
    },
    {
      "cell_type": "code",
      "execution_count": null,
      "id": "ab220427-c83d-4df2-a5fa-923d6d210674",
      "metadata": {
        "colab": {
          "base_uri": "https://localhost:8080/"
        },
        "id": "ab220427-c83d-4df2-a5fa-923d6d210674",
        "outputId": "a30531fa-4281-4991-94ba-d30a39da6f60"
      },
      "outputs": [
        {
          "output_type": "stream",
          "name": "stdout",
          "text": [
            "Shape of training features (X_train): (72, 2)\n"
          ]
        }
      ],
      "source": [
        "# Print the shape of training features (for debugging)\n",
        "print(\"Shape of training features (X_train):\", X_train.shape)"
      ]
    },
    {
      "cell_type": "code",
      "execution_count": null,
      "id": "a21fb5a3-7f15-49bc-8a3d-6613dfc4eb2a",
      "metadata": {
        "id": "a21fb5a3-7f15-49bc-8a3d-6613dfc4eb2a"
      },
      "outputs": [],
      "source": [
        "from keras.models import Model\n",
        "from keras.layers import Input, Dense\n",
        "\n",
        "# Define the input layer with shape (2,)\n",
        "input_layer = Input(shape=(2,))\n",
        "\n",
        "# Define the layers of the model\n",
        "hidden_layer1 = Dense(units=90, activation='relu')(input_layer) # First hidden layer with 30 units and ReLU activation\n",
        "hidden_layer2 = Dense(units=30, activation='relu')(hidden_layer1) # Second hidden layer with 30 units and ReLU activation\n",
        "output_layer = Dense(units=3, activation='softmax')(hidden_layer2) # Output layer with 5 units and softmax activation\n",
        "\n",
        "# Define the model\n",
        "custom_model = Model(inputs=input_layer, outputs=output_layer) # Creating a model with specified input and output layers"
      ]
    },
    {
      "cell_type": "code",
      "execution_count": null,
      "id": "70304214-99c5-4809-9f80-8342ff8f8bd7",
      "metadata": {
        "id": "70304214-99c5-4809-9f80-8342ff8f8bd7"
      },
      "outputs": [],
      "source": [
        "# Compile the model\n",
        "custom_model.compile(optimizer='rmsprop',\n",
        "                     loss='categorical_crossentropy',\n",
        "                     metrics=['accuracy'])"
      ]
    },
    {
      "cell_type": "code",
      "execution_count": null,
      "id": "f0be8c22-10c8-4c5e-9d8f-685aaa49ae0a",
      "metadata": {
        "colab": {
          "base_uri": "https://localhost:8080/"
        },
        "id": "f0be8c22-10c8-4c5e-9d8f-685aaa49ae0a",
        "outputId": "6726cd52-e542-4619-aea3-ac0bdebb1ee9"
      },
      "outputs": [
        {
          "output_type": "stream",
          "name": "stdout",
          "text": [
            "Epoch 1/10\n",
            "\u001b[1m5/5\u001b[0m \u001b[32m━━━━━━━━━━━━━━━━━━━━\u001b[0m\u001b[37m\u001b[0m \u001b[1m1s\u001b[0m 11ms/step - accuracy: 0.2796 - loss: 3.3767 \n",
            "Epoch 2/10\n",
            "\u001b[1m5/5\u001b[0m \u001b[32m━━━━━━━━━━━━━━━━━━━━\u001b[0m\u001b[37m\u001b[0m \u001b[1m0s\u001b[0m 10ms/step - accuracy: 0.2991 - loss: 1.9645\n",
            "Epoch 3/10\n",
            "\u001b[1m5/5\u001b[0m \u001b[32m━━━━━━━━━━━━━━━━━━━━\u001b[0m\u001b[37m\u001b[0m \u001b[1m0s\u001b[0m 10ms/step - accuracy: 0.3676 - loss: 1.0557\n",
            "Epoch 4/10\n",
            "\u001b[1m5/5\u001b[0m \u001b[32m━━━━━━━━━━━━━━━━━━━━\u001b[0m\u001b[37m\u001b[0m \u001b[1m0s\u001b[0m 10ms/step - accuracy: 0.4241 - loss: 0.9718\n",
            "Epoch 5/10\n",
            "\u001b[1m5/5\u001b[0m \u001b[32m━━━━━━━━━━━━━━━━━━━━\u001b[0m\u001b[37m\u001b[0m \u001b[1m0s\u001b[0m 10ms/step - accuracy: 0.5491 - loss: 1.1847\n",
            "Epoch 6/10\n",
            "\u001b[1m5/5\u001b[0m \u001b[32m━━━━━━━━━━━━━━━━━━━━\u001b[0m\u001b[37m\u001b[0m \u001b[1m0s\u001b[0m 11ms/step - accuracy: 0.6750 - loss: 0.8641 \n",
            "Epoch 7/10\n",
            "\u001b[1m5/5\u001b[0m \u001b[32m━━━━━━━━━━━━━━━━━━━━\u001b[0m\u001b[37m\u001b[0m \u001b[1m0s\u001b[0m 10ms/step - accuracy: 0.5306 - loss: 1.1505\n",
            "Epoch 8/10\n",
            "\u001b[1m5/5\u001b[0m \u001b[32m━━━━━━━━━━━━━━━━━━━━\u001b[0m\u001b[37m\u001b[0m \u001b[1m0s\u001b[0m 10ms/step - accuracy: 0.5315 - loss: 1.4639\n",
            "Epoch 9/10\n",
            "\u001b[1m5/5\u001b[0m \u001b[32m━━━━━━━━━━━━━━━━━━━━\u001b[0m\u001b[37m\u001b[0m \u001b[1m0s\u001b[0m 11ms/step - accuracy: 0.6481 - loss: 0.8368\n",
            "Epoch 10/10\n",
            "\u001b[1m5/5\u001b[0m \u001b[32m━━━━━━━━━━━━━━━━━━━━\u001b[0m\u001b[37m\u001b[0m \u001b[1m0s\u001b[0m 11ms/step - accuracy: 0.6722 - loss: 0.9563\n"
          ]
        },
        {
          "output_type": "execute_result",
          "data": {
            "text/plain": [
              "<keras.src.callbacks.history.History at 0x7d40e343c990>"
            ]
          },
          "metadata": {},
          "execution_count": 299
        }
      ],
      "source": [
        "# Train the model with the reshaped input data\n",
        "custom_model.fit(X_train, y_train, epochs=10, batch_size=15)"
      ]
    },
    {
      "cell_type": "code",
      "execution_count": null,
      "id": "6d92abc0-3c55-4e9c-b969-1be198aba246",
      "metadata": {
        "colab": {
          "base_uri": "https://localhost:8080/"
        },
        "id": "6d92abc0-3c55-4e9c-b969-1be198aba246",
        "outputId": "6ef973f4-ff67-47e6-ab3f-030a5ebaa8c1"
      },
      "outputs": [
        {
          "output_type": "stream",
          "name": "stdout",
          "text": [
            "\u001b[1m1/1\u001b[0m \u001b[32m━━━━━━━━━━━━━━━━━━━━\u001b[0m\u001b[37m\u001b[0m \u001b[1m0s\u001b[0m 104ms/step\n"
          ]
        }
      ],
      "source": [
        "# Make predictions on the testing set\n",
        "y_pred = custom_model.predict(X_test)\n",
        "\n",
        "# Convert one-hot encoded predictions to class labels (optional)\n",
        "y_pred_classes = np.argmax(y_pred, axis=1)"
      ]
    },
    {
      "cell_type": "code",
      "execution_count": null,
      "id": "6587a0f3-3885-4a13-b4d2-e06ede5804af",
      "metadata": {
        "colab": {
          "base_uri": "https://localhost:8080/"
        },
        "id": "6587a0f3-3885-4a13-b4d2-e06ede5804af",
        "outputId": "90408ec3-7955-4238-e6e0-fd866e19560d"
      },
      "outputs": [
        {
          "output_type": "stream",
          "name": "stdout",
          "text": [
            "\u001b[1m1/1\u001b[0m \u001b[32m━━━━━━━━━━━━━━━━━━━━\u001b[0m\u001b[37m\u001b[0m \u001b[1m0s\u001b[0m 263ms/step - accuracy: 0.6667 - loss: 0.9181\n",
            "Test accuracy: 0.6666666865348816\n"
          ]
        }
      ],
      "source": [
        "# Evaluate the model\n",
        "test_loss, test_acc = custom_model.evaluate(X_test, y_test)\n",
        "print('Test accuracy:', test_acc)"
      ]
    },
    {
      "cell_type": "markdown",
      "id": "576c9293-7a4f-4271-a0d5-69a4b03e23c0",
      "metadata": {
        "id": "576c9293-7a4f-4271-a0d5-69a4b03e23c0"
      },
      "source": [
        "\n",
        "Now we get the Positive result and the model accuracy was \"0.66\".\n",
        "\n",
        "From the above testings we get the Maximum test accuracy as \"0.66\" and Minimum test accuracy as \"0.22\""
      ]
    },
    {
      "cell_type": "markdown",
      "id": "40d2ee5f-f943-47b7-ac3c-9fbf19651c1b",
      "metadata": {
        "id": "40d2ee5f-f943-47b7-ac3c-9fbf19651c1b"
      },
      "source": [
        "Now we choose the final testing as Our model and continue our process"
      ]
    },
    {
      "cell_type": "code",
      "execution_count": null,
      "id": "7b19db0e-add7-4752-b16a-a801c97527ec",
      "metadata": {
        "id": "7b19db0e-add7-4752-b16a-a801c97527ec"
      },
      "outputs": [],
      "source": [
        "import pandas as pd\n",
        "import numpy as np\n",
        "from sklearn.model_selection import train_test_split\n",
        "from keras.models import Sequential\n",
        "from keras.layers import Dense\n",
        "from keras.utils import to_categorical\n",
        "from sklearn.preprocessing import OneHotEncoder\n",
        "from sklearn.preprocessing import LabelEncoder"
      ]
    },
    {
      "cell_type": "code",
      "execution_count": null,
      "id": "e8c83bde-b72b-4e9a-b872-17b7350e0b48",
      "metadata": {
        "colab": {
          "base_uri": "https://localhost:8080/",
          "height": 74
        },
        "id": "e8c83bde-b72b-4e9a-b872-17b7350e0b48",
        "outputId": "a720493f-cc41-4bb8-f39b-a8e1e6d3ff1b"
      },
      "outputs": [
        {
          "output_type": "display_data",
          "data": {
            "text/plain": [
              "<IPython.core.display.HTML object>"
            ],
            "text/html": [
              "\n",
              "     <input type=\"file\" id=\"files-f96cbed2-de2a-4322-88f1-6b8e8ee667a6\" name=\"files[]\" multiple disabled\n",
              "        style=\"border:none\" />\n",
              "     <output id=\"result-f96cbed2-de2a-4322-88f1-6b8e8ee667a6\">\n",
              "      Upload widget is only available when the cell has been executed in the\n",
              "      current browser session. Please rerun this cell to enable.\n",
              "      </output>\n",
              "      <script>// Copyright 2017 Google LLC\n",
              "//\n",
              "// Licensed under the Apache License, Version 2.0 (the \"License\");\n",
              "// you may not use this file except in compliance with the License.\n",
              "// You may obtain a copy of the License at\n",
              "//\n",
              "//      http://www.apache.org/licenses/LICENSE-2.0\n",
              "//\n",
              "// Unless required by applicable law or agreed to in writing, software\n",
              "// distributed under the License is distributed on an \"AS IS\" BASIS,\n",
              "// WITHOUT WARRANTIES OR CONDITIONS OF ANY KIND, either express or implied.\n",
              "// See the License for the specific language governing permissions and\n",
              "// limitations under the License.\n",
              "\n",
              "/**\n",
              " * @fileoverview Helpers for google.colab Python module.\n",
              " */\n",
              "(function(scope) {\n",
              "function span(text, styleAttributes = {}) {\n",
              "  const element = document.createElement('span');\n",
              "  element.textContent = text;\n",
              "  for (const key of Object.keys(styleAttributes)) {\n",
              "    element.style[key] = styleAttributes[key];\n",
              "  }\n",
              "  return element;\n",
              "}\n",
              "\n",
              "// Max number of bytes which will be uploaded at a time.\n",
              "const MAX_PAYLOAD_SIZE = 100 * 1024;\n",
              "\n",
              "function _uploadFiles(inputId, outputId) {\n",
              "  const steps = uploadFilesStep(inputId, outputId);\n",
              "  const outputElement = document.getElementById(outputId);\n",
              "  // Cache steps on the outputElement to make it available for the next call\n",
              "  // to uploadFilesContinue from Python.\n",
              "  outputElement.steps = steps;\n",
              "\n",
              "  return _uploadFilesContinue(outputId);\n",
              "}\n",
              "\n",
              "// This is roughly an async generator (not supported in the browser yet),\n",
              "// where there are multiple asynchronous steps and the Python side is going\n",
              "// to poll for completion of each step.\n",
              "// This uses a Promise to block the python side on completion of each step,\n",
              "// then passes the result of the previous step as the input to the next step.\n",
              "function _uploadFilesContinue(outputId) {\n",
              "  const outputElement = document.getElementById(outputId);\n",
              "  const steps = outputElement.steps;\n",
              "\n",
              "  const next = steps.next(outputElement.lastPromiseValue);\n",
              "  return Promise.resolve(next.value.promise).then((value) => {\n",
              "    // Cache the last promise value to make it available to the next\n",
              "    // step of the generator.\n",
              "    outputElement.lastPromiseValue = value;\n",
              "    return next.value.response;\n",
              "  });\n",
              "}\n",
              "\n",
              "/**\n",
              " * Generator function which is called between each async step of the upload\n",
              " * process.\n",
              " * @param {string} inputId Element ID of the input file picker element.\n",
              " * @param {string} outputId Element ID of the output display.\n",
              " * @return {!Iterable<!Object>} Iterable of next steps.\n",
              " */\n",
              "function* uploadFilesStep(inputId, outputId) {\n",
              "  const inputElement = document.getElementById(inputId);\n",
              "  inputElement.disabled = false;\n",
              "\n",
              "  const outputElement = document.getElementById(outputId);\n",
              "  outputElement.innerHTML = '';\n",
              "\n",
              "  const pickedPromise = new Promise((resolve) => {\n",
              "    inputElement.addEventListener('change', (e) => {\n",
              "      resolve(e.target.files);\n",
              "    });\n",
              "  });\n",
              "\n",
              "  const cancel = document.createElement('button');\n",
              "  inputElement.parentElement.appendChild(cancel);\n",
              "  cancel.textContent = 'Cancel upload';\n",
              "  const cancelPromise = new Promise((resolve) => {\n",
              "    cancel.onclick = () => {\n",
              "      resolve(null);\n",
              "    };\n",
              "  });\n",
              "\n",
              "  // Wait for the user to pick the files.\n",
              "  const files = yield {\n",
              "    promise: Promise.race([pickedPromise, cancelPromise]),\n",
              "    response: {\n",
              "      action: 'starting',\n",
              "    }\n",
              "  };\n",
              "\n",
              "  cancel.remove();\n",
              "\n",
              "  // Disable the input element since further picks are not allowed.\n",
              "  inputElement.disabled = true;\n",
              "\n",
              "  if (!files) {\n",
              "    return {\n",
              "      response: {\n",
              "        action: 'complete',\n",
              "      }\n",
              "    };\n",
              "  }\n",
              "\n",
              "  for (const file of files) {\n",
              "    const li = document.createElement('li');\n",
              "    li.append(span(file.name, {fontWeight: 'bold'}));\n",
              "    li.append(span(\n",
              "        `(${file.type || 'n/a'}) - ${file.size} bytes, ` +\n",
              "        `last modified: ${\n",
              "            file.lastModifiedDate ? file.lastModifiedDate.toLocaleDateString() :\n",
              "                                    'n/a'} - `));\n",
              "    const percent = span('0% done');\n",
              "    li.appendChild(percent);\n",
              "\n",
              "    outputElement.appendChild(li);\n",
              "\n",
              "    const fileDataPromise = new Promise((resolve) => {\n",
              "      const reader = new FileReader();\n",
              "      reader.onload = (e) => {\n",
              "        resolve(e.target.result);\n",
              "      };\n",
              "      reader.readAsArrayBuffer(file);\n",
              "    });\n",
              "    // Wait for the data to be ready.\n",
              "    let fileData = yield {\n",
              "      promise: fileDataPromise,\n",
              "      response: {\n",
              "        action: 'continue',\n",
              "      }\n",
              "    };\n",
              "\n",
              "    // Use a chunked sending to avoid message size limits. See b/62115660.\n",
              "    let position = 0;\n",
              "    do {\n",
              "      const length = Math.min(fileData.byteLength - position, MAX_PAYLOAD_SIZE);\n",
              "      const chunk = new Uint8Array(fileData, position, length);\n",
              "      position += length;\n",
              "\n",
              "      const base64 = btoa(String.fromCharCode.apply(null, chunk));\n",
              "      yield {\n",
              "        response: {\n",
              "          action: 'append',\n",
              "          file: file.name,\n",
              "          data: base64,\n",
              "        },\n",
              "      };\n",
              "\n",
              "      let percentDone = fileData.byteLength === 0 ?\n",
              "          100 :\n",
              "          Math.round((position / fileData.byteLength) * 100);\n",
              "      percent.textContent = `${percentDone}% done`;\n",
              "\n",
              "    } while (position < fileData.byteLength);\n",
              "  }\n",
              "\n",
              "  // All done.\n",
              "  yield {\n",
              "    response: {\n",
              "      action: 'complete',\n",
              "    }\n",
              "  };\n",
              "}\n",
              "\n",
              "scope.google = scope.google || {};\n",
              "scope.google.colab = scope.google.colab || {};\n",
              "scope.google.colab._files = {\n",
              "  _uploadFiles,\n",
              "  _uploadFilesContinue,\n",
              "};\n",
              "})(self);\n",
              "</script> "
            ]
          },
          "metadata": {}
        },
        {
          "output_type": "stream",
          "name": "stdout",
          "text": [
            "Saving Madhuca-longifolia.jpg to Madhuca-longifolia (30).jpg\n"
          ]
        }
      ],
      "source": [
        "from google.colab import files\n",
        "uploaded = files.upload()\n",
        "import pandas as pd\n",
        "# Load data from CSV file\n",
        "# file_path = r'C:\\Users\\spthe\\OneDrive\\Desktop\\TreeDataSet.csv'  # Update with the correct file path\n",
        "data = pd.read_csv('TreeDataSet.csv')"
      ]
    },
    {
      "cell_type": "code",
      "execution_count": null,
      "id": "70c831f3-bd1b-45c6-a924-94309e9bb8c7",
      "metadata": {
        "id": "70c831f3-bd1b-45c6-a924-94309e9bb8c7"
      },
      "outputs": [],
      "source": [
        "# Adjust column names\n",
        "data.columns = ['TreeSpecies', 'Ratio', 'Angle']"
      ]
    },
    {
      "cell_type": "code",
      "execution_count": null,
      "id": "f9486dc1-43a6-4343-b83c-dbaa3db26a42",
      "metadata": {
        "colab": {
          "base_uri": "https://localhost:8080/"
        },
        "id": "f9486dc1-43a6-4343-b83c-dbaa3db26a42",
        "outputId": "b1948fb3-858b-4312-bf76-f4685396c807"
      },
      "outputs": [
        {
          "output_type": "stream",
          "name": "stdout",
          "text": [
            "Data types in features (X):\n",
            "Ratio    float64\n",
            "Angle      int64\n",
            "dtype: object\n",
            "Data type in labels (y):\n",
            "object\n"
          ]
        }
      ],
      "source": [
        "# Check for data types in features and labels (for debugging)\n",
        "print(\"Data types in features (X):\")\n",
        "print(data[[ 'Ratio', 'Angle']].dtypes)\n",
        "print(\"Data type in labels (y):\")\n",
        "print(data['TreeSpecies'].dtype)"
      ]
    },
    {
      "cell_type": "code",
      "execution_count": null,
      "id": "a87c6c93-5e7c-414c-8ad1-680e00b61b20",
      "metadata": {
        "id": "a87c6c93-5e7c-414c-8ad1-680e00b61b20"
      },
      "outputs": [],
      "source": [
        "# Prepare features and labels\n",
        "# Select features excluding column names\n",
        "X = data[['Ratio', 'Angle']]"
      ]
    },
    {
      "cell_type": "code",
      "execution_count": null,
      "id": "17647995-6d0c-4e9f-ba59-c2d11b1d8275",
      "metadata": {
        "id": "17647995-6d0c-4e9f-ba59-c2d11b1d8275"
      },
      "outputs": [],
      "source": [
        "# Attempt to convert features to numerics (assuming numerical data)\n",
        "X = X.apply(pd.to_numeric, errors='coerce').values"
      ]
    },
    {
      "cell_type": "code",
      "execution_count": null,
      "id": "e28a6e7c-0953-4073-83ff-d0316e44ce24",
      "metadata": {
        "id": "e28a6e7c-0953-4073-83ff-d0316e44ce24"
      },
      "outputs": [],
      "source": [
        "# Encode labels into integers (assuming categorical labels)\n",
        "label_encoder = LabelEncoder()\n",
        "y = label_encoder.fit_transform(data['TreeSpecies'].values)"
      ]
    },
    {
      "cell_type": "code",
      "execution_count": null,
      "id": "a3c257dc-082f-40b2-bb19-fa1326b3e5d4",
      "metadata": {
        "colab": {
          "base_uri": "https://localhost:8080/"
        },
        "id": "a3c257dc-082f-40b2-bb19-fa1326b3e5d4",
        "outputId": "67d35daa-5070-407c-eb96-516b9f4ca949"
      },
      "outputs": [
        {
          "output_type": "stream",
          "name": "stdout",
          "text": [
            "Number of unique classes after label encoding: 3\n"
          ]
        }
      ],
      "source": [
        "# Check the number of unique classes after label encoding (for debugging)\n",
        "print(\"Number of unique classes after label encoding:\", len(label_encoder.classes_))"
      ]
    },
    {
      "cell_type": "code",
      "execution_count": null,
      "id": "a26dba2e-67f2-4083-9faf-23ee5388c6b6",
      "metadata": {
        "id": "a26dba2e-67f2-4083-9faf-23ee5388c6b6"
      },
      "outputs": [],
      "source": [
        "# Convert labels to categorical (one-hot encoding)\n",
        "encoder = OneHotEncoder(sparse_output=False)\n",
        "y = encoder.fit_transform(y.reshape(-1, 1))  # Reshape for compatibility"
      ]
    },
    {
      "cell_type": "code",
      "execution_count": null,
      "id": "b12ff91f-c790-4e39-8d28-9bd9bd93fdb2",
      "metadata": {
        "colab": {
          "base_uri": "https://localhost:8080/"
        },
        "id": "b12ff91f-c790-4e39-8d28-9bd9bd93fdb2",
        "outputId": "6166c28b-d760-4f3d-f2a5-ce8efa1e9265"
      },
      "outputs": [
        {
          "output_type": "stream",
          "name": "stdout",
          "text": [
            "Shape of encoded labels (y): (90, 3)\n"
          ]
        }
      ],
      "source": [
        "# Check the shape of the encoded labels (for debugging)\n",
        "print(\"Shape of encoded labels (y):\", y.shape)"
      ]
    },
    {
      "cell_type": "code",
      "execution_count": null,
      "id": "866c75f5-9ea7-4d57-bab1-b591b0b10408",
      "metadata": {
        "id": "866c75f5-9ea7-4d57-bab1-b591b0b10408"
      },
      "outputs": [],
      "source": [
        "# Split data into training and testing sets\n",
        "X_train, X_test, y_train, y_test = train_test_split(X, y, test_size=0.2, random_state=3)"
      ]
    },
    {
      "cell_type": "code",
      "execution_count": null,
      "id": "ea8fbe97-9a5a-4545-a990-936a0922aba3",
      "metadata": {
        "colab": {
          "base_uri": "https://localhost:8080/"
        },
        "id": "ea8fbe97-9a5a-4545-a990-936a0922aba3",
        "outputId": "a38a9ba6-b664-45c4-82b5-bdc9356fc46f"
      },
      "outputs": [
        {
          "output_type": "stream",
          "name": "stdout",
          "text": [
            "Shape of training features (X_train): (72, 2)\n"
          ]
        }
      ],
      "source": [
        "# Print the shape of training features (for debugging)\n",
        "print(\"Shape of training features (X_train):\", X_train.shape)"
      ]
    },
    {
      "cell_type": "code",
      "execution_count": null,
      "id": "878a2c1a-2fc2-4ba0-9407-5374f84f9f84",
      "metadata": {
        "id": "878a2c1a-2fc2-4ba0-9407-5374f84f9f84"
      },
      "outputs": [],
      "source": [
        "from keras.models import Model\n",
        "from keras.layers import Input, Dense\n",
        "\n",
        "# Define the input layer with shape (2,)\n",
        "input_layer = Input(shape=(2,))\n",
        "\n",
        "# Define the layers of the model\n",
        "hidden_layer1 = Dense(units=90, activation='relu')(input_layer) # First hidden layer with 30 units and ReLU activation\n",
        "hidden_layer2 = Dense(units=30, activation='relu')(hidden_layer1) # Second hidden layer with 30 units and ReLU activation\n",
        "output_layer = Dense(units=3, activation='softmax')(hidden_layer2) # Output layer with 5 units and softmax activation\n",
        "\n",
        "# Define the model\n",
        "custom_model = Model(inputs=input_layer, outputs=output_layer) # Creating a model with specified input and output layers"
      ]
    },
    {
      "cell_type": "code",
      "execution_count": null,
      "id": "d2336269-8bda-4da6-8539-52301c0c75b7",
      "metadata": {
        "id": "d2336269-8bda-4da6-8539-52301c0c75b7"
      },
      "outputs": [],
      "source": [
        "# Compile the model\n",
        "custom_model.compile(optimizer='rmsprop',\n",
        "                     loss='categorical_crossentropy',\n",
        "                     metrics=['accuracy'])"
      ]
    },
    {
      "cell_type": "code",
      "execution_count": null,
      "id": "c624bf1d-635c-4a6d-b902-3364445c8bd3",
      "metadata": {
        "colab": {
          "base_uri": "https://localhost:8080/"
        },
        "id": "c624bf1d-635c-4a6d-b902-3364445c8bd3",
        "outputId": "ee95a23d-273f-42b1-ec87-634f547f19d1"
      },
      "outputs": [
        {
          "output_type": "stream",
          "name": "stdout",
          "text": [
            "Epoch 1/10\n",
            "\u001b[1m5/5\u001b[0m \u001b[32m━━━━━━━━━━━━━━━━━━━━\u001b[0m\u001b[37m\u001b[0m \u001b[1m1s\u001b[0m 10ms/step - accuracy: 0.3898 - loss: 1.6429 \n",
            "Epoch 2/10\n",
            "\u001b[1m5/5\u001b[0m \u001b[32m━━━━━━━━━━━━━━━━━━━━\u001b[0m\u001b[37m\u001b[0m \u001b[1m0s\u001b[0m 10ms/step - accuracy: 0.2269 - loss: 1.4270\n",
            "Epoch 3/10\n",
            "\u001b[1m5/5\u001b[0m \u001b[32m━━━━━━━━━━━━━━━━━━━━\u001b[0m\u001b[37m\u001b[0m \u001b[1m0s\u001b[0m 10ms/step - accuracy: 0.3685 - loss: 1.1775\n",
            "Epoch 4/10\n",
            "\u001b[1m5/5\u001b[0m \u001b[32m━━━━━━━━━━━━━━━━━━━━\u001b[0m\u001b[37m\u001b[0m \u001b[1m0s\u001b[0m 10ms/step - accuracy: 0.2954 - loss: 1.0681\n",
            "Epoch 5/10\n",
            "\u001b[1m5/5\u001b[0m \u001b[32m━━━━━━━━━━━━━━━━━━━━\u001b[0m\u001b[37m\u001b[0m \u001b[1m0s\u001b[0m 10ms/step - accuracy: 0.4343 - loss: 0.9912 \n",
            "Epoch 6/10\n",
            "\u001b[1m5/5\u001b[0m \u001b[32m━━━━━━━━━━━━━━━━━━━━\u001b[0m\u001b[37m\u001b[0m \u001b[1m0s\u001b[0m 11ms/step - accuracy: 0.4500 - loss: 0.9521\n",
            "Epoch 7/10\n",
            "\u001b[1m5/5\u001b[0m \u001b[32m━━━━━━━━━━━━━━━━━━━━\u001b[0m\u001b[37m\u001b[0m \u001b[1m0s\u001b[0m 10ms/step - accuracy: 0.5435 - loss: 1.0469\n",
            "Epoch 8/10\n",
            "\u001b[1m5/5\u001b[0m \u001b[32m━━━━━━━━━━━━━━━━━━━━\u001b[0m\u001b[37m\u001b[0m \u001b[1m0s\u001b[0m 9ms/step - accuracy: 0.4907 - loss: 1.1551 \n",
            "Epoch 9/10\n",
            "\u001b[1m5/5\u001b[0m \u001b[32m━━━━━━━━━━━━━━━━━━━━\u001b[0m\u001b[37m\u001b[0m \u001b[1m0s\u001b[0m 10ms/step - accuracy: 0.6019 - loss: 0.8817\n",
            "Epoch 10/10\n",
            "\u001b[1m5/5\u001b[0m \u001b[32m━━━━━━━━━━━━━━━━━━━━\u001b[0m\u001b[37m\u001b[0m \u001b[1m0s\u001b[0m 10ms/step - accuracy: 0.5389 - loss: 0.9054\n"
          ]
        },
        {
          "output_type": "execute_result",
          "data": {
            "text/plain": [
              "<keras.src.callbacks.history.History at 0x7d40e2a3be10>"
            ]
          },
          "metadata": {},
          "execution_count": 316
        }
      ],
      "source": [
        "# Train the model with the reshaped input data\n",
        "custom_model.fit(X_train, y_train, epochs=10, batch_size=15)"
      ]
    },
    {
      "cell_type": "code",
      "execution_count": null,
      "id": "7a959128-a5ad-44c9-a99d-7b2b96236245",
      "metadata": {
        "colab": {
          "base_uri": "https://localhost:8080/"
        },
        "id": "7a959128-a5ad-44c9-a99d-7b2b96236245",
        "outputId": "a5f9d717-82fd-4c31-a5a9-028ea8b0ffae"
      },
      "outputs": [
        {
          "output_type": "stream",
          "name": "stdout",
          "text": [
            "\u001b[1m1/1\u001b[0m \u001b[32m━━━━━━━━━━━━━━━━━━━━\u001b[0m\u001b[37m\u001b[0m \u001b[1m0s\u001b[0m 82ms/step\n"
          ]
        }
      ],
      "source": [
        "# Make predictions on the testing set\n",
        "y_pred = custom_model.predict(X_test)\n",
        "\n",
        "# Convert one-hot encoded predictions to class labels (optional)\n",
        "y_pred_classes = np.argmax(y_pred, axis=1)"
      ]
    },
    {
      "cell_type": "code",
      "execution_count": null,
      "id": "5d0f58c1-74c1-4fa1-8561-b20b5175a650",
      "metadata": {
        "colab": {
          "base_uri": "https://localhost:8080/"
        },
        "id": "5d0f58c1-74c1-4fa1-8561-b20b5175a650",
        "outputId": "6a8337d2-0b9e-4a5b-e7b5-f641ede60708"
      },
      "outputs": [
        {
          "output_type": "stream",
          "name": "stdout",
          "text": [
            "\u001b[1m1/1\u001b[0m \u001b[32m━━━━━━━━━━━━━━━━━━━━\u001b[0m\u001b[37m\u001b[0m \u001b[1m0s\u001b[0m 242ms/step - accuracy: 0.5000 - loss: 0.9164\n",
            "Test accuracy: 0.5\n"
          ]
        }
      ],
      "source": [
        "# Evaluate the model\n",
        "test_loss, test_acc = custom_model.evaluate(X_test, y_test)\n",
        "print('Test accuracy:', test_acc)"
      ]
    },
    {
      "cell_type": "markdown",
      "id": "25ae7635-006c-48ae-8803-8c8652c8c4f1",
      "metadata": {
        "id": "25ae7635-006c-48ae-8803-8c8652c8c4f1"
      },
      "source": [
        "Now we add early stopping method to our selected model\n"
      ]
    },
    {
      "cell_type": "code",
      "execution_count": null,
      "id": "5eab41b4-f4c6-4d3e-9429-41717f6ffd68",
      "metadata": {
        "id": "5eab41b4-f4c6-4d3e-9429-41717f6ffd68"
      },
      "outputs": [],
      "source": [
        "import pandas as pd\n",
        "import numpy as np\n",
        "from sklearn.model_selection import train_test_split\n",
        "from keras.models import Model\n",
        "from keras.layers import Dense, Input\n",
        "from keras.utils import to_categorical\n",
        "from sklearn.preprocessing import OneHotEncoder, LabelEncoder\n",
        "from keras.callbacks import EarlyStopping, ModelCheckpoint\n",
        "import matplotlib.pyplot as plt"
      ]
    },
    {
      "cell_type": "code",
      "execution_count": null,
      "id": "b556e1f7-5898-4155-ae1a-057fa9c8ddbe",
      "metadata": {
        "colab": {
          "base_uri": "https://localhost:8080/",
          "height": 74
        },
        "id": "b556e1f7-5898-4155-ae1a-057fa9c8ddbe",
        "outputId": "105b74b7-ce70-4d67-9ecd-0a8462a2e131"
      },
      "outputs": [
        {
          "output_type": "display_data",
          "data": {
            "text/plain": [
              "<IPython.core.display.HTML object>"
            ],
            "text/html": [
              "\n",
              "     <input type=\"file\" id=\"files-91406aff-0ce6-4bae-a617-c7f130626fbd\" name=\"files[]\" multiple disabled\n",
              "        style=\"border:none\" />\n",
              "     <output id=\"result-91406aff-0ce6-4bae-a617-c7f130626fbd\">\n",
              "      Upload widget is only available when the cell has been executed in the\n",
              "      current browser session. Please rerun this cell to enable.\n",
              "      </output>\n",
              "      <script>// Copyright 2017 Google LLC\n",
              "//\n",
              "// Licensed under the Apache License, Version 2.0 (the \"License\");\n",
              "// you may not use this file except in compliance with the License.\n",
              "// You may obtain a copy of the License at\n",
              "//\n",
              "//      http://www.apache.org/licenses/LICENSE-2.0\n",
              "//\n",
              "// Unless required by applicable law or agreed to in writing, software\n",
              "// distributed under the License is distributed on an \"AS IS\" BASIS,\n",
              "// WITHOUT WARRANTIES OR CONDITIONS OF ANY KIND, either express or implied.\n",
              "// See the License for the specific language governing permissions and\n",
              "// limitations under the License.\n",
              "\n",
              "/**\n",
              " * @fileoverview Helpers for google.colab Python module.\n",
              " */\n",
              "(function(scope) {\n",
              "function span(text, styleAttributes = {}) {\n",
              "  const element = document.createElement('span');\n",
              "  element.textContent = text;\n",
              "  for (const key of Object.keys(styleAttributes)) {\n",
              "    element.style[key] = styleAttributes[key];\n",
              "  }\n",
              "  return element;\n",
              "}\n",
              "\n",
              "// Max number of bytes which will be uploaded at a time.\n",
              "const MAX_PAYLOAD_SIZE = 100 * 1024;\n",
              "\n",
              "function _uploadFiles(inputId, outputId) {\n",
              "  const steps = uploadFilesStep(inputId, outputId);\n",
              "  const outputElement = document.getElementById(outputId);\n",
              "  // Cache steps on the outputElement to make it available for the next call\n",
              "  // to uploadFilesContinue from Python.\n",
              "  outputElement.steps = steps;\n",
              "\n",
              "  return _uploadFilesContinue(outputId);\n",
              "}\n",
              "\n",
              "// This is roughly an async generator (not supported in the browser yet),\n",
              "// where there are multiple asynchronous steps and the Python side is going\n",
              "// to poll for completion of each step.\n",
              "// This uses a Promise to block the python side on completion of each step,\n",
              "// then passes the result of the previous step as the input to the next step.\n",
              "function _uploadFilesContinue(outputId) {\n",
              "  const outputElement = document.getElementById(outputId);\n",
              "  const steps = outputElement.steps;\n",
              "\n",
              "  const next = steps.next(outputElement.lastPromiseValue);\n",
              "  return Promise.resolve(next.value.promise).then((value) => {\n",
              "    // Cache the last promise value to make it available to the next\n",
              "    // step of the generator.\n",
              "    outputElement.lastPromiseValue = value;\n",
              "    return next.value.response;\n",
              "  });\n",
              "}\n",
              "\n",
              "/**\n",
              " * Generator function which is called between each async step of the upload\n",
              " * process.\n",
              " * @param {string} inputId Element ID of the input file picker element.\n",
              " * @param {string} outputId Element ID of the output display.\n",
              " * @return {!Iterable<!Object>} Iterable of next steps.\n",
              " */\n",
              "function* uploadFilesStep(inputId, outputId) {\n",
              "  const inputElement = document.getElementById(inputId);\n",
              "  inputElement.disabled = false;\n",
              "\n",
              "  const outputElement = document.getElementById(outputId);\n",
              "  outputElement.innerHTML = '';\n",
              "\n",
              "  const pickedPromise = new Promise((resolve) => {\n",
              "    inputElement.addEventListener('change', (e) => {\n",
              "      resolve(e.target.files);\n",
              "    });\n",
              "  });\n",
              "\n",
              "  const cancel = document.createElement('button');\n",
              "  inputElement.parentElement.appendChild(cancel);\n",
              "  cancel.textContent = 'Cancel upload';\n",
              "  const cancelPromise = new Promise((resolve) => {\n",
              "    cancel.onclick = () => {\n",
              "      resolve(null);\n",
              "    };\n",
              "  });\n",
              "\n",
              "  // Wait for the user to pick the files.\n",
              "  const files = yield {\n",
              "    promise: Promise.race([pickedPromise, cancelPromise]),\n",
              "    response: {\n",
              "      action: 'starting',\n",
              "    }\n",
              "  };\n",
              "\n",
              "  cancel.remove();\n",
              "\n",
              "  // Disable the input element since further picks are not allowed.\n",
              "  inputElement.disabled = true;\n",
              "\n",
              "  if (!files) {\n",
              "    return {\n",
              "      response: {\n",
              "        action: 'complete',\n",
              "      }\n",
              "    };\n",
              "  }\n",
              "\n",
              "  for (const file of files) {\n",
              "    const li = document.createElement('li');\n",
              "    li.append(span(file.name, {fontWeight: 'bold'}));\n",
              "    li.append(span(\n",
              "        `(${file.type || 'n/a'}) - ${file.size} bytes, ` +\n",
              "        `last modified: ${\n",
              "            file.lastModifiedDate ? file.lastModifiedDate.toLocaleDateString() :\n",
              "                                    'n/a'} - `));\n",
              "    const percent = span('0% done');\n",
              "    li.appendChild(percent);\n",
              "\n",
              "    outputElement.appendChild(li);\n",
              "\n",
              "    const fileDataPromise = new Promise((resolve) => {\n",
              "      const reader = new FileReader();\n",
              "      reader.onload = (e) => {\n",
              "        resolve(e.target.result);\n",
              "      };\n",
              "      reader.readAsArrayBuffer(file);\n",
              "    });\n",
              "    // Wait for the data to be ready.\n",
              "    let fileData = yield {\n",
              "      promise: fileDataPromise,\n",
              "      response: {\n",
              "        action: 'continue',\n",
              "      }\n",
              "    };\n",
              "\n",
              "    // Use a chunked sending to avoid message size limits. See b/62115660.\n",
              "    let position = 0;\n",
              "    do {\n",
              "      const length = Math.min(fileData.byteLength - position, MAX_PAYLOAD_SIZE);\n",
              "      const chunk = new Uint8Array(fileData, position, length);\n",
              "      position += length;\n",
              "\n",
              "      const base64 = btoa(String.fromCharCode.apply(null, chunk));\n",
              "      yield {\n",
              "        response: {\n",
              "          action: 'append',\n",
              "          file: file.name,\n",
              "          data: base64,\n",
              "        },\n",
              "      };\n",
              "\n",
              "      let percentDone = fileData.byteLength === 0 ?\n",
              "          100 :\n",
              "          Math.round((position / fileData.byteLength) * 100);\n",
              "      percent.textContent = `${percentDone}% done`;\n",
              "\n",
              "    } while (position < fileData.byteLength);\n",
              "  }\n",
              "\n",
              "  // All done.\n",
              "  yield {\n",
              "    response: {\n",
              "      action: 'complete',\n",
              "    }\n",
              "  };\n",
              "}\n",
              "\n",
              "scope.google = scope.google || {};\n",
              "scope.google.colab = scope.google.colab || {};\n",
              "scope.google.colab._files = {\n",
              "  _uploadFiles,\n",
              "  _uploadFilesContinue,\n",
              "};\n",
              "})(self);\n",
              "</script> "
            ]
          },
          "metadata": {}
        },
        {
          "output_type": "stream",
          "name": "stdout",
          "text": [
            "Saving R.jpg to R (9).jpg\n"
          ]
        }
      ],
      "source": [
        "from google.colab import files\n",
        "uploaded = files.upload()\n",
        "import pandas as pd\n",
        "# Load data from CSV file\n",
        "# file_path = r'C:\\Users\\spthe\\OneDrive\\Desktop\\TreeDataSet.csv'  # The file path\n",
        "data = pd.read_csv('TreeDataSet.csv')"
      ]
    },
    {
      "cell_type": "code",
      "execution_count": null,
      "id": "39ab06cc-5f6d-46cb-bf2b-4d7d3674137e",
      "metadata": {
        "id": "39ab06cc-5f6d-46cb-bf2b-4d7d3674137e"
      },
      "outputs": [],
      "source": [
        "# Adjust column names\n",
        "data.columns = ['TreeSpecies', 'Ratio', 'Angle']"
      ]
    },
    {
      "cell_type": "code",
      "execution_count": null,
      "id": "027d3a48-562d-4f05-958c-6015e041fb24",
      "metadata": {
        "colab": {
          "base_uri": "https://localhost:8080/"
        },
        "id": "027d3a48-562d-4f05-958c-6015e041fb24",
        "outputId": "4ebc2b22-36ca-4780-ab6b-1c32f28ea75b"
      },
      "outputs": [
        {
          "output_type": "stream",
          "name": "stdout",
          "text": [
            "Data types in features (X):\n",
            "Ratio    float64\n",
            "Angle      int64\n",
            "dtype: object\n",
            "Data type in labels (y):\n",
            "object\n"
          ]
        }
      ],
      "source": [
        "# Check for data types in features and labels (for debugging)\n",
        "print(\"Data types in features (X):\")\n",
        "print(data[['Ratio', 'Angle']].dtypes)\n",
        "print(\"Data type in labels (y):\")\n",
        "print(data['TreeSpecies'].dtype)"
      ]
    },
    {
      "cell_type": "code",
      "execution_count": null,
      "id": "6a8cf9b5-900c-432e-a118-0f17da10316e",
      "metadata": {
        "id": "6a8cf9b5-900c-432e-a118-0f17da10316e"
      },
      "outputs": [],
      "source": [
        "# Prepare features and labels\n",
        "X = data[['Ratio', 'Angle']].apply(pd.to_numeric, errors='coerce').values"
      ]
    },
    {
      "cell_type": "code",
      "execution_count": null,
      "id": "190b3280-5856-46ee-b99d-7b05e4e0582b",
      "metadata": {
        "colab": {
          "base_uri": "https://localhost:8080/"
        },
        "id": "190b3280-5856-46ee-b99d-7b05e4e0582b",
        "outputId": "265bba1c-1965-47ce-9dec-944702f2dd70"
      },
      "outputs": [
        {
          "output_type": "stream",
          "name": "stdout",
          "text": [
            "Number of unique classes after label encoding: 3\n"
          ]
        }
      ],
      "source": [
        "label_encoder = LabelEncoder()\n",
        "y = label_encoder.fit_transform(data['TreeSpecies'].values)\n",
        "print(\"Number of unique classes after label encoding:\", len(label_encoder.classes_))"
      ]
    },
    {
      "cell_type": "code",
      "execution_count": null,
      "id": "3010149a-f854-43ec-aa22-cdc2bd6ff168",
      "metadata": {
        "colab": {
          "base_uri": "https://localhost:8080/"
        },
        "id": "3010149a-f854-43ec-aa22-cdc2bd6ff168",
        "outputId": "95603264-8743-4522-dd79-dcc38f277bff"
      },
      "outputs": [
        {
          "output_type": "stream",
          "name": "stdout",
          "text": [
            "Shape of encoded labels (y): (90, 3)\n"
          ]
        }
      ],
      "source": [
        "encoder = OneHotEncoder(sparse_output=False)\n",
        "y = encoder.fit_transform(y.reshape(-1, 1))\n",
        "print(\"Shape of encoded labels (y):\", y.shape)"
      ]
    },
    {
      "cell_type": "code",
      "execution_count": null,
      "id": "80bfb2cb-d269-4d74-b857-b15d49d0f65a",
      "metadata": {
        "colab": {
          "base_uri": "https://localhost:8080/"
        },
        "id": "80bfb2cb-d269-4d74-b857-b15d49d0f65a",
        "outputId": "502cf991-ae5f-4098-87b2-cb960f29cdad"
      },
      "outputs": [
        {
          "output_type": "stream",
          "name": "stdout",
          "text": [
            "Shape of training features (X_train): (72, 2)\n"
          ]
        }
      ],
      "source": [
        "X_train, X_test, y_train, y_test = train_test_split(X, y, test_size=0.2, random_state=3)\n",
        "print(\"Shape of training features (X_train):\", X_train.shape)"
      ]
    },
    {
      "cell_type": "code",
      "execution_count": null,
      "id": "dd845e73-24d1-4130-abd6-66e04dfd0b89",
      "metadata": {
        "id": "dd845e73-24d1-4130-abd6-66e04dfd0b89"
      },
      "outputs": [],
      "source": [
        "# Define the input layer with shape (2,)\n",
        "input_layer = Input(shape=(2,))\n",
        "hidden_layer1 = Dense(units=90, activation='relu')(input_layer)\n",
        "hidden_layer2 = Dense(units=30, activation='relu')(hidden_layer1)\n",
        "output_layer = Dense(units=3, activation='softmax')(hidden_layer2)"
      ]
    },
    {
      "cell_type": "code",
      "execution_count": null,
      "id": "ab325ac5-6c7d-4b2b-8884-c3bded53fc5a",
      "metadata": {
        "id": "ab325ac5-6c7d-4b2b-8884-c3bded53fc5a"
      },
      "outputs": [],
      "source": [
        "# Define the model\n",
        "custom_model = Model(inputs=input_layer, outputs=output_layer)\n",
        "custom_model.compile(optimizer='rmsprop', loss='categorical_crossentropy', metrics=['accuracy'])"
      ]
    },
    {
      "cell_type": "code",
      "execution_count": null,
      "id": "30f997d9-f934-4674-9107-d131348f1275",
      "metadata": {
        "id": "30f997d9-f934-4674-9107-d131348f1275"
      },
      "outputs": [],
      "source": [
        "# Define early stopping and model checkpoint callbacks\n",
        "early_stopping = EarlyStopping(monitor='val_loss', patience=3, verbose=1, restore_best_weights=True)\n",
        "model_checkpoint = ModelCheckpoint(filepath='best_model.h5', monitor='val_loss', save_best_only=True, verbose=1)"
      ]
    },
    {
      "cell_type": "code",
      "execution_count": null,
      "id": "2c8dd790-31c3-495b-951c-1b0e7d58e392",
      "metadata": {
        "colab": {
          "base_uri": "https://localhost:8080/"
        },
        "id": "2c8dd790-31c3-495b-951c-1b0e7d58e392",
        "outputId": "9fa5d362-3038-4772-8cd6-2e91e8a5a813"
      },
      "outputs": [
        {
          "output_type": "stream",
          "name": "stdout",
          "text": [
            "Epoch 1/20\n",
            "\u001b[1m1/4\u001b[0m \u001b[32m━━━━━\u001b[0m\u001b[37m━━━━━━━━━━━━━━━\u001b[0m \u001b[1m2s\u001b[0m 870ms/step - accuracy: 0.2667 - loss: 8.4721\n",
            "Epoch 1: val_loss improved from inf to 1.64507, saving model to best_model.h5\n"
          ]
        },
        {
          "output_type": "stream",
          "name": "stderr",
          "text": [
            "WARNING:absl:You are saving your model as an HDF5 file via `model.save()` or `keras.saving.save_model(model)`. This file format is considered legacy. We recommend using instead the native Keras format, e.g. `model.save('my_model.keras')` or `keras.saving.save_model(model, 'my_model.keras')`. \n"
          ]
        },
        {
          "output_type": "stream",
          "name": "stdout",
          "text": [
            "\b\b\b\b\b\b\b\b\b\b\b\b\b\b\b\b\b\b\b\b\b\b\b\b\b\b\b\b\b\b\b\b\b\b\b\b\b\b\b\b\b\b\b\b\b\b\b\b\b\b\b\b\b\b\b\b\b\b\b\b\b\b\b\b\b\b\b\b\b\b\b\b\r\u001b[1m4/4\u001b[0m \u001b[32m━━━━━━━━━━━━━━━━━━━━\u001b[0m\u001b[37m\u001b[0m \u001b[1m1s\u001b[0m 116ms/step - accuracy: 0.2678 - loss: 5.8675 - val_accuracy: 0.4667 - val_loss: 1.6451\n",
            "Epoch 2/20\n",
            "\u001b[1m1/4\u001b[0m \u001b[32m━━━━━\u001b[0m\u001b[37m━━━━━━━━━━━━━━━\u001b[0m \u001b[1m0s\u001b[0m 28ms/step - accuracy: 0.4667 - loss: 1.5147\n",
            "Epoch 2: val_loss improved from 1.64507 to 1.14820, saving model to best_model.h5\n"
          ]
        },
        {
          "output_type": "stream",
          "name": "stderr",
          "text": [
            "WARNING:absl:You are saving your model as an HDF5 file via `model.save()` or `keras.saving.save_model(model)`. This file format is considered legacy. We recommend using instead the native Keras format, e.g. `model.save('my_model.keras')` or `keras.saving.save_model(model, 'my_model.keras')`. \n"
          ]
        },
        {
          "output_type": "stream",
          "name": "stdout",
          "text": [
            "\b\b\b\b\b\b\b\b\b\b\b\b\b\b\b\b\b\b\b\b\b\b\b\b\b\b\b\b\b\b\b\b\b\b\b\b\b\b\b\b\b\b\b\b\b\b\b\b\b\b\b\b\b\b\b\b\b\b\b\b\b\b\b\b\b\b\b\b\b\b\b\r\u001b[1m4/4\u001b[0m \u001b[32m━━━━━━━━━━━━━━━━━━━━\u001b[0m\u001b[37m\u001b[0m \u001b[1m0s\u001b[0m 38ms/step - accuracy: 0.4118 - loss: 1.5602 - val_accuracy: 0.4667 - val_loss: 1.1482\n",
            "Epoch 3/20\n",
            "\u001b[1m1/4\u001b[0m \u001b[32m━━━━━\u001b[0m\u001b[37m━━━━━━━━━━━━━━━\u001b[0m \u001b[1m0s\u001b[0m 35ms/step - accuracy: 0.2667 - loss: 1.4050\n",
            "Epoch 3: val_loss improved from 1.14820 to 1.00451, saving model to best_model.h5\n"
          ]
        },
        {
          "output_type": "stream",
          "name": "stderr",
          "text": [
            "WARNING:absl:You are saving your model as an HDF5 file via `model.save()` or `keras.saving.save_model(model)`. This file format is considered legacy. We recommend using instead the native Keras format, e.g. `model.save('my_model.keras')` or `keras.saving.save_model(model, 'my_model.keras')`. \n"
          ]
        },
        {
          "output_type": "stream",
          "name": "stdout",
          "text": [
            "\b\b\b\b\b\b\b\b\b\b\b\b\b\b\b\b\b\b\b\b\b\b\b\b\b\b\b\b\b\b\b\b\b\b\b\b\b\b\b\b\b\b\b\b\b\b\b\b\b\b\b\b\b\b\b\b\b\b\b\b\b\b\b\b\b\b\b\b\b\b\b\r\u001b[1m4/4\u001b[0m \u001b[32m━━━━━━━━━━━━━━━━━━━━\u001b[0m\u001b[37m\u001b[0m \u001b[1m0s\u001b[0m 39ms/step - accuracy: 0.3244 - loss: 1.1703 - val_accuracy: 0.4667 - val_loss: 1.0045\n",
            "Epoch 4/20\n",
            "\u001b[1m1/4\u001b[0m \u001b[32m━━━━━\u001b[0m\u001b[37m━━━━━━━━━━━━━━━\u001b[0m \u001b[1m0s\u001b[0m 32ms/step - accuracy: 0.4667 - loss: 1.1106\n",
            "Epoch 4: val_loss did not improve from 1.00451\n",
            "\u001b[1m4/4\u001b[0m \u001b[32m━━━━━━━━━━━━━━━━━━━━\u001b[0m\u001b[37m\u001b[0m \u001b[1m0s\u001b[0m 28ms/step - accuracy: 0.4281 - loss: 1.0413 - val_accuracy: 0.2000 - val_loss: 1.3768\n",
            "Epoch 5/20\n",
            "\u001b[1m1/4\u001b[0m \u001b[32m━━━━━\u001b[0m\u001b[37m━━━━━━━━━━━━━━━\u001b[0m \u001b[1m0s\u001b[0m 53ms/step - accuracy: 0.3333 - loss: 1.2791\n",
            "Epoch 5: val_loss improved from 1.00451 to 0.84105, saving model to best_model.h5\n"
          ]
        },
        {
          "output_type": "stream",
          "name": "stderr",
          "text": [
            "WARNING:absl:You are saving your model as an HDF5 file via `model.save()` or `keras.saving.save_model(model)`. This file format is considered legacy. We recommend using instead the native Keras format, e.g. `model.save('my_model.keras')` or `keras.saving.save_model(model, 'my_model.keras')`. \n"
          ]
        },
        {
          "output_type": "stream",
          "name": "stdout",
          "text": [
            "\b\b\b\b\b\b\b\b\b\b\b\b\b\b\b\b\b\b\b\b\b\b\b\b\b\b\b\b\b\b\b\b\b\b\b\b\b\b\b\b\b\b\b\b\b\b\b\b\b\b\b\b\b\b\b\b\b\b\b\b\b\b\b\b\b\b\b\b\b\b\b\r\u001b[1m4/4\u001b[0m \u001b[32m━━━━━━━━━━━━━━━━━━━━\u001b[0m\u001b[37m\u001b[0m \u001b[1m0s\u001b[0m 43ms/step - accuracy: 0.2815 - loss: 1.3825 - val_accuracy: 0.4667 - val_loss: 0.8410\n",
            "Epoch 6/20\n",
            "\u001b[1m1/4\u001b[0m \u001b[32m━━━━━\u001b[0m\u001b[37m━━━━━━━━━━━━━━━\u001b[0m \u001b[1m0s\u001b[0m 168ms/step - accuracy: 0.2000 - loss: 0.9611\n",
            "Epoch 6: val_loss did not improve from 0.84105\n",
            "\u001b[1m4/4\u001b[0m \u001b[32m━━━━━━━━━━━━━━━━━━━━\u001b[0m\u001b[37m\u001b[0m \u001b[1m0s\u001b[0m 30ms/step - accuracy: 0.3607 - loss: 1.0033 - val_accuracy: 0.5333 - val_loss: 0.9550\n",
            "Epoch 7/20\n",
            "\u001b[1m1/4\u001b[0m \u001b[32m━━━━━\u001b[0m\u001b[37m━━━━━━━━━━━━━━━\u001b[0m \u001b[1m0s\u001b[0m 46ms/step - accuracy: 0.5333 - loss: 0.8588\n",
            "Epoch 7: val_loss did not improve from 0.84105\n",
            "\u001b[1m4/4\u001b[0m \u001b[32m━━━━━━━━━━━━━━━━━━━━\u001b[0m\u001b[37m\u001b[0m \u001b[1m0s\u001b[0m 30ms/step - accuracy: 0.3234 - loss: 1.1108 - val_accuracy: 0.2000 - val_loss: 0.9152\n",
            "Epoch 8/20\n",
            "\u001b[1m1/4\u001b[0m \u001b[32m━━━━━\u001b[0m\u001b[37m━━━━━━━━━━━━━━━\u001b[0m \u001b[1m0s\u001b[0m 34ms/step - accuracy: 0.4667 - loss: 0.7444\n",
            "Epoch 8: val_loss did not improve from 0.84105\n",
            "\u001b[1m4/4\u001b[0m \u001b[32m━━━━━━━━━━━━━━━━━━━━\u001b[0m\u001b[37m\u001b[0m \u001b[1m0s\u001b[0m 30ms/step - accuracy: 0.4532 - loss: 0.8506 - val_accuracy: 0.4000 - val_loss: 1.3665\n",
            "Epoch 8: early stopping\n",
            "Restoring model weights from the end of the best epoch: 5.\n"
          ]
        }
      ],
      "source": [
        "# Train the model with the callbacks\n",
        "history = custom_model.fit(X_train, y_train, epochs=20, batch_size=15, validation_split=0.2, callbacks=[early_stopping, model_checkpoint])"
      ]
    },
    {
      "cell_type": "code",
      "execution_count": null,
      "id": "7efdfb64-fa19-462a-8d18-4508cd5c02d8",
      "metadata": {
        "colab": {
          "base_uri": "https://localhost:8080/"
        },
        "id": "7efdfb64-fa19-462a-8d18-4508cd5c02d8",
        "outputId": "f9363614-b80a-4e1b-f97a-cf781e7dddef"
      },
      "outputs": [
        {
          "output_type": "stream",
          "name": "stdout",
          "text": [
            "\u001b[1m1/1\u001b[0m \u001b[32m━━━━━━━━━━━━━━━━━━━━\u001b[0m\u001b[37m\u001b[0m \u001b[1m0s\u001b[0m 263ms/step - accuracy: 0.3333 - loss: 0.8931\n",
            "Test loss, Test accuracy: 0.8930521011352539 0.3333333432674408\n"
          ]
        }
      ],
      "source": [
        "# Evaluate the model on the test set\n",
        "test_loss, test_acc = custom_model.evaluate(X_test, y_test)\n",
        "print('Test loss, Test accuracy:', test_loss, test_acc)"
      ]
    },
    {
      "cell_type": "code",
      "execution_count": null,
      "id": "29fb649c-5a18-4043-96f5-679be6dc6e0f",
      "metadata": {
        "colab": {
          "base_uri": "https://localhost:8080/"
        },
        "id": "29fb649c-5a18-4043-96f5-679be6dc6e0f",
        "outputId": "46acd45a-a599-44d0-f360-679ccefab00b"
      },
      "outputs": [
        {
          "output_type": "stream",
          "name": "stdout",
          "text": [
            "\u001b[1m1/1\u001b[0m \u001b[32m━━━━━━━━━━━━━━━━━━━━\u001b[0m\u001b[37m\u001b[0m \u001b[1m0s\u001b[0m 88ms/step\n",
            "Predictions shape: (18, 3)\n"
          ]
        }
      ],
      "source": [
        "# Make predictions on the testing set\n",
        "predictions = custom_model.predict(X_test)\n",
        "print('Predictions shape:', predictions.shape)"
      ]
    },
    {
      "cell_type": "code",
      "execution_count": null,
      "id": "6e75d539-67a1-4448-a627-18174487903e",
      "metadata": {
        "colab": {
          "base_uri": "https://localhost:8080/"
        },
        "id": "6e75d539-67a1-4448-a627-18174487903e",
        "outputId": "0aa3266c-16d3-4166-ae09-7561473e2992"
      },
      "outputs": [
        {
          "output_type": "stream",
          "name": "stdout",
          "text": [
            "Sum of probabilities for the first prediction: 1.0000001\n"
          ]
        }
      ],
      "source": [
        "# Check the sum of probabilities for the first prediction\n",
        "print('Sum of probabilities for the first prediction:', np.sum(predictions[0]))"
      ]
    },
    {
      "cell_type": "code",
      "execution_count": null,
      "id": "9bb6c360-c642-46fb-8813-8c52bffec481",
      "metadata": {
        "colab": {
          "base_uri": "https://localhost:8080/"
        },
        "id": "9bb6c360-c642-46fb-8813-8c52bffec481",
        "outputId": "9382bf41-c158-4c2a-eae2-85c34c84b60c"
      },
      "outputs": [
        {
          "output_type": "stream",
          "name": "stdout",
          "text": [
            "Class with the highest probability for the first prediction: 0\n"
          ]
        }
      ],
      "source": [
        "# Get the class with the highest probability for the first prediction\n",
        "print('Class with the highest probability for the first prediction:', np.argmax(predictions[0]))"
      ]
    },
    {
      "cell_type": "code",
      "execution_count": null,
      "id": "d68dbe98-1a27-49ce-bf3d-7aada3c1e181",
      "metadata": {
        "colab": {
          "base_uri": "https://localhost:8080/",
          "height": 472
        },
        "id": "d68dbe98-1a27-49ce-bf3d-7aada3c1e181",
        "outputId": "9795816a-df9d-48d4-beec-9891b7d175ee"
      },
      "outputs": [
        {
          "output_type": "display_data",
          "data": {
            "text/plain": [
              "<Figure size 640x480 with 1 Axes>"
            ],
            "image/png": "[encoded data removed]"
          },
          "metadata": {}
        }
      ],
      "source": [
        "# Plot training and validation loss\n",
        "loss = history.history['loss']\n",
        "val_loss = history.history['val_loss']\n",
        "epochs = range(1, len(loss) + 1)\n",
        "plt.plot(epochs, loss, 'r', label='Training loss')\n",
        "plt.plot(epochs, val_loss, 'b', label='Validation loss')\n",
        "plt.title('Training and validation loss')\n",
        "plt.xlabel('Epochs')\n",
        "plt.ylabel('Loss')\n",
        "plt.legend()\n",
        "plt.show()"
      ]
    },
    {
      "cell_type": "code",
      "execution_count": null,
      "id": "4bce8db7-fbaa-4c4c-9d51-4e1fe10a7590",
      "metadata": {
        "colab": {
          "base_uri": "https://localhost:8080/",
          "height": 472
        },
        "id": "4bce8db7-fbaa-4c4c-9d51-4e1fe10a7590",
        "outputId": "871fdebf-f570-4722-be0d-d9bd1a9c8ce1"
      },
      "outputs": [
        {
          "output_type": "display_data",
          "data": {
            "text/plain": [
              "<Figure size 640x480 with 1 Axes>"
            ],
            "image/png": "[encoded data removed]"
          },
          "metadata": {}
        }
      ],
      "source": [
        "# Plot training and validation accuracy\n",
        "plt.clf()\n",
        "acc = history.history['accuracy']\n",
        "val_acc = history.history['val_accuracy']\n",
        "plt.plot(epochs, acc, 'r', label='Training accuracy')\n",
        "plt.plot(epochs, val_acc, 'b', label='Validation accuracy')\n",
        "plt.title('Training and validation accuracy')\n",
        "plt.xlabel('Epochs')\n",
        "plt.ylabel('Accuracy')\n",
        "plt.legend()\n",
        "plt.show()"
      ]
    },
    {
      "cell_type": "code",
      "execution_count": null,
      "id": "1bbf661c-09c1-49a3-ab0f-57e2ea6140d7",
      "metadata": {
        "colab": {
          "base_uri": "https://localhost:8080/"
        },
        "id": "1bbf661c-09c1-49a3-ab0f-57e2ea6140d7",
        "outputId": "b4a2f312-ca04-44d8-d2d7-d86a016a2532"
      },
      "outputs": [
        {
          "output_type": "stream",
          "name": "stdout",
          "text": [
            "\u001b[1m1/1\u001b[0m \u001b[32m━━━━━━━━━━━━━━━━━━━━\u001b[0m\u001b[37m\u001b[0m \u001b[1m0s\u001b[0m 55ms/step - accuracy: 0.3333 - loss: 0.8931\n"
          ]
        }
      ],
      "source": [
        "results = custom_model.evaluate(X_test, y_test)"
      ]
    },
    {
      "cell_type": "code",
      "execution_count": null,
      "id": "011cf6ec-f04d-4743-b4f5-2096358454d5",
      "metadata": {
        "colab": {
          "base_uri": "https://localhost:8080/"
        },
        "id": "011cf6ec-f04d-4743-b4f5-2096358454d5",
        "outputId": "7d29a2c1-35e9-4b2a-c618-7610f3e0bd72"
      },
      "outputs": [
        {
          "output_type": "execute_result",
          "data": {
            "text/plain": [
              "[0.8930521011352539, 0.3333333432674408]"
            ]
          },
          "metadata": {},
          "execution_count": 338
        }
      ],
      "source": [
        "results"
      ]
    },
    {
      "cell_type": "code",
      "execution_count": null,
      "id": "77d8ffcc-06af-474c-9060-5756e30e29d1",
      "metadata": {
        "colab": {
          "base_uri": "https://localhost:8080/"
        },
        "id": "77d8ffcc-06af-474c-9060-5756e30e29d1",
        "outputId": "de18d884-6344-43c6-aa7b-b2304734b932"
      },
      "outputs": [
        {
          "output_type": "stream",
          "name": "stdout",
          "text": [
            "\u001b[1m1/1\u001b[0m \u001b[32m━━━━━━━━━━━━━━━━━━━━\u001b[0m\u001b[37m\u001b[0m \u001b[1m0s\u001b[0m 44ms/step\n"
          ]
        },
        {
          "output_type": "execute_result",
          "data": {
            "text/plain": [
              "(18, 3)"
            ]
          },
          "metadata": {},
          "execution_count": 339
        }
      ],
      "source": [
        "predictions = custom_model.predict(X_test)\n",
        "predictions.shape"
      ]
    },
    {
      "cell_type": "code",
      "execution_count": null,
      "id": "21c6d609-a05d-47cc-8a82-f1d707b14d45",
      "metadata": {
        "colab": {
          "base_uri": "https://localhost:8080/"
        },
        "id": "21c6d609-a05d-47cc-8a82-f1d707b14d45",
        "outputId": "9999dd1b-cf8f-4ba6-8ed7-693e7498afde"
      },
      "outputs": [
        {
          "output_type": "execute_result",
          "data": {
            "text/plain": [
              "np.float32(1.0000001)"
            ]
          },
          "metadata": {},
          "execution_count": 340
        }
      ],
      "source": [
        "np.sum(predictions[0])"
      ]
    },
    {
      "cell_type": "code",
      "execution_count": null,
      "id": "6d2a679b-219b-47c1-8d14-28f9a181bbaa",
      "metadata": {
        "colab": {
          "base_uri": "https://localhost:8080/"
        },
        "id": "6d2a679b-219b-47c1-8d14-28f9a181bbaa",
        "outputId": "f24b8614-17ad-4580-ff70-d205d4636865"
      },
      "outputs": [
        {
          "output_type": "execute_result",
          "data": {
            "text/plain": [
              "np.int64(0)"
            ]
          },
          "metadata": {},
          "execution_count": 341
        }
      ],
      "source": [
        "np.argmax(predictions[0])"
      ]
    },
    {
      "cell_type": "code",
      "execution_count": null,
      "id": "5b07aa2d-775b-4e3b-a9ca-6fd544a0cdb3",
      "metadata": {
        "id": "5b07aa2d-775b-4e3b-a9ca-6fd544a0cdb3"
      },
      "outputs": [],
      "source": []
    },
    {
      "cell_type": "code",
      "metadata": {
        "colab": {
          "base_uri": "https://localhost:8080/"
        },
        "id": "46d95466",
        "outputId": "707a961f-2a0a-470f-e130-9b1402a64e12"
      },
      "source": [
        "from PIL import Image\n",
        "\n",
        "# Load the image\n",
        "image_path = \"/content/Madhuca-longifolia (1).jpg\"\n",
        "img = Image.open(image_path)\n",
        "\n",
        "# Preprocess the image to match the input shape of the model\n",
        "# Assuming the model expects a 2D array of numerical features (Ratio, Angle)\n",
        "# You might need to extract these features from the image.\n",
        "# This is a placeholder for image feature extraction.\n",
        "# Replace this with your actual image processing code to get 'Ratio' and 'Angle'.\n",
        "# For example, if you are using a pre-trained model for feature extraction:\n",
        "# from tensorflow.keras.applications import VGG16\n",
        "# vgg_model = VGG16(weights='imagenet', include_top=False, input_shape=(224, 224, 3))\n",
        "# img = img.resize((224, 224))\n",
        "# img_array = np.expand_dims(np.array(img), axis=0)\n",
        "# image_features = vgg_model.predict(img_array)\n",
        "# X_new = np.array([[extracted_ratio, extracted_angle]])\n",
        "\n",
        "# For demonstration purposes, let's assume you have a function to extract features\n",
        "# from the image that returns a numpy array with shape (1, 2)\n",
        "# Replace this with your actual feature extraction\n",
        "def extract_features_from_image(image):\n",
        "  # Placeholder: Replace with actual feature extraction logic\n",
        "  # This should return a numpy array of shape (1, 2)\n",
        "  return np.array([[3.2, 72]]) # Example values\n",
        "\n",
        "X_new = extract_features_from_image(img)\n",
        "\n",
        "# Make a prediction using the trained model\n",
        "prediction = custom_model.predict(X_new)\n",
        "\n",
        "# Convert the prediction (one-hot encoded) to a class label\n",
        "predicted_class_index = np.argmax(prediction, axis=1)\n",
        "predicted_class_label = label_encoder.inverse_transform(predicted_class_index)\n",
        "\n",
        "print(\"Predicted tree species:\", predicted_class_label[0])"
      ],
      "id": "46d95466",
      "execution_count": null,
      "outputs": [
        {
          "output_type": "stream",
          "name": "stdout",
          "text": [
            "\u001b[1m1/1\u001b[0m \u001b[32m━━━━━━━━━━━━━━━━━━━━\u001b[0m\u001b[37m\u001b[0m \u001b[1m0s\u001b[0m 87ms/step\n",
            "Predicted tree species: Madhuca Longifolia\n"
          ]
        }
      ]
    }
  ],
  "metadata": {
    "kernelspec": {
      "display_name": "Python 3",
      "language": "python",
      "name": "python3"
    },
    "language_info": {
      "codemirror_mode": {
        "name": "ipython",
        "version": 3
      },
      "file_extension": ".py",
      "mimetype": "text/x-python",
      "name": "python",
      "nbconvert_exporter": "python",
      "pygments_lexer": "ipython3",
      "version": "3.12.7"
    },
    "colab": {
      "provenance": [],
      "include_colab_link": true
    }
  },
  "nbformat": 4,
  "nbformat_minor": 5
}